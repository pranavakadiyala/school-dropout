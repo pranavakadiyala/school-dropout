{
 "cells": [
  {
   "cell_type": "markdown",
   "id": "61d96109",
   "metadata": {},
   "source": [
    "## Project Title: Understanding graduation rates to student success and professional development\n",
    "\n",
    "### Team Number: 11\n",
    "### Team Members: \n",
    "- Pranava Kadiyala (pskadiya@andrew.cmu.edu)\n",
    "- Matthew Wu (mrw2@andrew.cmu.edu)\n",
    "- Hiba Hassan (hibah@andrew.cmu.edu)\n",
    "\n",
    "### Target Variable: X3EVERDROP - a binary variable indicating whether the sample member ever dropped out of high school.\n",
    "0 - Never dropped out\n",
    "1 - Dropped out atleast once\n",
    "\n",
    "### Question: How can we identify the key factors that influence drop out rates in a high school setting using classification machine learning techniques? "
   ]
  },
  {
   "cell_type": "code",
   "execution_count": 1,
   "id": "2cc313c9",
   "metadata": {},
   "outputs": [],
   "source": [
    "#Importing relevant libraries\n",
    "import numpy as np\n",
    "import pandas as pd\n",
    "import seaborn as sns\n",
    "from matplotlib import pyplot as plt\n",
    "from sklearn.metrics import mean_squared_error\n",
    "from sklearn.preprocessing import PolynomialFeatures\n",
    "from sklearn.preprocessing import StandardScaler\n",
    "from sklearn.preprocessing import RobustScaler\n",
    "from sklearn.model_selection import train_test_split, LeaveOneOut, KFold, cross_val_score\n",
    "from sklearn.linear_model import Ridge, RidgeCV, Lasso, LassoCV\n",
    "from sklearn import metrics\n",
    "from sklearn.metrics import r2_score \n",
    "import time\n",
    "from sklearn.feature_selection import SequentialFeatureSelector\n",
    "\n",
    "from sklearn.preprocessing import LabelEncoder, OrdinalEncoder\n",
    "\n",
    "from sklearn.linear_model import LogisticRegression\n",
    "from sklearn.neighbors import KNeighborsClassifier\n",
    "\n",
    "from sklearn.metrics import roc_auc_score, roc_curve\n",
    "from sklearn.metrics import mean_squared_error, confusion_matrix, ConfusionMatrixDisplay, classification_report\n",
    "from sklearn.utils import resample\n",
    "\n",
    "from imblearn.over_sampling import SMOTE, RandomOverSampler\n",
    "\n",
    "from sklearn.ensemble import RandomForestClassifier, GradientBoostingClassifier\n",
    "\n",
    "from sklearn.feature_selection import SelectFromModel\n",
    "\n",
    "from sklearn.model_selection import GridSearchCV\n",
    "\n",
    "from sklearn.preprocessing import OrdinalEncoder\n",
    "\n",
    "from sklearn.pipeline import Pipeline\n",
    "\n",
    "%matplotlib inline"
   ]
  },
  {
   "cell_type": "markdown",
   "id": "a497a24c",
   "metadata": {},
   "source": [
    "---\n",
    "## Outline\n",
    "\n",
    "- Data Processing\n",
    "- Feature Engineering and Feature Selection\n",
    "- Model Tuning, Validation and Selection\n",
    "- Feature Importance \n",
    "- Visualizations and Answering the Question"
   ]
  },
  {
   "cell_type": "markdown",
   "id": "61b80a71",
   "metadata": {},
   "source": [
    "---\n",
    "## Data Processing"
   ]
  },
  {
   "cell_type": "code",
   "execution_count": 2,
   "id": "0550352b",
   "metadata": {},
   "outputs": [],
   "source": [
    "seed = 4"
   ]
  },
  {
   "cell_type": "code",
   "execution_count": 3,
   "id": "660c53d6",
   "metadata": {},
   "outputs": [
    {
     "data": {
      "text/html": [
       "<div>\n",
       "<style scoped>\n",
       "    .dataframe tbody tr th:only-of-type {\n",
       "        vertical-align: middle;\n",
       "    }\n",
       "\n",
       "    .dataframe tbody tr th {\n",
       "        vertical-align: top;\n",
       "    }\n",
       "\n",
       "    .dataframe thead th {\n",
       "        text-align: right;\n",
       "    }\n",
       "</style>\n",
       "<table border=\"1\" class=\"dataframe\">\n",
       "  <thead>\n",
       "    <tr style=\"text-align: right;\">\n",
       "      <th></th>\n",
       "      <th>STU_ID</th>\n",
       "      <th>X2UNIV1</th>\n",
       "      <th>X2UNIV2A</th>\n",
       "      <th>X2UNIV2B</th>\n",
       "      <th>X3UNIV1</th>\n",
       "      <th>X4UNIV1</th>\n",
       "      <th>W1STUDENT</th>\n",
       "      <th>W2STUDENT</th>\n",
       "      <th>W3STUDENT</th>\n",
       "      <th>W4STUDENT</th>\n",
       "      <th>...</th>\n",
       "      <th>S2MUSIC</th>\n",
       "      <th>S2ART</th>\n",
       "      <th>S2DRAMA</th>\n",
       "      <th>S2SPORTS</th>\n",
       "      <th>S2CLUB</th>\n",
       "      <th>S2ACADEMIC</th>\n",
       "      <th>S3HSCRED</th>\n",
       "      <th>S3FOCUS</th>\n",
       "      <th>S3CLGFT</th>\n",
       "      <th>S3WORKFT</th>\n",
       "    </tr>\n",
       "  </thead>\n",
       "  <tbody>\n",
       "    <tr>\n",
       "      <th>0</th>\n",
       "      <td>10001</td>\n",
       "      <td>11</td>\n",
       "      <td>1</td>\n",
       "      <td>1</td>\n",
       "      <td>1111</td>\n",
       "      <td>11111</td>\n",
       "      <td>375.667105</td>\n",
       "      <td>365.607062</td>\n",
       "      <td>392.215779</td>\n",
       "      <td>466.860846</td>\n",
       "      <td>...</td>\n",
       "      <td>0</td>\n",
       "      <td>1</td>\n",
       "      <td>0</td>\n",
       "      <td>1</td>\n",
       "      <td>1</td>\n",
       "      <td>0</td>\n",
       "      <td>1</td>\n",
       "      <td>1</td>\n",
       "      <td>1</td>\n",
       "      <td>-6</td>\n",
       "    </tr>\n",
       "    <tr>\n",
       "      <th>1</th>\n",
       "      <td>10002</td>\n",
       "      <td>11</td>\n",
       "      <td>1</td>\n",
       "      <td>1</td>\n",
       "      <td>1111</td>\n",
       "      <td>11111</td>\n",
       "      <td>189.309446</td>\n",
       "      <td>196.338045</td>\n",
       "      <td>236.571468</td>\n",
       "      <td>254.811585</td>\n",
       "      <td>...</td>\n",
       "      <td>1</td>\n",
       "      <td>0</td>\n",
       "      <td>0</td>\n",
       "      <td>0</td>\n",
       "      <td>0</td>\n",
       "      <td>0</td>\n",
       "      <td>1</td>\n",
       "      <td>1</td>\n",
       "      <td>1</td>\n",
       "      <td>2</td>\n",
       "    </tr>\n",
       "    <tr>\n",
       "      <th>2</th>\n",
       "      <td>10003</td>\n",
       "      <td>11</td>\n",
       "      <td>1</td>\n",
       "      <td>1</td>\n",
       "      <td>1111</td>\n",
       "      <td>11111</td>\n",
       "      <td>143.591863</td>\n",
       "      <td>137.678887</td>\n",
       "      <td>148.736833</td>\n",
       "      <td>156.626153</td>\n",
       "      <td>...</td>\n",
       "      <td>0</td>\n",
       "      <td>0</td>\n",
       "      <td>0</td>\n",
       "      <td>1</td>\n",
       "      <td>0</td>\n",
       "      <td>0</td>\n",
       "      <td>1</td>\n",
       "      <td>1</td>\n",
       "      <td>1</td>\n",
       "      <td>2</td>\n",
       "    </tr>\n",
       "    <tr>\n",
       "      <th>3</th>\n",
       "      <td>10005</td>\n",
       "      <td>11</td>\n",
       "      <td>1</td>\n",
       "      <td>1</td>\n",
       "      <td>1111</td>\n",
       "      <td>11111</td>\n",
       "      <td>145.019401</td>\n",
       "      <td>134.566242</td>\n",
       "      <td>152.708389</td>\n",
       "      <td>148.440875</td>\n",
       "      <td>...</td>\n",
       "      <td>1</td>\n",
       "      <td>1</td>\n",
       "      <td>0</td>\n",
       "      <td>0</td>\n",
       "      <td>0</td>\n",
       "      <td>0</td>\n",
       "      <td>1</td>\n",
       "      <td>-8</td>\n",
       "      <td>3</td>\n",
       "      <td>-8</td>\n",
       "    </tr>\n",
       "    <tr>\n",
       "      <th>4</th>\n",
       "      <td>10006</td>\n",
       "      <td>11</td>\n",
       "      <td>1</td>\n",
       "      <td>1</td>\n",
       "      <td>1111</td>\n",
       "      <td>11110</td>\n",
       "      <td>56.347833</td>\n",
       "      <td>56.495653</td>\n",
       "      <td>64.969992</td>\n",
       "      <td>0.000000</td>\n",
       "      <td>...</td>\n",
       "      <td>1</td>\n",
       "      <td>0</td>\n",
       "      <td>0</td>\n",
       "      <td>1</td>\n",
       "      <td>1</td>\n",
       "      <td>0</td>\n",
       "      <td>1</td>\n",
       "      <td>1</td>\n",
       "      <td>1</td>\n",
       "      <td>-6</td>\n",
       "    </tr>\n",
       "  </tbody>\n",
       "</table>\n",
       "<p>5 rows × 214 columns</p>\n",
       "</div>"
      ],
      "text/plain": [
       "   STU_ID  X2UNIV1  X2UNIV2A  X2UNIV2B  X3UNIV1  X4UNIV1   W1STUDENT  \\\n",
       "0   10001       11         1         1     1111    11111  375.667105   \n",
       "1   10002       11         1         1     1111    11111  189.309446   \n",
       "2   10003       11         1         1     1111    11111  143.591863   \n",
       "3   10005       11         1         1     1111    11111  145.019401   \n",
       "4   10006       11         1         1     1111    11110   56.347833   \n",
       "\n",
       "    W2STUDENT   W3STUDENT   W4STUDENT  ...  S2MUSIC  S2ART  S2DRAMA  S2SPORTS  \\\n",
       "0  365.607062  392.215779  466.860846  ...        0      1        0         1   \n",
       "1  196.338045  236.571468  254.811585  ...        1      0        0         0   \n",
       "2  137.678887  148.736833  156.626153  ...        0      0        0         1   \n",
       "3  134.566242  152.708389  148.440875  ...        1      1        0         0   \n",
       "4   56.495653   64.969992    0.000000  ...        1      0        0         1   \n",
       "\n",
       "   S2CLUB  S2ACADEMIC  S3HSCRED  S3FOCUS  S3CLGFT  S3WORKFT  \n",
       "0       1           0         1        1        1        -6  \n",
       "1       0           0         1        1        1         2  \n",
       "2       0           0         1        1        1         2  \n",
       "3       0           0         1       -8        3        -8  \n",
       "4       1           0         1        1        1        -6  \n",
       "\n",
       "[5 rows x 214 columns]"
      ]
     },
     "execution_count": 3,
     "metadata": {},
     "output_type": "execute_result"
    }
   ],
   "source": [
    "df = pd.read_csv(\"data/hsls_17_students_clean.csv\")\n",
    "df.head()"
   ]
  },
  {
   "cell_type": "code",
   "execution_count": 4,
   "id": "96b2b184",
   "metadata": {},
   "outputs": [
    {
     "data": {
      "text/plain": [
       "(17762, 214)"
      ]
     },
     "execution_count": 4,
     "metadata": {},
     "output_type": "execute_result"
    }
   ],
   "source": [
    "df.shape"
   ]
  },
  {
   "cell_type": "code",
   "execution_count": 5,
   "id": "515d9c63",
   "metadata": {},
   "outputs": [
    {
     "data": {
      "text/html": [
       "<div>\n",
       "<style scoped>\n",
       "    .dataframe tbody tr th:only-of-type {\n",
       "        vertical-align: middle;\n",
       "    }\n",
       "\n",
       "    .dataframe tbody tr th {\n",
       "        vertical-align: top;\n",
       "    }\n",
       "\n",
       "    .dataframe thead th {\n",
       "        text-align: right;\n",
       "    }\n",
       "</style>\n",
       "<table border=\"1\" class=\"dataframe\">\n",
       "  <thead>\n",
       "    <tr style=\"text-align: right;\">\n",
       "      <th></th>\n",
       "      <th>STU_ID</th>\n",
       "      <th>X2UNIV1</th>\n",
       "      <th>X2UNIV2A</th>\n",
       "      <th>X2UNIV2B</th>\n",
       "      <th>X3UNIV1</th>\n",
       "      <th>X4UNIV1</th>\n",
       "      <th>W1STUDENT</th>\n",
       "      <th>W2STUDENT</th>\n",
       "      <th>W3STUDENT</th>\n",
       "      <th>W4STUDENT</th>\n",
       "      <th>...</th>\n",
       "      <th>S2MUSIC</th>\n",
       "      <th>S2ART</th>\n",
       "      <th>S2DRAMA</th>\n",
       "      <th>S2SPORTS</th>\n",
       "      <th>S2CLUB</th>\n",
       "      <th>S2ACADEMIC</th>\n",
       "      <th>S3HSCRED</th>\n",
       "      <th>S3FOCUS</th>\n",
       "      <th>S3CLGFT</th>\n",
       "      <th>S3WORKFT</th>\n",
       "    </tr>\n",
       "  </thead>\n",
       "  <tbody>\n",
       "    <tr>\n",
       "      <th>count</th>\n",
       "      <td>17762.000000</td>\n",
       "      <td>17762.0</td>\n",
       "      <td>17762.0</td>\n",
       "      <td>17762.000000</td>\n",
       "      <td>17762.000000</td>\n",
       "      <td>17762.000000</td>\n",
       "      <td>17762.000000</td>\n",
       "      <td>17762.000000</td>\n",
       "      <td>17762.000000</td>\n",
       "      <td>17762.000000</td>\n",
       "      <td>...</td>\n",
       "      <td>17762.000000</td>\n",
       "      <td>17762.000000</td>\n",
       "      <td>17762.000000</td>\n",
       "      <td>17762.000000</td>\n",
       "      <td>17762.000000</td>\n",
       "      <td>17762.000000</td>\n",
       "      <td>17762.000000</td>\n",
       "      <td>17762.000000</td>\n",
       "      <td>17762.000000</td>\n",
       "      <td>17762.000000</td>\n",
       "    </tr>\n",
       "    <tr>\n",
       "      <th>mean</th>\n",
       "      <td>22578.518748</td>\n",
       "      <td>11.0</td>\n",
       "      <td>1.0</td>\n",
       "      <td>1.220358</td>\n",
       "      <td>1109.438971</td>\n",
       "      <td>11095.173122</td>\n",
       "      <td>190.222035</td>\n",
       "      <td>203.206360</td>\n",
       "      <td>187.295879</td>\n",
       "      <td>181.591837</td>\n",
       "      <td>...</td>\n",
       "      <td>0.186803</td>\n",
       "      <td>0.005123</td>\n",
       "      <td>-0.064407</td>\n",
       "      <td>0.319390</td>\n",
       "      <td>-0.013399</td>\n",
       "      <td>-0.055962</td>\n",
       "      <td>-0.432159</td>\n",
       "      <td>0.646211</td>\n",
       "      <td>-1.780430</td>\n",
       "      <td>-3.950738</td>\n",
       "    </tr>\n",
       "    <tr>\n",
       "      <th>std</th>\n",
       "      <td>7264.179821</td>\n",
       "      <td>0.0</td>\n",
       "      <td>0.0</td>\n",
       "      <td>0.869554</td>\n",
       "      <td>3.603062</td>\n",
       "      <td>36.151704</td>\n",
       "      <td>236.493154</td>\n",
       "      <td>261.653481</td>\n",
       "      <td>272.106049</td>\n",
       "      <td>289.624357</td>\n",
       "      <td>...</td>\n",
       "      <td>1.294664</td>\n",
       "      <td>1.320677</td>\n",
       "      <td>1.317343</td>\n",
       "      <td>1.330416</td>\n",
       "      <td>1.421774</td>\n",
       "      <td>1.259665</td>\n",
       "      <td>3.207154</td>\n",
       "      <td>4.633756</td>\n",
       "      <td>3.930837</td>\n",
       "      <td>4.101301</td>\n",
       "    </tr>\n",
       "    <tr>\n",
       "      <th>min</th>\n",
       "      <td>10001.000000</td>\n",
       "      <td>11.0</td>\n",
       "      <td>1.0</td>\n",
       "      <td>1.000000</td>\n",
       "      <td>1100.000000</td>\n",
       "      <td>11000.000000</td>\n",
       "      <td>1.815257</td>\n",
       "      <td>1.978904</td>\n",
       "      <td>0.000000</td>\n",
       "      <td>0.000000</td>\n",
       "      <td>...</td>\n",
       "      <td>-8.000000</td>\n",
       "      <td>-8.000000</td>\n",
       "      <td>-8.000000</td>\n",
       "      <td>-8.000000</td>\n",
       "      <td>-8.000000</td>\n",
       "      <td>-8.000000</td>\n",
       "      <td>-8.000000</td>\n",
       "      <td>-8.000000</td>\n",
       "      <td>-8.000000</td>\n",
       "      <td>-8.000000</td>\n",
       "    </tr>\n",
       "    <tr>\n",
       "      <th>25%</th>\n",
       "      <td>16318.250000</td>\n",
       "      <td>11.0</td>\n",
       "      <td>1.0</td>\n",
       "      <td>1.000000</td>\n",
       "      <td>1111.000000</td>\n",
       "      <td>11110.000000</td>\n",
       "      <td>61.758569</td>\n",
       "      <td>65.694851</td>\n",
       "      <td>35.597093</td>\n",
       "      <td>19.081485</td>\n",
       "      <td>...</td>\n",
       "      <td>0.000000</td>\n",
       "      <td>0.000000</td>\n",
       "      <td>0.000000</td>\n",
       "      <td>0.000000</td>\n",
       "      <td>0.000000</td>\n",
       "      <td>0.000000</td>\n",
       "      <td>1.000000</td>\n",
       "      <td>1.000000</td>\n",
       "      <td>-6.000000</td>\n",
       "      <td>-8.000000</td>\n",
       "    </tr>\n",
       "    <tr>\n",
       "      <th>50%</th>\n",
       "      <td>22554.500000</td>\n",
       "      <td>11.0</td>\n",
       "      <td>1.0</td>\n",
       "      <td>1.000000</td>\n",
       "      <td>1111.000000</td>\n",
       "      <td>11111.000000</td>\n",
       "      <td>132.599622</td>\n",
       "      <td>138.692509</td>\n",
       "      <td>118.996259</td>\n",
       "      <td>106.051859</td>\n",
       "      <td>...</td>\n",
       "      <td>0.000000</td>\n",
       "      <td>0.000000</td>\n",
       "      <td>0.000000</td>\n",
       "      <td>0.000000</td>\n",
       "      <td>0.000000</td>\n",
       "      <td>0.000000</td>\n",
       "      <td>1.000000</td>\n",
       "      <td>1.000000</td>\n",
       "      <td>1.000000</td>\n",
       "      <td>-6.000000</td>\n",
       "    </tr>\n",
       "    <tr>\n",
       "      <th>75%</th>\n",
       "      <td>28853.750000</td>\n",
       "      <td>11.0</td>\n",
       "      <td>1.0</td>\n",
       "      <td>1.000000</td>\n",
       "      <td>1111.000000</td>\n",
       "      <td>11111.000000</td>\n",
       "      <td>235.898775</td>\n",
       "      <td>253.731089</td>\n",
       "      <td>249.637380</td>\n",
       "      <td>246.301235</td>\n",
       "      <td>...</td>\n",
       "      <td>1.000000</td>\n",
       "      <td>0.000000</td>\n",
       "      <td>0.000000</td>\n",
       "      <td>1.000000</td>\n",
       "      <td>0.000000</td>\n",
       "      <td>0.000000</td>\n",
       "      <td>1.000000</td>\n",
       "      <td>3.000000</td>\n",
       "      <td>1.000000</td>\n",
       "      <td>1.000000</td>\n",
       "    </tr>\n",
       "    <tr>\n",
       "      <th>max</th>\n",
       "      <td>35206.000000</td>\n",
       "      <td>11.0</td>\n",
       "      <td>1.0</td>\n",
       "      <td>6.000000</td>\n",
       "      <td>1111.000000</td>\n",
       "      <td>11111.000000</td>\n",
       "      <td>5500.479620</td>\n",
       "      <td>6613.912053</td>\n",
       "      <td>7217.880632</td>\n",
       "      <td>7891.911402</td>\n",
       "      <td>...</td>\n",
       "      <td>1.000000</td>\n",
       "      <td>1.000000</td>\n",
       "      <td>1.000000</td>\n",
       "      <td>1.000000</td>\n",
       "      <td>1.000000</td>\n",
       "      <td>1.000000</td>\n",
       "      <td>1.000000</td>\n",
       "      <td>8.000000</td>\n",
       "      <td>3.000000</td>\n",
       "      <td>2.000000</td>\n",
       "    </tr>\n",
       "  </tbody>\n",
       "</table>\n",
       "<p>8 rows × 214 columns</p>\n",
       "</div>"
      ],
      "text/plain": [
       "             STU_ID  X2UNIV1  X2UNIV2A      X2UNIV2B       X3UNIV1  \\\n",
       "count  17762.000000  17762.0   17762.0  17762.000000  17762.000000   \n",
       "mean   22578.518748     11.0       1.0      1.220358   1109.438971   \n",
       "std     7264.179821      0.0       0.0      0.869554      3.603062   \n",
       "min    10001.000000     11.0       1.0      1.000000   1100.000000   \n",
       "25%    16318.250000     11.0       1.0      1.000000   1111.000000   \n",
       "50%    22554.500000     11.0       1.0      1.000000   1111.000000   \n",
       "75%    28853.750000     11.0       1.0      1.000000   1111.000000   \n",
       "max    35206.000000     11.0       1.0      6.000000   1111.000000   \n",
       "\n",
       "            X4UNIV1     W1STUDENT     W2STUDENT     W3STUDENT     W4STUDENT  \\\n",
       "count  17762.000000  17762.000000  17762.000000  17762.000000  17762.000000   \n",
       "mean   11095.173122    190.222035    203.206360    187.295879    181.591837   \n",
       "std       36.151704    236.493154    261.653481    272.106049    289.624357   \n",
       "min    11000.000000      1.815257      1.978904      0.000000      0.000000   \n",
       "25%    11110.000000     61.758569     65.694851     35.597093     19.081485   \n",
       "50%    11111.000000    132.599622    138.692509    118.996259    106.051859   \n",
       "75%    11111.000000    235.898775    253.731089    249.637380    246.301235   \n",
       "max    11111.000000   5500.479620   6613.912053   7217.880632   7891.911402   \n",
       "\n",
       "       ...       S2MUSIC         S2ART       S2DRAMA      S2SPORTS  \\\n",
       "count  ...  17762.000000  17762.000000  17762.000000  17762.000000   \n",
       "mean   ...      0.186803      0.005123     -0.064407      0.319390   \n",
       "std    ...      1.294664      1.320677      1.317343      1.330416   \n",
       "min    ...     -8.000000     -8.000000     -8.000000     -8.000000   \n",
       "25%    ...      0.000000      0.000000      0.000000      0.000000   \n",
       "50%    ...      0.000000      0.000000      0.000000      0.000000   \n",
       "75%    ...      1.000000      0.000000      0.000000      1.000000   \n",
       "max    ...      1.000000      1.000000      1.000000      1.000000   \n",
       "\n",
       "             S2CLUB    S2ACADEMIC      S3HSCRED       S3FOCUS       S3CLGFT  \\\n",
       "count  17762.000000  17762.000000  17762.000000  17762.000000  17762.000000   \n",
       "mean      -0.013399     -0.055962     -0.432159      0.646211     -1.780430   \n",
       "std        1.421774      1.259665      3.207154      4.633756      3.930837   \n",
       "min       -8.000000     -8.000000     -8.000000     -8.000000     -8.000000   \n",
       "25%        0.000000      0.000000      1.000000      1.000000     -6.000000   \n",
       "50%        0.000000      0.000000      1.000000      1.000000      1.000000   \n",
       "75%        0.000000      0.000000      1.000000      3.000000      1.000000   \n",
       "max        1.000000      1.000000      1.000000      8.000000      3.000000   \n",
       "\n",
       "           S3WORKFT  \n",
       "count  17762.000000  \n",
       "mean      -3.950738  \n",
       "std        4.101301  \n",
       "min       -8.000000  \n",
       "25%       -8.000000  \n",
       "50%       -6.000000  \n",
       "75%        1.000000  \n",
       "max        2.000000  \n",
       "\n",
       "[8 rows x 214 columns]"
      ]
     },
     "execution_count": 5,
     "metadata": {},
     "output_type": "execute_result"
    }
   ],
   "source": [
    "df.describe()"
   ]
  },
  {
   "cell_type": "markdown",
   "id": "a4354422",
   "metadata": {},
   "source": [
    "For analysisng X3EVERDROP we drop variables from later rounds. Our main objective is to model data for the future occurance of dropout from current data - hence for this purpose we will not use future data"
   ]
  },
  {
   "cell_type": "code",
   "execution_count": 6,
   "id": "cc813aa5",
   "metadata": {},
   "outputs": [],
   "source": [
    "# Removing X4 X5 Vars\n",
    "x4x5 = []\n",
    "for c in df.columns:\n",
    "    if c[:2] == 'X4' or c[:2] == 'X5' or c[:2] == 'W4':\n",
    "        x4x5.append(c)\n",
    "df = df.drop(x4x5, axis=1)\n"
   ]
  },
  {
   "cell_type": "code",
   "execution_count": 7,
   "id": "4300d205",
   "metadata": {},
   "outputs": [],
   "source": [
    "columns = df.columns.tolist()"
   ]
  },
  {
   "cell_type": "code",
   "execution_count": 8,
   "id": "813cd20d",
   "metadata": {},
   "outputs": [],
   "source": [
    "#Generating the list of tracking variables so that they are not included in the feature list used for modelling.\n",
    "track_type = ['STU_ID', 'X2UNIV1', 'X2UNIV2A', 'X2UNIV2B', 'X3UNIV1', 'W1STUDENT', 'W2STUDENT', 'W3STUDENT',\n",
    "              'X1TESTSTAT', 'X1SQSTAT', 'X2TESTSTAT', 'X2SQSTAT', 'X3SQSTAT']"
   ]
  },
  {
   "cell_type": "code",
   "execution_count": 9,
   "id": "dfac8ab1",
   "metadata": {},
   "outputs": [],
   "source": [
    "#columns without tracking variables\n",
    "col_no_track = list(set(columns) - set(track_type))"
   ]
  },
  {
   "cell_type": "code",
   "execution_count": 10,
   "id": "88a0c8a4",
   "metadata": {},
   "outputs": [],
   "source": [
    "#Generating the list categorical variables in the new data frame\n",
    "\n",
    "cat_type = ['X1SEX', 'X1RACE', 'X1STU30OCC_STEM1', 'X2STU30OCC_STEM1', 'X1CONTROL', 'X2CONTROL', 'X3CONTROL', \n",
    "            'X1LOCALE', 'X2LOCALE', 'X3LOCALE', 'X1REGION', 'X2REGION', 'X3REGION', 'X2ENROLSTAT',  'X2DROPSTAT', 'X2EVERDROP', \n",
    "            'X3DROPOUTTIME', 'X3DROPSTAT', 'X3EVERDROP', 'X3PROGLEVEL', 'X3CLGANDWORK', 'X3EVERGED', 'X3HSCOMPSTAT', 'X4HSCOMPSTAT',\n",
    "           'X3ELLSTATUS','X4HSCOMPSTAT','X4EVRTRANSHS_R','X4EVRAPPCLG','X4PS1SELECT','X4REFDEGTYPE','X4PSENRSTLV',\n",
    "            'X4RFDGCOMP','X4INCOMECAT','X4HSCLGCRED','X4REFSECTOR',\n",
    "            'X4PS1DEGTYPE1','X4PSLFSTFB16','X4OCCFB2','X5LASTENR16','X5STEMCRED','X5PS1SEC',\n",
    "            'X4EVERGED','X4EVR2YPUB','X4REFLEVEL','X4FB16ENRSTAT','X4RFDGMJSTEM','X4OCCFBSTEM1',\n",
    "            'X5CTECRED','X4GEDPASSED','X4ATNDCLG16FB','X4PS1SECTOR','X4REFSELECT','X4ATPRLVLA','X4RFDGMJ123',\n",
    "            'X4OCC30RELATE','X5PS1SLC','X4SQSTAT','X4EVERDROP','X4PS1LEVEL','X4ATNDCLG16FB','X4PS1LEVEL','X4REFDEGTYPE','X4PSENRSTLV','X4RFDGCOMP','X4INCOMECAT',\n",
    "            'X4PS1SELECT','X4PS1DEGTYPE1','X4PSLFSTFB16','X4OCCFB2','X5LASTENR16','X5STEMCRED','X4EVERDROP','X4EVRAPPCLG','X4REFSECTOR',\n",
    "            'X4FB16ENRSTAT','X4OCCFBSTEM1','X5CTECRED','X4EVRTRANSHS_R','X4REFLEVEL','X4ATPRLVLA','X4OCC30RELATE',\n",
    "            'X5PS1SLC','X4HSCLGCRED','X4EVR2YPUB','X4PS1SECTOR','X4REFSELECT','X5PS1SEC','X5PFYSEC','X4ATNDCLG16FB',\n",
    "            'X4PS1LEVEL','X4REFDEGTYPE','X4PSENRSTLV','X4RFDGCOMP','X4GEDPASSED','X4PS1SELECT','X4PS1DEGTYPE1','X4OCCFB2','X5STEMCRED','X4REFSECTOR',\n",
    "            'X4OCCFBSTEM1','X5CTECRED','X4REFLEVEL','X4ATPRLVLA','X4OCC30RELATE','X4PS1SECTOR','X4REFSELECT',\n",
    "            'X5LASTENR16','X5STEMCRED','X5CTECRED','X5PS1SLC','X5PS1SEC', 'X5SRRESP', 'X5PFYSLC', 'X5PFYDEGREE', 'X5PFYDEGREE', 'S1FAVSUBJ', 'S2GRD1112',\n",
    "           'S2PASSGRADE', 'S2EDUEXP', 'S2CLG2013', 'S2FOCUS2013', 'S2CLGFT2013', 'S2AFFOCCTRN', 'S2AFF2YPUB', 'S2AFF4YIN', 'S2AFF4YOUT', 'S2AFF4YPRV', 'S2AFF4YSEL',\n",
    "           'S2NEVERCLG', 'S2CANTAFFORD', 'S2MUSIC', 'S2ART', 'S2DRAMA', 'S2SPORTS', 'S2CLUB', 'S2ACADEMIC', 'S3HSCRED', 'S3FOCUS', 'S3CLGFT', 'S3WORKFT', \n",
    "            'S2SUREDIPL', 'S2INSCHSUSP', 'S1S8', 'S1HRWORK', 'S1WEBINFO', 'S1SUREHSGRAD', 'S1SCHWASTE', 'X1HHNUMBER',\n",
    "           'X2HHNUMBER', 'X1PAREDEXPCT', 'X2PAREDEXPCT', 'X2STUEDEXPCT', 'X1STUEDEXPCT', 'S1M8', 'S1SAFE', 'S2SATNUM',\n",
    "           'S1HRACTIVITY', 'S2ARRESTED', 'S1GOODGRADES', 'S1M8GRADE', 'S1S8GRADE', 'S2SCHWASTE']\n",
    "\n",
    "\n",
    "cat_type_x4x5 = []\n",
    "for c in cat_type:\n",
    "    if c[:2] == 'X4' or c[:2] == 'X5' or c[:2] == 'S4' or c[:2] == 'S5':\n",
    "        cat_type_x4x5.append(c)\n",
    "cat_type_x1x2x3 = list(set(cat_type)-set(cat_type_x4x5))\n",
    "\n",
    "#For the classification task, I am also interested in  how the panel 1 and panel 2 impact the classification, \n",
    "#generating alist of X3 categorical variables that I will not include in the model\n",
    "cat_type_x3 = []\n",
    "for c in cat_type:\n",
    "    if c[:2] == 'X3' or c[:2] == 'S3':\n",
    "        cat_type_x3.append(c)\n",
    "cat_type_x1x2 = list(set(cat_type_x1x2x3)-set(cat_type_x3))\n",
    "\n"
   ]
  },
  {
   "cell_type": "code",
   "execution_count": 11,
   "id": "97991897",
   "metadata": {},
   "outputs": [],
   "source": [
    "#Generating the list of numerical variables in the new data frame\n",
    "num_type_x1x2x3 = list(set(col_no_track)-set(cat_type_x1x2x3))\n",
    "\n",
    "                       \n",
    "num_type_x3 = []\n",
    "for c in num_type_x1x2x3:\n",
    "    if c[:2] == 'X3' or c[:2] == 'S3':\n",
    "        num_type_x3.append(c)\n",
    "\n",
    "num_type_x1x2 = list(set(num_type_x1x2x3)-set(num_type_x3))"
   ]
  },
  {
   "cell_type": "code",
   "execution_count": 12,
   "id": "6a9d83e9",
   "metadata": {},
   "outputs": [],
   "source": [
    "features = pd.concat([df[cat_type_x1x2], df[num_type_x1x2]], axis=1)"
   ]
  },
  {
   "cell_type": "markdown",
   "id": "e8ada3bd",
   "metadata": {},
   "source": [
    "I am using only variables from the first two panels. 1st panel data was collected in 2009 and 2nd panel was on 2012."
   ]
  },
  {
   "cell_type": "code",
   "execution_count": 13,
   "id": "166d72c9",
   "metadata": {
    "scrolled": true
   },
   "outputs": [
    {
     "name": "stdout",
     "output_type": "stream",
     "text": [
      "<class 'pandas.core.frame.DataFrame'>\n",
      "RangeIndex: 17762 entries, 0 to 17761\n",
      "Data columns (total 56 columns):\n",
      " #   Column            Non-Null Count  Dtype   \n",
      "---  ------            --------------  -----   \n",
      " 0   X1STU30OCC_STEM1  17762 non-null  category\n",
      " 1   S2PASSGRADE       17762 non-null  category\n",
      " 2   S2AFFOCCTRN       17762 non-null  category\n",
      " 3   S2FOCUS2013       17762 non-null  category\n",
      " 4   S2AFF4YSEL        17762 non-null  category\n",
      " 5   X1HHNUMBER        17762 non-null  category\n",
      " 6   X2HHNUMBER        17762 non-null  category\n",
      " 7   S1FAVSUBJ         17762 non-null  category\n",
      " 8   S1S8GRADE         17762 non-null  category\n",
      " 9   S1WEBINFO         17762 non-null  category\n",
      " 10  S2SPORTS          17762 non-null  category\n",
      " 11  X2PAREDEXPCT      17762 non-null  category\n",
      " 12  X2STU30OCC_STEM1  17762 non-null  category\n",
      " 13  S2DRAMA           17762 non-null  category\n",
      " 14  X1REGION          17762 non-null  category\n",
      " 15  S2MUSIC           17762 non-null  category\n",
      " 16  S2GRD1112         17762 non-null  category\n",
      " 17  X2STUEDEXPCT      17762 non-null  category\n",
      " 18  S1SUREHSGRAD      17762 non-null  category\n",
      " 19  S1S8              17762 non-null  category\n",
      " 20  S1M8GRADE         17762 non-null  category\n",
      " 21  S2SUREDIPL        17762 non-null  category\n",
      " 22  X2CONTROL         17762 non-null  category\n",
      " 23  S1GOODGRADES      17762 non-null  category\n",
      " 24  S2ARRESTED        17762 non-null  category\n",
      " 25  S2SATNUM          17762 non-null  category\n",
      " 26  S2CLGFT2013       17762 non-null  category\n",
      " 27  X2REGION          17762 non-null  category\n",
      " 28  S1SAFE            17762 non-null  category\n",
      " 29  S2SCHWASTE        17762 non-null  category\n",
      " 30  S2AFF4YPRV        17762 non-null  category\n",
      " 31  X2LOCALE          17762 non-null  category\n",
      " 32  S1HRACTIVITY      17762 non-null  category\n",
      " 33  X1RACE            17762 non-null  category\n",
      " 34  S2NEVERCLG        17762 non-null  category\n",
      " 35  X1PAREDEXPCT      17762 non-null  category\n",
      " 36  X2EVERDROP        17762 non-null  category\n",
      " 37  S2CANTAFFORD      17762 non-null  category\n",
      " 38  S1M8              17762 non-null  category\n",
      " 39  S2CLUB            17762 non-null  category\n",
      " 40  S2INSCHSUSP       17762 non-null  category\n",
      " 41  X1SEX             17762 non-null  category\n",
      " 42  S2AFF2YPUB        17762 non-null  category\n",
      " 43  S2AFF4YOUT        17762 non-null  category\n",
      " 44  S1HRWORK          17762 non-null  category\n",
      " 45  X1CONTROL         17762 non-null  category\n",
      " 46  X2ENROLSTAT       17762 non-null  category\n",
      " 47  S2CLG2013         17762 non-null  category\n",
      " 48  S1SCHWASTE        17762 non-null  category\n",
      " 49  X1LOCALE          17762 non-null  category\n",
      " 50  S2EDUEXP          17762 non-null  category\n",
      " 51  S2ART             17762 non-null  category\n",
      " 52  X1STUEDEXPCT      17762 non-null  category\n",
      " 53  S2ACADEMIC        17762 non-null  category\n",
      " 54  X2DROPSTAT        17762 non-null  category\n",
      " 55  S2AFF4YIN         17762 non-null  category\n",
      "dtypes: category(56)\n",
      "memory usage: 986.2 KB\n"
     ]
    }
   ],
   "source": [
    "#making the categorical adtype category\n",
    "features[cat_type_x1x2] = features[cat_type_x1x2].astype('category')\n",
    "features[cat_type_x1x2].info()"
   ]
  },
  {
   "cell_type": "code",
   "execution_count": 14,
   "id": "b1e9a1b6",
   "metadata": {},
   "outputs": [],
   "source": [
    "#generating age variable from X1STDOB\n",
    "features['X1AGE'] = 2009 - features['X1STDOB'].astype(str).str[:4].astype('int64')\n",
    "#dropping X1STDOB\n",
    "features = features.drop(columns='X1STDOB')\n",
    "\n",
    "num_type_x1x2x3 = list(set(num_type_x1x2x3)-set(['X1STDOB']))\n",
    "num_type_x1x2 = list(set(num_type_x1x2)-set(['X1STDOB']))"
   ]
  },
  {
   "cell_type": "markdown",
   "id": "6b568d0b",
   "metadata": {},
   "source": [
    "---\n",
    "## EDA Visualizations"
   ]
  },
  {
   "cell_type": "code",
   "execution_count": 15,
   "id": "13b673f4",
   "metadata": {
    "scrolled": true
   },
   "outputs": [
    {
     "data": {
      "image/png": "[encoded data removed]",
      "text/plain": [
       "<Figure size 864x360 with 2 Axes>"
      ]
     },
     "metadata": {
      "needs_background": "light"
     },
     "output_type": "display_data"
    }
   ],
   "source": [
    "fig, (ax1, ax2) = plt.subplots(1, 2, figsize=(12, 5))\n",
    "\n",
    "sns.kdeplot(df['X1SES_U'][df['X3EVERDROP']==0], shade=True, label='Never Dropped Out', ax=ax1)\n",
    "sns.kdeplot(df['X1SES_U'][df['X3EVERDROP']==1], shade=True, label='Dropped Out Atleast Once', ax=ax1)\n",
    "ax1.set_xlabel('Panel 1 Socio-economic status')\n",
    "ax1.set_ylabel('Density')\n",
    "ax1.legend()\n",
    "\n",
    "sns.kdeplot(df['X2SES_U'][df['X3EVERDROP']==0], shade=True, label='Never Dropped Out', ax=ax2)\n",
    "sns.kdeplot(df['X2SES_U'][df['X3EVERDROP']==1], shade=True, label='Dropped Out Atleast Once', ax=ax2)\n",
    "ax2.set_xlabel('Panel 2 Socio-economic status')\n",
    "ax2.set_ylabel('')\n",
    "ax2.legend()\n",
    "\n",
    "plt.savefig('Socio-economic_status.png', bbox_inches='tight')"
   ]
  },
  {
   "cell_type": "markdown",
   "id": "06fb5751",
   "metadata": {},
   "source": [
    "This shows that children with higher economic status are more likely to not drop out compared to those with a lower economic status"
   ]
  },
  {
   "cell_type": "markdown",
   "id": "69f050e5",
   "metadata": {},
   "source": [
    "---\n",
    "## Feature Engineering and Feature Selection"
   ]
  },
  {
   "cell_type": "code",
   "execution_count": 16,
   "id": "669bd6bb",
   "metadata": {},
   "outputs": [],
   "source": [
    "#some of these categorical variables regquire ordinal encoding rather than using them as dummies for each group\n",
    "cat_ord_type_x1x2 = ['S2INSCHSUSP', 'S1HRWORK', 'S1WEBINFO', 'S1SCHWASTE', 'X2HHNUMBER', 'X2PAREDEXPCT', 'X1PAREDEXPCT',\n",
    "                    'X2STUEDEXPCT', 'X1STUEDEXPCT', 'X1HHNUMBER', 'S1SAFE', 'S2SATNUM', 'S1HRACTIVITY', 'S1GOODGRADES',\n",
    "                    'S1M8GRADE', 'S1S8GRADE', 'S2SCHWASTE']\n",
    "\n",
    "cat_type_x1x2 = list(set(cat_type_x1x2) - set(cat_ord_type_x1x2))"
   ]
  },
  {
   "cell_type": "code",
   "execution_count": 17,
   "id": "f8d99b38",
   "metadata": {},
   "outputs": [],
   "source": [
    "#Generating dummies for all categorical variables\n",
    "pd_dummy = pd.get_dummies(data=features[cat_type_x1x2])\n",
    "features_new = pd.concat([features,pd_dummy],axis=1).drop(columns=cat_type_x1x2)\n",
    "\n",
    "y = df['X3EVERDROP']\n",
    "X = features_new.copy()"
   ]
  },
  {
   "cell_type": "code",
   "execution_count": 18,
   "id": "ab21ef13",
   "metadata": {
    "scrolled": true
   },
   "outputs": [
    {
     "data": {
      "text/plain": [
       "14053    0\n",
       "6004     0\n",
       "8964     0\n",
       "17400    0\n",
       "6328     0\n",
       "        ..\n",
       "9065     1\n",
       "1431     0\n",
       "11801    0\n",
       "12537    0\n",
       "12258    0\n",
       "Name: X3EVERDROP, Length: 4441, dtype: int64"
      ]
     },
     "execution_count": 18,
     "metadata": {},
     "output_type": "execute_result"
    }
   ],
   "source": [
    "#Train and test split\n",
    "X_train, X_test, y_train, y_test = train_test_split(X, y, test_size=0.25, random_state=seed)\n",
    "y_test"
   ]
  },
  {
   "cell_type": "code",
   "execution_count": 19,
   "id": "cb2feb04",
   "metadata": {
    "scrolled": false
   },
   "outputs": [],
   "source": [
    "#standardising numerical variables in X_train \n",
    "scaler = RobustScaler()\n",
    "X_train[num_type_x1x2] = scaler.fit_transform(X_train[num_type_x1x2])\n"
   ]
  },
  {
   "cell_type": "markdown",
   "id": "bb0d54f2",
   "metadata": {},
   "source": [
    "Using Robust Scaler because standard scaler assumes normally distributed features which is not the case with the numerical data in our sample. "
   ]
  },
  {
   "cell_type": "code",
   "execution_count": 20,
   "id": "2790b2a1",
   "metadata": {},
   "outputs": [],
   "source": [
    "#dealing with ordinal categorical variables\n",
    "encoder = OrdinalEncoder()\n",
    "X_train[cat_ord_type_x1x2] = encoder.fit_transform(X_train[cat_ord_type_x1x2])"
   ]
  },
  {
   "cell_type": "code",
   "execution_count": 21,
   "id": "e3ccff61",
   "metadata": {},
   "outputs": [],
   "source": [
    "#upscaling\n",
    "sm = SMOTE(random_state=seed)\n",
    "X_train_smote, y_train_smote = sm.fit_resample(X_train, y_train)"
   ]
  },
  {
   "cell_type": "markdown",
   "id": "e1e5cff7",
   "metadata": {},
   "source": [
    "#### Feature selection"
   ]
  },
  {
   "cell_type": "markdown",
   "id": "33620538",
   "metadata": {},
   "source": [
    "The three classifficationmodels chosen for comparision are: Logistic Regression (LR), Random Forest (RF) and Gradient Boosting (GB)\n",
    "\n",
    "These three models are chosen because of their explanability - unlike KNN and Naive Bayes classification models, LR, RF and GB all allow for feature explainability either via coefficient values in LR or feature importance in RF and GB. Naive Bayes classififcation models are also not appropriate because they make independence assumptions for the features of our model - given that this is a panel data set - this assumption is not valid."
   ]
  },
  {
   "cell_type": "code",
   "execution_count": 22,
   "id": "cf700569",
   "metadata": {},
   "outputs": [
    {
     "data": {
      "text/plain": [
       "['X1HHNUMBER',\n",
       " 'X2HHNUMBER',\n",
       " 'S1S8GRADE',\n",
       " 'S1WEBINFO',\n",
       " 'X2PAREDEXPCT',\n",
       " 'X2STUEDEXPCT',\n",
       " 'S1M8GRADE',\n",
       " 'S1GOODGRADES',\n",
       " 'S2SATNUM',\n",
       " 'S1SAFE',\n",
       " 'S2SCHWASTE',\n",
       " 'S1HRACTIVITY',\n",
       " 'X1PAREDEXPCT',\n",
       " 'S2INSCHSUSP',\n",
       " 'S1HRWORK',\n",
       " 'S1SCHWASTE',\n",
       " 'X1STUEDEXPCT',\n",
       " 'X2PROBLEM',\n",
       " 'X1MTHID',\n",
       " 'X1SCHOOLBEL',\n",
       " 'X1TXMTSCOR',\n",
       " 'X2SCIID',\n",
       " 'X2NUMHS',\n",
       " 'X1SCHOOLENG',\n",
       " 'X2BEHAVEIN',\n",
       " 'X2SES_U',\n",
       " 'X2MTHID',\n",
       " 'X1SES_U',\n",
       " 'X1SCIID',\n",
       " 'X2TXMTSCOR',\n",
       " 'X1AGE',\n",
       " 'X1STU30OCC_STEM1_-8',\n",
       " 'X1STU30OCC_STEM1_0',\n",
       " 'X1STU30OCC_STEM1_1',\n",
       " 'X1STU30OCC_STEM1_4',\n",
       " 'X1STU30OCC_STEM1_5',\n",
       " 'X1STU30OCC_STEM1_6',\n",
       " 'S2PASSGRADE_-8',\n",
       " 'S2PASSGRADE_-6',\n",
       " 'S2PASSGRADE_0',\n",
       " 'S2PASSGRADE_1',\n",
       " 'S2AFF4YPRV_-8',\n",
       " 'S2AFF4YPRV_1',\n",
       " 'S2AFF4YPRV_2',\n",
       " 'S2AFF4YPRV_3',\n",
       " 'X2LOCALE_1',\n",
       " 'X2LOCALE_2',\n",
       " 'X2LOCALE_3',\n",
       " 'X2LOCALE_4',\n",
       " 'S2AFFOCCTRN_-8',\n",
       " 'S2AFFOCCTRN_1',\n",
       " 'S2AFFOCCTRN_2',\n",
       " 'S2AFFOCCTRN_3',\n",
       " 'S2FOCUS2013_-9',\n",
       " 'S2FOCUS2013_-7',\n",
       " 'S2FOCUS2013_1',\n",
       " 'S2FOCUS2013_2',\n",
       " 'S2FOCUS2013_3',\n",
       " 'S2FOCUS2013_4',\n",
       " 'S2FOCUS2013_5',\n",
       " 'S2AFF4YSEL_-8',\n",
       " 'S2AFF4YSEL_1',\n",
       " 'S2AFF4YSEL_2',\n",
       " 'S2AFF4YSEL_3',\n",
       " 'X1RACE_1',\n",
       " 'X1RACE_2',\n",
       " 'X1RACE_3',\n",
       " 'X1RACE_4',\n",
       " 'X1RACE_6',\n",
       " 'X1RACE_7',\n",
       " 'X1RACE_8',\n",
       " 'S2NEVERCLG_-8',\n",
       " 'S2NEVERCLG_0',\n",
       " 'S2NEVERCLG_1',\n",
       " 'S1FAVSUBJ_-8',\n",
       " 'S1FAVSUBJ_1',\n",
       " 'S1FAVSUBJ_2',\n",
       " 'S1FAVSUBJ_3',\n",
       " 'S1FAVSUBJ_4',\n",
       " 'S1FAVSUBJ_5',\n",
       " 'S1FAVSUBJ_6',\n",
       " 'S1FAVSUBJ_7',\n",
       " 'S1FAVSUBJ_8',\n",
       " 'S1FAVSUBJ_9',\n",
       " 'S1FAVSUBJ_10',\n",
       " 'S1FAVSUBJ_11',\n",
       " 'S1FAVSUBJ_12',\n",
       " 'S1FAVSUBJ_13',\n",
       " 'S2SPORTS_-8',\n",
       " 'S2SPORTS_0',\n",
       " 'S2SPORTS_1',\n",
       " 'X2EVERDROP_0',\n",
       " 'X2EVERDROP_1',\n",
       " 'S2CANTAFFORD_-8',\n",
       " 'S2CANTAFFORD_1',\n",
       " 'S2CANTAFFORD_2',\n",
       " 'S2CANTAFFORD_3',\n",
       " 'S2CANTAFFORD_4',\n",
       " 'S1M8_-8',\n",
       " 'S1M8_-6',\n",
       " 'S1M8_1',\n",
       " 'S1M8_2',\n",
       " 'S1M8_3',\n",
       " 'S1M8_4',\n",
       " 'S1M8_5',\n",
       " 'S1M8_6',\n",
       " 'S1M8_7',\n",
       " 'S1M8_9',\n",
       " 'S2CLUB_-8',\n",
       " 'S2CLUB_0',\n",
       " 'S2CLUB_1',\n",
       " 'X1SEX_1',\n",
       " 'X1SEX_2',\n",
       " 'S2AFF2YPUB_-8',\n",
       " 'S2AFF2YPUB_1',\n",
       " 'S2AFF2YPUB_2',\n",
       " 'S2AFF2YPUB_3',\n",
       " 'S2AFF4YOUT_-8',\n",
       " 'S2AFF4YOUT_1',\n",
       " 'S2AFF4YOUT_2',\n",
       " 'S2AFF4YOUT_3',\n",
       " 'X2STU30OCC_STEM1_-8',\n",
       " 'X2STU30OCC_STEM1_0',\n",
       " 'X2STU30OCC_STEM1_1',\n",
       " 'X2STU30OCC_STEM1_4',\n",
       " 'X2STU30OCC_STEM1_5',\n",
       " 'X2STU30OCC_STEM1_6',\n",
       " 'S2DRAMA_-8',\n",
       " 'S2DRAMA_0',\n",
       " 'S2DRAMA_1',\n",
       " 'X1REGION_1',\n",
       " 'X1REGION_2',\n",
       " 'X1REGION_3',\n",
       " 'X1REGION_4',\n",
       " 'X1CONTROL_1',\n",
       " 'X1CONTROL_2',\n",
       " 'S2MUSIC_-8',\n",
       " 'S2MUSIC_0',\n",
       " 'S2MUSIC_1',\n",
       " 'X2ENROLSTAT_1',\n",
       " 'X2ENROLSTAT_2',\n",
       " 'X2ENROLSTAT_3',\n",
       " 'X2ENROLSTAT_4',\n",
       " 'X2ENROLSTAT_5',\n",
       " 'S2CLG2013_-8',\n",
       " 'S2CLG2013_1',\n",
       " 'S2CLG2013_2',\n",
       " 'S2CLG2013_3',\n",
       " 'X1LOCALE_1',\n",
       " 'X1LOCALE_2',\n",
       " 'X1LOCALE_3',\n",
       " 'X1LOCALE_4',\n",
       " 'S2GRD1112_-8',\n",
       " 'S2GRD1112_-6',\n",
       " 'S2GRD1112_1',\n",
       " 'S2GRD1112_2',\n",
       " 'S2GRD1112_3',\n",
       " 'S2GRD1112_4',\n",
       " 'S1SUREHSGRAD_-8',\n",
       " 'S1SUREHSGRAD_1',\n",
       " 'S1SUREHSGRAD_2',\n",
       " 'S1SUREHSGRAD_3',\n",
       " 'S1SUREHSGRAD_4',\n",
       " 'S2EDUEXP_-8',\n",
       " 'S2EDUEXP_1',\n",
       " 'S2EDUEXP_2',\n",
       " 'S2EDUEXP_3',\n",
       " 'S2EDUEXP_4',\n",
       " 'S2EDUEXP_5',\n",
       " 'S2EDUEXP_6',\n",
       " 'S2EDUEXP_7',\n",
       " 'S2EDUEXP_8',\n",
       " 'S2EDUEXP_9',\n",
       " 'S2EDUEXP_10',\n",
       " 'S2EDUEXP_11',\n",
       " 'S2EDUEXP_12',\n",
       " 'S2EDUEXP_13',\n",
       " 'S2ART_-8',\n",
       " 'S2ART_0',\n",
       " 'S2ART_1',\n",
       " 'S1S8_-8',\n",
       " 'S1S8_-6',\n",
       " 'S1S8_1',\n",
       " 'S1S8_2',\n",
       " 'S1S8_3',\n",
       " 'S1S8_4',\n",
       " 'S1S8_5',\n",
       " 'S1S8_6',\n",
       " 'S1S8_7',\n",
       " 'S1S8_8',\n",
       " 'S1S8_9',\n",
       " 'S1S8_11',\n",
       " 'S1S8_12',\n",
       " 'S1S8_13',\n",
       " 'S2ACADEMIC_-8',\n",
       " 'S2ACADEMIC_0',\n",
       " 'S2ACADEMIC_1',\n",
       " 'X2DROPSTAT_0',\n",
       " 'X2DROPSTAT_1',\n",
       " 'X2DROPSTAT_2',\n",
       " 'X2DROPSTAT_3',\n",
       " 'S2SUREDIPL_-8',\n",
       " 'S2SUREDIPL_-6',\n",
       " 'S2SUREDIPL_1',\n",
       " 'S2SUREDIPL_2',\n",
       " 'S2SUREDIPL_3',\n",
       " 'S2SUREDIPL_4',\n",
       " 'X2CONTROL_1',\n",
       " 'X2CONTROL_2',\n",
       " 'S2ARRESTED_1.0',\n",
       " 'S2ARRESTED_1.1179883945841391',\n",
       " 'S2ARRESTED_2.0',\n",
       " 'S2CLGFT2013_-8',\n",
       " 'S2CLGFT2013_-6',\n",
       " 'S2CLGFT2013_1',\n",
       " 'S2CLGFT2013_2',\n",
       " 'S2CLGFT2013_3',\n",
       " 'S2AFF4YIN_-8',\n",
       " 'S2AFF4YIN_1',\n",
       " 'S2AFF4YIN_2',\n",
       " 'S2AFF4YIN_3',\n",
       " 'X2REGION_1',\n",
       " 'X2REGION_2',\n",
       " 'X2REGION_3',\n",
       " 'X2REGION_4']"
      ]
     },
     "execution_count": 22,
     "metadata": {},
     "output_type": "execute_result"
    }
   ],
   "source": [
    "#feature selection\n",
    "X_train.columns.tolist()"
   ]
  },
  {
   "cell_type": "markdown",
   "id": "f986d544",
   "metadata": {},
   "source": [
    "The variables I really care about are - 'X1RACE_1','X1RACE_2','X1RACE_3','X1RACE_4','X1RACE_6','X1RACE_7','X1RACE_8', X1SEX_1, X1SEX_2, X1SES_U, X2SES_U, X1AGE, X1TXMTSCOR, X2TXMTSCOR.\n",
    "Based on domain knowledge, these factors are often important predictors of dropout status. Additionally for policy decisions, knowing feature importance of these features that are often cited in literature will help identify the accurate targeted policy measures."
   ]
  },
  {
   "cell_type": "code",
   "execution_count": 23,
   "id": "77ba2449",
   "metadata": {},
   "outputs": [
    {
     "data": {
      "text/plain": [
       "(24002, 225)"
      ]
     },
     "execution_count": 23,
     "metadata": {},
     "output_type": "execute_result"
    }
   ],
   "source": [
    "X_train_smote.shape"
   ]
  },
  {
   "cell_type": "code",
   "execution_count": 24,
   "id": "3b498662",
   "metadata": {},
   "outputs": [],
   "source": [
    "#features we want to really keep in our analysis\n",
    "impt_features = ['X1RACE_1','X1RACE_2','X1RACE_3','X1RACE_4',\n",
    "                 'X1RACE_6','X1RACE_7','X1RACE_8', 'X1SEX_1', \n",
    "                 'X1SEX_2', 'X1SES_U', 'X2SES_U', 'X1AGE', \n",
    "                 'X1TXMTSCOR', 'X2TXMTSCOR']\n",
    "\n",
    "#list of features to be used for \n",
    "features_to_select = list(set(X_train.columns.tolist())-set(impt_features))\n"
   ]
  },
  {
   "cell_type": "code",
   "execution_count": 25,
   "id": "a9b965ea",
   "metadata": {},
   "outputs": [
    {
     "data": {
      "text/plain": [
       "211"
      ]
     },
     "execution_count": 25,
     "metadata": {},
     "output_type": "execute_result"
    }
   ],
   "source": [
    "len(features_to_select)"
   ]
  },
  {
   "cell_type": "markdown",
   "id": "e0193440",
   "metadata": {},
   "source": [
    "To ensure comparability acorss all models we use a feature selection method that is supported by all models so that we can find the same set of best features for all models for accurate comparability.\n",
    "\n",
    "We choose SelectFromModel feature selector for this purpose - given our focus on inference and feature importance and also computational efficiency, SelectFromModel suits these objectives the best"
   ]
  },
  {
   "cell_type": "code",
   "execution_count": 26,
   "id": "284f634d",
   "metadata": {},
   "outputs": [
    {
     "name": "stderr",
     "output_type": "stream",
     "text": [
      "/Users/pranavakadiyala/opt/anaconda3/lib/python3.9/site-packages/sklearn/linear_model/_logistic.py:458: ConvergenceWarning: lbfgs failed to converge (status=1):\n",
      "STOP: TOTAL NO. of ITERATIONS REACHED LIMIT.\n",
      "\n",
      "Increase the number of iterations (max_iter) or scale the data as shown in:\n",
      "    https://scikit-learn.org/stable/modules/preprocessing.html\n",
      "Please also refer to the documentation for alternative solver options:\n",
      "    https://scikit-learn.org/stable/modules/linear_model.html#logistic-regression\n",
      "  n_iter_i = _check_optimize_result(\n",
      "/Users/pranavakadiyala/opt/anaconda3/lib/python3.9/site-packages/sklearn/linear_model/_logistic.py:458: ConvergenceWarning: lbfgs failed to converge (status=1):\n",
      "STOP: TOTAL NO. of ITERATIONS REACHED LIMIT.\n",
      "\n",
      "Increase the number of iterations (max_iter) or scale the data as shown in:\n",
      "    https://scikit-learn.org/stable/modules/preprocessing.html\n",
      "Please also refer to the documentation for alternative solver options:\n",
      "    https://scikit-learn.org/stable/modules/linear_model.html#logistic-regression\n",
      "  n_iter_i = _check_optimize_result(\n",
      "/Users/pranavakadiyala/opt/anaconda3/lib/python3.9/site-packages/sklearn/linear_model/_logistic.py:458: ConvergenceWarning: lbfgs failed to converge (status=1):\n",
      "STOP: TOTAL NO. of ITERATIONS REACHED LIMIT.\n",
      "\n",
      "Increase the number of iterations (max_iter) or scale the data as shown in:\n",
      "    https://scikit-learn.org/stable/modules/preprocessing.html\n",
      "Please also refer to the documentation for alternative solver options:\n",
      "    https://scikit-learn.org/stable/modules/linear_model.html#logistic-regression\n",
      "  n_iter_i = _check_optimize_result(\n",
      "/Users/pranavakadiyala/opt/anaconda3/lib/python3.9/site-packages/sklearn/linear_model/_logistic.py:458: ConvergenceWarning: lbfgs failed to converge (status=1):\n",
      "STOP: TOTAL NO. of ITERATIONS REACHED LIMIT.\n",
      "\n",
      "Increase the number of iterations (max_iter) or scale the data as shown in:\n",
      "    https://scikit-learn.org/stable/modules/preprocessing.html\n",
      "Please also refer to the documentation for alternative solver options:\n",
      "    https://scikit-learn.org/stable/modules/linear_model.html#logistic-regression\n",
      "  n_iter_i = _check_optimize_result(\n",
      "/Users/pranavakadiyala/opt/anaconda3/lib/python3.9/site-packages/sklearn/linear_model/_logistic.py:458: ConvergenceWarning: lbfgs failed to converge (status=1):\n",
      "STOP: TOTAL NO. of ITERATIONS REACHED LIMIT.\n",
      "\n",
      "Increase the number of iterations (max_iter) or scale the data as shown in:\n",
      "    https://scikit-learn.org/stable/modules/preprocessing.html\n",
      "Please also refer to the documentation for alternative solver options:\n",
      "    https://scikit-learn.org/stable/modules/linear_model.html#logistic-regression\n",
      "  n_iter_i = _check_optimize_result(\n",
      "/Users/pranavakadiyala/opt/anaconda3/lib/python3.9/site-packages/sklearn/linear_model/_logistic.py:458: ConvergenceWarning: lbfgs failed to converge (status=1):\n",
      "STOP: TOTAL NO. of ITERATIONS REACHED LIMIT.\n",
      "\n",
      "Increase the number of iterations (max_iter) or scale the data as shown in:\n",
      "    https://scikit-learn.org/stable/modules/preprocessing.html\n",
      "Please also refer to the documentation for alternative solver options:\n",
      "    https://scikit-learn.org/stable/modules/linear_model.html#logistic-regression\n",
      "  n_iter_i = _check_optimize_result(\n",
      "/Users/pranavakadiyala/opt/anaconda3/lib/python3.9/site-packages/sklearn/linear_model/_logistic.py:458: ConvergenceWarning: lbfgs failed to converge (status=1):\n",
      "STOP: TOTAL NO. of ITERATIONS REACHED LIMIT.\n",
      "\n",
      "Increase the number of iterations (max_iter) or scale the data as shown in:\n",
      "    https://scikit-learn.org/stable/modules/preprocessing.html\n",
      "Please also refer to the documentation for alternative solver options:\n",
      "    https://scikit-learn.org/stable/modules/linear_model.html#logistic-regression\n",
      "  n_iter_i = _check_optimize_result(\n",
      "/Users/pranavakadiyala/opt/anaconda3/lib/python3.9/site-packages/sklearn/linear_model/_logistic.py:458: ConvergenceWarning: lbfgs failed to converge (status=1):\n",
      "STOP: TOTAL NO. of ITERATIONS REACHED LIMIT.\n",
      "\n",
      "Increase the number of iterations (max_iter) or scale the data as shown in:\n",
      "    https://scikit-learn.org/stable/modules/preprocessing.html\n",
      "Please also refer to the documentation for alternative solver options:\n",
      "    https://scikit-learn.org/stable/modules/linear_model.html#logistic-regression\n",
      "  n_iter_i = _check_optimize_result(\n",
      "/Users/pranavakadiyala/opt/anaconda3/lib/python3.9/site-packages/sklearn/linear_model/_logistic.py:458: ConvergenceWarning: lbfgs failed to converge (status=1):\n",
      "STOP: TOTAL NO. of ITERATIONS REACHED LIMIT.\n",
      "\n",
      "Increase the number of iterations (max_iter) or scale the data as shown in:\n",
      "    https://scikit-learn.org/stable/modules/preprocessing.html\n",
      "Please also refer to the documentation for alternative solver options:\n",
      "    https://scikit-learn.org/stable/modules/linear_model.html#logistic-regression\n",
      "  n_iter_i = _check_optimize_result(\n",
      "/Users/pranavakadiyala/opt/anaconda3/lib/python3.9/site-packages/sklearn/linear_model/_logistic.py:458: ConvergenceWarning: lbfgs failed to converge (status=1):\n",
      "STOP: TOTAL NO. of ITERATIONS REACHED LIMIT.\n",
      "\n",
      "Increase the number of iterations (max_iter) or scale the data as shown in:\n",
      "    https://scikit-learn.org/stable/modules/preprocessing.html\n",
      "Please also refer to the documentation for alternative solver options:\n",
      "    https://scikit-learn.org/stable/modules/linear_model.html#logistic-regression\n",
      "  n_iter_i = _check_optimize_result(\n",
      "/Users/pranavakadiyala/opt/anaconda3/lib/python3.9/site-packages/sklearn/linear_model/_logistic.py:458: ConvergenceWarning: lbfgs failed to converge (status=1):\n",
      "STOP: TOTAL NO. of ITERATIONS REACHED LIMIT.\n",
      "\n",
      "Increase the number of iterations (max_iter) or scale the data as shown in:\n",
      "    https://scikit-learn.org/stable/modules/preprocessing.html\n",
      "Please also refer to the documentation for alternative solver options:\n",
      "    https://scikit-learn.org/stable/modules/linear_model.html#logistic-regression\n",
      "  n_iter_i = _check_optimize_result(\n",
      "/Users/pranavakadiyala/opt/anaconda3/lib/python3.9/site-packages/sklearn/linear_model/_logistic.py:458: ConvergenceWarning: lbfgs failed to converge (status=1):\n",
      "STOP: TOTAL NO. of ITERATIONS REACHED LIMIT.\n",
      "\n",
      "Increase the number of iterations (max_iter) or scale the data as shown in:\n",
      "    https://scikit-learn.org/stable/modules/preprocessing.html\n",
      "Please also refer to the documentation for alternative solver options:\n",
      "    https://scikit-learn.org/stable/modules/linear_model.html#logistic-regression\n",
      "  n_iter_i = _check_optimize_result(\n",
      "/Users/pranavakadiyala/opt/anaconda3/lib/python3.9/site-packages/sklearn/linear_model/_logistic.py:458: ConvergenceWarning: lbfgs failed to converge (status=1):\n",
      "STOP: TOTAL NO. of ITERATIONS REACHED LIMIT.\n",
      "\n",
      "Increase the number of iterations (max_iter) or scale the data as shown in:\n",
      "    https://scikit-learn.org/stable/modules/preprocessing.html\n",
      "Please also refer to the documentation for alternative solver options:\n",
      "    https://scikit-learn.org/stable/modules/linear_model.html#logistic-regression\n",
      "  n_iter_i = _check_optimize_result(\n",
      "/Users/pranavakadiyala/opt/anaconda3/lib/python3.9/site-packages/sklearn/linear_model/_logistic.py:458: ConvergenceWarning: lbfgs failed to converge (status=1):\n",
      "STOP: TOTAL NO. of ITERATIONS REACHED LIMIT.\n",
      "\n",
      "Increase the number of iterations (max_iter) or scale the data as shown in:\n",
      "    https://scikit-learn.org/stable/modules/preprocessing.html\n",
      "Please also refer to the documentation for alternative solver options:\n",
      "    https://scikit-learn.org/stable/modules/linear_model.html#logistic-regression\n",
      "  n_iter_i = _check_optimize_result(\n",
      "/Users/pranavakadiyala/opt/anaconda3/lib/python3.9/site-packages/sklearn/linear_model/_logistic.py:458: ConvergenceWarning: lbfgs failed to converge (status=1):\n",
      "STOP: TOTAL NO. of ITERATIONS REACHED LIMIT.\n",
      "\n",
      "Increase the number of iterations (max_iter) or scale the data as shown in:\n",
      "    https://scikit-learn.org/stable/modules/preprocessing.html\n",
      "Please also refer to the documentation for alternative solver options:\n",
      "    https://scikit-learn.org/stable/modules/linear_model.html#logistic-regression\n",
      "  n_iter_i = _check_optimize_result(\n",
      "/Users/pranavakadiyala/opt/anaconda3/lib/python3.9/site-packages/sklearn/linear_model/_logistic.py:458: ConvergenceWarning: lbfgs failed to converge (status=1):\n",
      "STOP: TOTAL NO. of ITERATIONS REACHED LIMIT.\n",
      "\n",
      "Increase the number of iterations (max_iter) or scale the data as shown in:\n",
      "    https://scikit-learn.org/stable/modules/preprocessing.html\n",
      "Please also refer to the documentation for alternative solver options:\n",
      "    https://scikit-learn.org/stable/modules/linear_model.html#logistic-regression\n",
      "  n_iter_i = _check_optimize_result(\n"
     ]
    },
    {
     "name": "stderr",
     "output_type": "stream",
     "text": [
      "/Users/pranavakadiyala/opt/anaconda3/lib/python3.9/site-packages/sklearn/linear_model/_logistic.py:458: ConvergenceWarning: lbfgs failed to converge (status=1):\n",
      "STOP: TOTAL NO. of ITERATIONS REACHED LIMIT.\n",
      "\n",
      "Increase the number of iterations (max_iter) or scale the data as shown in:\n",
      "    https://scikit-learn.org/stable/modules/preprocessing.html\n",
      "Please also refer to the documentation for alternative solver options:\n",
      "    https://scikit-learn.org/stable/modules/linear_model.html#logistic-regression\n",
      "  n_iter_i = _check_optimize_result(\n",
      "/Users/pranavakadiyala/opt/anaconda3/lib/python3.9/site-packages/sklearn/linear_model/_logistic.py:458: ConvergenceWarning: lbfgs failed to converge (status=1):\n",
      "STOP: TOTAL NO. of ITERATIONS REACHED LIMIT.\n",
      "\n",
      "Increase the number of iterations (max_iter) or scale the data as shown in:\n",
      "    https://scikit-learn.org/stable/modules/preprocessing.html\n",
      "Please also refer to the documentation for alternative solver options:\n",
      "    https://scikit-learn.org/stable/modules/linear_model.html#logistic-regression\n",
      "  n_iter_i = _check_optimize_result(\n",
      "/Users/pranavakadiyala/opt/anaconda3/lib/python3.9/site-packages/sklearn/linear_model/_logistic.py:458: ConvergenceWarning: lbfgs failed to converge (status=1):\n",
      "STOP: TOTAL NO. of ITERATIONS REACHED LIMIT.\n",
      "\n",
      "Increase the number of iterations (max_iter) or scale the data as shown in:\n",
      "    https://scikit-learn.org/stable/modules/preprocessing.html\n",
      "Please also refer to the documentation for alternative solver options:\n",
      "    https://scikit-learn.org/stable/modules/linear_model.html#logistic-regression\n",
      "  n_iter_i = _check_optimize_result(\n",
      "/Users/pranavakadiyala/opt/anaconda3/lib/python3.9/site-packages/sklearn/linear_model/_logistic.py:458: ConvergenceWarning: lbfgs failed to converge (status=1):\n",
      "STOP: TOTAL NO. of ITERATIONS REACHED LIMIT.\n",
      "\n",
      "Increase the number of iterations (max_iter) or scale the data as shown in:\n",
      "    https://scikit-learn.org/stable/modules/preprocessing.html\n",
      "Please also refer to the documentation for alternative solver options:\n",
      "    https://scikit-learn.org/stable/modules/linear_model.html#logistic-regression\n",
      "  n_iter_i = _check_optimize_result(\n",
      "/Users/pranavakadiyala/opt/anaconda3/lib/python3.9/site-packages/sklearn/linear_model/_logistic.py:458: ConvergenceWarning: lbfgs failed to converge (status=1):\n",
      "STOP: TOTAL NO. of ITERATIONS REACHED LIMIT.\n",
      "\n",
      "Increase the number of iterations (max_iter) or scale the data as shown in:\n",
      "    https://scikit-learn.org/stable/modules/preprocessing.html\n",
      "Please also refer to the documentation for alternative solver options:\n",
      "    https://scikit-learn.org/stable/modules/linear_model.html#logistic-regression\n",
      "  n_iter_i = _check_optimize_result(\n",
      "/Users/pranavakadiyala/opt/anaconda3/lib/python3.9/site-packages/sklearn/linear_model/_logistic.py:458: ConvergenceWarning: lbfgs failed to converge (status=1):\n",
      "STOP: TOTAL NO. of ITERATIONS REACHED LIMIT.\n",
      "\n",
      "Increase the number of iterations (max_iter) or scale the data as shown in:\n",
      "    https://scikit-learn.org/stable/modules/preprocessing.html\n",
      "Please also refer to the documentation for alternative solver options:\n",
      "    https://scikit-learn.org/stable/modules/linear_model.html#logistic-regression\n",
      "  n_iter_i = _check_optimize_result(\n",
      "/Users/pranavakadiyala/opt/anaconda3/lib/python3.9/site-packages/sklearn/linear_model/_logistic.py:458: ConvergenceWarning: lbfgs failed to converge (status=1):\n",
      "STOP: TOTAL NO. of ITERATIONS REACHED LIMIT.\n",
      "\n",
      "Increase the number of iterations (max_iter) or scale the data as shown in:\n",
      "    https://scikit-learn.org/stable/modules/preprocessing.html\n",
      "Please also refer to the documentation for alternative solver options:\n",
      "    https://scikit-learn.org/stable/modules/linear_model.html#logistic-regression\n",
      "  n_iter_i = _check_optimize_result(\n",
      "/Users/pranavakadiyala/opt/anaconda3/lib/python3.9/site-packages/sklearn/linear_model/_logistic.py:458: ConvergenceWarning: lbfgs failed to converge (status=1):\n",
      "STOP: TOTAL NO. of ITERATIONS REACHED LIMIT.\n",
      "\n",
      "Increase the number of iterations (max_iter) or scale the data as shown in:\n",
      "    https://scikit-learn.org/stable/modules/preprocessing.html\n",
      "Please also refer to the documentation for alternative solver options:\n",
      "    https://scikit-learn.org/stable/modules/linear_model.html#logistic-regression\n",
      "  n_iter_i = _check_optimize_result(\n",
      "/Users/pranavakadiyala/opt/anaconda3/lib/python3.9/site-packages/sklearn/linear_model/_logistic.py:458: ConvergenceWarning: lbfgs failed to converge (status=1):\n",
      "STOP: TOTAL NO. of ITERATIONS REACHED LIMIT.\n",
      "\n",
      "Increase the number of iterations (max_iter) or scale the data as shown in:\n",
      "    https://scikit-learn.org/stable/modules/preprocessing.html\n",
      "Please also refer to the documentation for alternative solver options:\n",
      "    https://scikit-learn.org/stable/modules/linear_model.html#logistic-regression\n",
      "  n_iter_i = _check_optimize_result(\n",
      "/Users/pranavakadiyala/opt/anaconda3/lib/python3.9/site-packages/sklearn/linear_model/_logistic.py:458: ConvergenceWarning: lbfgs failed to converge (status=1):\n",
      "STOP: TOTAL NO. of ITERATIONS REACHED LIMIT.\n",
      "\n",
      "Increase the number of iterations (max_iter) or scale the data as shown in:\n",
      "    https://scikit-learn.org/stable/modules/preprocessing.html\n",
      "Please also refer to the documentation for alternative solver options:\n",
      "    https://scikit-learn.org/stable/modules/linear_model.html#logistic-regression\n",
      "  n_iter_i = _check_optimize_result(\n"
     ]
    },
    {
     "name": "stdout",
     "output_type": "stream",
     "text": [
      "Best threshold for Logistic Regression: 1.25*mean\n",
      "\n",
      "\n",
      "Selected features from Logistic Regression: ['S2AFFOCCTRN_3', 'X2LOCALE_4', 'S2FOCUS2013_-7', 'S2ARRESTED_1.1179883945841391', 'S2GRD1112_1', 'X1LOCALE_3', 'X2DROPSTAT_3', 'S2SPORTS_1', 'X1STU30OCC_STEM1_1', 'X1REGION_4', 'X1STU30OCC_STEM1_0', 'S2NEVERCLG_0', 'S2FOCUS2013_1', 'S2CANTAFFORD_3', 'X2REGION_2', 'S1S8_9', 'S2ARRESTED_1.0', 'S1S8_4', 'S2AFF4YPRV_-8', 'X2REGION_4', 'X2ENROLSTAT_1', 'S2FOCUS2013_3', 'X2REGION_1', 'S1FAVSUBJ_5', 'X1REGION_2', 'X2EVERDROP_0', 'S2CLGFT2013_2', 'X2CONTROL_1', 'S2PASSGRADE_-6', 'S2AFFOCCTRN_1', 'X1CONTROL_1', 'S1FAVSUBJ_3', 'X2REGION_3', 'X1STU30OCC_STEM1_4', 'S1S8_5', 'X2ENROLSTAT_2', 'S2EDUEXP_10', 'S1S8_2', 'X2LOCALE_2', 'S2CANTAFFORD_4', 'S1SUREHSGRAD_-8', 'S2NEVERCLG_1', 'S2CANTAFFORD_2', 'X2DROPSTAT_0', 'S2CLG2013_1', 'S1M8_6', 'S2SUREDIPL_1', 'S2SPORTS_0', 'S2AFF4YIN_3', 'S1FAVSUBJ_9', 'X2ENROLSTAT_5', 'S2AFF4YOUT_-8', 'S1FAVSUBJ_4', 'S1FAVSUBJ_11', 'X2CONTROL_2', 'X2EVERDROP_1', 'X1REGION_1', 'S1FAVSUBJ_2', 'S2PASSGRADE_0', 'S2AFFOCCTRN_2', 'X1LOCALE_1', 'S1M8_4', 'S1M8_5', 'S1FAVSUBJ_13', 'X2DROPSTAT_1', 'X2LOCALE_3', 'S1M8_2', 'S2CLGFT2013_3', 'S2EDUEXP_12', 'S2ACADEMIC_1', 'S2MUSIC_0', 'S1M8_9']\n",
      "\n",
      "\n",
      "\n",
      "\n",
      "Computation time (seconds): 37.626\n"
     ]
    }
   ],
   "source": [
    "#feature selection for Logistic Regression\n",
    "X_train_smote_to_select = X_train_smote[features_to_select]\n",
    "\n",
    "pipe = Pipeline([\n",
    "    ('feature_selection', SelectFromModel(LogisticRegression())),\n",
    "    ('classification', LogisticRegression(max_iter=1000000, random_state=seed))\n",
    "])\n",
    "\n",
    "start = time.time()\n",
    "\n",
    "parameters = {'feature_selection__threshold': [0, '0.25*mean', '0.5*mean', 'mean', '1.25*mean'] }\n",
    "\n",
    "grid = GridSearchCV(pipe, parameters, cv=5).fit(X_train_smote_to_select, y_train_smote)\n",
    "\n",
    "best_threshold = grid.best_estimator_.named_steps['feature_selection'].threshold\n",
    "lr_sel = X_train_smote_to_select.columns[grid.best_estimator_.named_steps['feature_selection'].get_support()].tolist()\n",
    "print(\"Best threshold for Logistic Regression:\", best_threshold)\n",
    "print('\\n')\n",
    "print(\"Selected features from Logistic Regression:\", lr_sel)\n",
    "\n",
    "computation_time = (time.time()-start)\n",
    "print('\\n')\n",
    "print('\\n')\n",
    "print(\"Computation time (seconds): %5.3f\"%computation_time)"
   ]
  },
  {
   "cell_type": "markdown",
   "id": "2da4569d",
   "metadata": {},
   "source": [
    "For feature selection - we are tuning the threshold parameter - we are using the same range for parameters anchored against the mean."
   ]
  },
  {
   "cell_type": "code",
   "execution_count": 27,
   "id": "b898c8ca",
   "metadata": {},
   "outputs": [
    {
     "name": "stdout",
     "output_type": "stream",
     "text": [
      "Best threshold for Random Forest: 0\n",
      "\n",
      "\n",
      "Selected features from Random Forest: ['S1SUREHSGRAD_1', 'X1STU30OCC_STEM1_-8', 'X2PROBLEM', 'S2AFFOCCTRN_3', 'S1M8_7', 'S2PASSGRADE_1', 'X2STU30OCC_STEM1_4', 'S2FOCUS2013_4', 'S1FAVSUBJ_10', 'S1FAVSUBJ_8', 'S2AFF4YOUT_2', 'S2ART_1', 'X2LOCALE_4', 'S2CLUB_-8', 'S2FOCUS2013_-7', 'S1S8GRADE', 'S1WEBINFO', 'S2CANTAFFORD_-8', 'S2ARRESTED_1.1179883945841391', 'S2FOCUS2013_-9', 'S1SUREHSGRAD_2', 'S2GRD1112_4', 'S2GRD1112_1', 'S2NEVERCLG_-8', 'X2STU30OCC_STEM1_-8', 'X1LOCALE_3', 'S1S8_11', 'S2SPORTS_-8', 'S1S8_12', 'S2MUSIC_-8', 'X1SCHOOLENG', 'X2DROPSTAT_3', 'S2SPORTS_1', 'X1STU30OCC_STEM1_1', 'S1FAVSUBJ_-8', 'X1REGION_4', 'S1M8GRADE', 'X1STU30OCC_STEM1_0', 'S2NEVERCLG_0', 'S2AFF4YPRV_2', 'S2FOCUS2013_1', 'S1GOODGRADES', 'S2CANTAFFORD_3', 'S1S8_7', 'X2LOCALE_1', 'X2DROPSTAT_2', 'S2DRAMA_-8', 'X2REGION_2', 'X2ENROLSTAT_3', 'X2STU30OCC_STEM1_6', 'S1S8_9', 'S2DRAMA_1', 'S2AFF4YSEL_3', 'X1LOCALE_2', 'S1FAVSUBJ_1', 'S2ARRESTED_1.0', 'S2AFF2YPUB_2', 'S2MUSIC_1', 'S2EDUEXP_8', 'S2EDUEXP_11', 'S1S8_4', 'X2SCIID', 'S2AFF4YPRV_-8', 'S2DRAMA_0', 'S1SUREHSGRAD_4', 'S2EDUEXP_1', 'S2AFF4YSEL_2', 'S1HRACTIVITY', 'X1SCIID', 'S2EDUEXP_9', 'X2REGION_4', 'S2EDUEXP_5', 'S1S8_8', 'S1M8_-8', 'X2ENROLSTAT_1', 'S2FOCUS2013_3', 'S2CLGFT2013_-6', 'X2REGION_1', 'S1FAVSUBJ_5', 'S1S8_13', 'S2INSCHSUSP', 'X1REGION_2', 'X2EVERDROP_0', 'S2CLGFT2013_2', 'S2GRD1112_-8', 'S2EDUEXP_7', 'S1HRWORK', 'S1M8_1', 'X2CONTROL_1', 'S2PASSGRADE_-6', 'S2AFFOCCTRN_1', 'S2ARRESTED_2.0', 'S2SUREDIPL_4', 'S1SCHWASTE', 'X1CONTROL_1', 'S1FAVSUBJ_3', 'X2REGION_3', 'S2GRD1112_2', 'X1STU30OCC_STEM1_4', 'S2CLG2013_-8', 'X1MTHID', 'S2CANTAFFORD_1', 'S1S8_-6', 'S2AFF4YOUT_3', 'X2STU30OCC_STEM1_0', 'S2ART_-8', 'S1S8_1', 'S2AFF4YOUT_1', 'S1S8_3', 'S1S8_5', 'S2FOCUS2013_2', 'X2ENROLSTAT_2', 'X2ENROLSTAT_4', 'S2EDUEXP_10', 'S1S8_2', 'X2NUMHS', 'X1STU30OCC_STEM1_5', 'X2BEHAVEIN', 'X1HHNUMBER', 'X2HHNUMBER', 'X2LOCALE_2', 'S2AFFOCCTRN_-8', 'X2STU30OCC_STEM1_5', 'S2CANTAFFORD_4', 'S2EDUEXP_2', 'S2PASSGRADE_-8', 'S1SUREHSGRAD_-8', 'S2CLG2013_3', 'S2NEVERCLG_1', 'S2CANTAFFORD_2', 'X2DROPSTAT_0', 'S2SUREDIPL_3', 'S2AFF2YPUB_3', 'S2ART_0', 'S2CLG2013_1', 'S1M8_6', 'X2PAREDEXPCT', 'S2AFF2YPUB_-8', 'S2SUREDIPL_-8', 'S1FAVSUBJ_12', 'X2MTHID', 'S2CLUB_1', 'X2STUEDEXPCT', 'S2AFF4YIN_2', 'S2EDUEXP_13', 'X1CONTROL_2', 'S2ACADEMIC_-8', 'S2SUREDIPL_1', 'S1FAVSUBJ_6', 'S2EDUEXP_6', 'S2SPORTS_0', 'S1S8_-8', 'S2AFF4YIN_3', 'S2SATNUM', 'S2AFF4YSEL_1', 'S1FAVSUBJ_9', 'S2GRD1112_-6', 'X2ENROLSTAT_5', 'S1M8_-6', 'S1S8_6', 'S2AFF4YOUT_-8', 'S2CLUB_0', 'S2AFF4YPRV_1', 'S1SAFE', 'S1FAVSUBJ_4', 'X1REGION_3', 'S2SUREDIPL_2', 'S2SCHWASTE', 'S1FAVSUBJ_7', 'S1FAVSUBJ_11', 'X2CONTROL_2', 'S2CLGFT2013_-8', 'S1SUREHSGRAD_3', 'S2SUREDIPL_-6', 'X2EVERDROP_1', 'S2EDUEXP_3', 'X1REGION_1', 'S2AFF2YPUB_1', 'X1LOCALE_4', 'S2EDUEXP_-8', 'S1FAVSUBJ_2', 'S2PASSGRADE_0', 'X1PAREDEXPCT', 'S2EDUEXP_4', 'S2AFFOCCTRN_2', 'X1LOCALE_1', 'S1M8_4', 'S1M8_5', 'S1FAVSUBJ_13', 'X2DROPSTAT_1', 'S2CLGFT2013_1', 'X2STU30OCC_STEM1_1', 'S2AFF4YIN_1', 'X2LOCALE_3', 'X1STUEDEXPCT', 'S2CLG2013_2', 'S2FOCUS2013_5', 'S2ACADEMIC_0', 'S1M8_2', 'S2CLGFT2013_3', 'X1SCHOOLBEL', 'S2GRD1112_3', 'S2AFF4YIN_-8', 'X1STU30OCC_STEM1_6', 'S2EDUEXP_12', 'S2ACADEMIC_1', 'S2MUSIC_0', 'S1M8_9', 'S2AFF4YPRV_3', 'S1M8_3', 'S2AFF4YSEL_-8']\n",
      "\n",
      "\n",
      "\n",
      "\n",
      "Computation time (seconds): 71.191\n"
     ]
    }
   ],
   "source": [
    "\n",
    "#Feature selection for random forest\n",
    "pipe = Pipeline([\n",
    "    ('feature_selection', SelectFromModel(RandomForestClassifier())),\n",
    "    ('classification', RandomForestClassifier(random_state=seed))\n",
    "])\n",
    "\n",
    "start = time.time()\n",
    "\n",
    "parameters = {'feature_selection__threshold': [0, '0.25*mean', '0.5*mean', 'mean', '1.25*mean'] }\n",
    "\n",
    "grid = GridSearchCV(pipe, parameters, cv=5).fit(X_train_smote_to_select, y_train_smote)\n",
    "\n",
    "best_threshold = grid.best_estimator_.named_steps['feature_selection'].threshold\n",
    "rf_sel = X_train_smote_to_select.columns[grid.best_estimator_.named_steps['feature_selection'].get_support()].tolist()\n",
    "print(\"Best threshold for Random Forest:\", best_threshold)\n",
    "print('\\n')\n",
    "print(\"Selected features from Random Forest:\", rf_sel)\n",
    "\n",
    "computation_time = (time.time()-start)\n",
    "print('\\n')\n",
    "print('\\n')\n",
    "print(\"Computation time (seconds): %5.3f\"%computation_time)"
   ]
  },
  {
   "cell_type": "code",
   "execution_count": 28,
   "id": "125eed1e",
   "metadata": {
    "scrolled": true
   },
   "outputs": [
    {
     "name": "stdout",
     "output_type": "stream",
     "text": [
      "Best threshold for Gradient Boosting: 0\n",
      "\n",
      "\n",
      "Selected features from Gradient Boosting: ['S1SUREHSGRAD_1', 'X1STU30OCC_STEM1_-8', 'X2PROBLEM', 'S2AFFOCCTRN_3', 'S1M8_7', 'S2PASSGRADE_1', 'X2STU30OCC_STEM1_4', 'S2FOCUS2013_4', 'S1FAVSUBJ_10', 'S1FAVSUBJ_8', 'S2AFF4YOUT_2', 'S2ART_1', 'X2LOCALE_4', 'S2CLUB_-8', 'S2FOCUS2013_-7', 'S1S8GRADE', 'S1WEBINFO', 'S2CANTAFFORD_-8', 'S2ARRESTED_1.1179883945841391', 'S2FOCUS2013_-9', 'S1SUREHSGRAD_2', 'S2GRD1112_4', 'S2GRD1112_1', 'S2NEVERCLG_-8', 'X2STU30OCC_STEM1_-8', 'X1LOCALE_3', 'S1S8_11', 'S2SPORTS_-8', 'S1S8_12', 'S2MUSIC_-8', 'X1SCHOOLENG', 'X2DROPSTAT_3', 'S2SPORTS_1', 'X1STU30OCC_STEM1_1', 'S1FAVSUBJ_-8', 'X1REGION_4', 'S1M8GRADE', 'X1STU30OCC_STEM1_0', 'S2NEVERCLG_0', 'S2AFF4YPRV_2', 'S2FOCUS2013_1', 'S1GOODGRADES', 'S2CANTAFFORD_3', 'S1S8_7', 'X2LOCALE_1', 'X2DROPSTAT_2', 'S2DRAMA_-8', 'X2REGION_2', 'X2ENROLSTAT_3', 'X2STU30OCC_STEM1_6', 'S1S8_9', 'S2DRAMA_1', 'S2AFF4YSEL_3', 'X1LOCALE_2', 'S1FAVSUBJ_1', 'S2ARRESTED_1.0', 'S2AFF2YPUB_2', 'S2MUSIC_1', 'S2EDUEXP_8', 'S2EDUEXP_11', 'S1S8_4', 'X2SCIID', 'S2AFF4YPRV_-8', 'S2DRAMA_0', 'S1SUREHSGRAD_4', 'S2EDUEXP_1', 'S2AFF4YSEL_2', 'S1HRACTIVITY', 'X1SCIID', 'S2EDUEXP_9', 'X2REGION_4', 'S2EDUEXP_5', 'S1S8_8', 'S1M8_-8', 'X2ENROLSTAT_1', 'S2FOCUS2013_3', 'S2CLGFT2013_-6', 'X2REGION_1', 'S1FAVSUBJ_5', 'S1S8_13', 'S2INSCHSUSP', 'X1REGION_2', 'X2EVERDROP_0', 'S2CLGFT2013_2', 'S2GRD1112_-8', 'S2EDUEXP_7', 'S1HRWORK', 'S1M8_1', 'X2CONTROL_1', 'S2PASSGRADE_-6', 'S2AFFOCCTRN_1', 'S2ARRESTED_2.0', 'S2SUREDIPL_4', 'S1SCHWASTE', 'X1CONTROL_1', 'S1FAVSUBJ_3', 'X2REGION_3', 'S2GRD1112_2', 'X1STU30OCC_STEM1_4', 'S2CLG2013_-8', 'X1MTHID', 'S2CANTAFFORD_1', 'S1S8_-6', 'S2AFF4YOUT_3', 'X2STU30OCC_STEM1_0', 'S2ART_-8', 'S1S8_1', 'S2AFF4YOUT_1', 'S1S8_3', 'S1S8_5', 'S2FOCUS2013_2', 'X2ENROLSTAT_2', 'X2ENROLSTAT_4', 'S2EDUEXP_10', 'S1S8_2', 'X2NUMHS', 'X1STU30OCC_STEM1_5', 'X2BEHAVEIN', 'X1HHNUMBER', 'X2HHNUMBER', 'X2LOCALE_2', 'S2AFFOCCTRN_-8', 'X2STU30OCC_STEM1_5', 'S2CANTAFFORD_4', 'S2EDUEXP_2', 'S2PASSGRADE_-8', 'S1SUREHSGRAD_-8', 'S2CLG2013_3', 'S2NEVERCLG_1', 'S2CANTAFFORD_2', 'X2DROPSTAT_0', 'S2SUREDIPL_3', 'S2AFF2YPUB_3', 'S2ART_0', 'S2CLG2013_1', 'S1M8_6', 'X2PAREDEXPCT', 'S2AFF2YPUB_-8', 'S2SUREDIPL_-8', 'S1FAVSUBJ_12', 'X2MTHID', 'S2CLUB_1', 'X2STUEDEXPCT', 'S2AFF4YIN_2', 'S2EDUEXP_13', 'X1CONTROL_2', 'S2ACADEMIC_-8', 'S2SUREDIPL_1', 'S1FAVSUBJ_6', 'S2EDUEXP_6', 'S2SPORTS_0', 'S1S8_-8', 'S2AFF4YIN_3', 'S2SATNUM', 'S2AFF4YSEL_1', 'S1FAVSUBJ_9', 'S2GRD1112_-6', 'X2ENROLSTAT_5', 'S1M8_-6', 'S1S8_6', 'S2AFF4YOUT_-8', 'S2CLUB_0', 'S2AFF4YPRV_1', 'S1SAFE', 'S1FAVSUBJ_4', 'X1REGION_3', 'S2SUREDIPL_2', 'S2SCHWASTE', 'S1FAVSUBJ_7', 'S1FAVSUBJ_11', 'X2CONTROL_2', 'S2CLGFT2013_-8', 'S1SUREHSGRAD_3', 'S2SUREDIPL_-6', 'X2EVERDROP_1', 'S2EDUEXP_3', 'X1REGION_1', 'S2AFF2YPUB_1', 'X1LOCALE_4', 'S2EDUEXP_-8', 'S1FAVSUBJ_2', 'S2PASSGRADE_0', 'X1PAREDEXPCT', 'S2EDUEXP_4', 'S2AFFOCCTRN_2', 'X1LOCALE_1', 'S1M8_4', 'S1M8_5', 'S1FAVSUBJ_13', 'X2DROPSTAT_1', 'S2CLGFT2013_1', 'X2STU30OCC_STEM1_1', 'S2AFF4YIN_1', 'X2LOCALE_3', 'X1STUEDEXPCT', 'S2CLG2013_2', 'S2FOCUS2013_5', 'S2ACADEMIC_0', 'S1M8_2', 'S2CLGFT2013_3', 'X1SCHOOLBEL', 'S2GRD1112_3', 'S2AFF4YIN_-8', 'X1STU30OCC_STEM1_6', 'S2EDUEXP_12', 'S2ACADEMIC_1', 'S2MUSIC_0', 'S1M8_9', 'S2AFF4YPRV_3', 'S1M8_3', 'S2AFF4YSEL_-8']\n",
      "\n",
      "\n",
      "\n",
      "\n",
      "Computation time (seconds): 305.730\n"
     ]
    }
   ],
   "source": [
    "#Feature selection for gradient boosting\n",
    "pipe = Pipeline([\n",
    "    ('feature_selection', SelectFromModel(GradientBoostingClassifier())),\n",
    "    ('classification', GradientBoostingClassifier(random_state=seed))\n",
    "])\n",
    "\n",
    "start = time.time()\n",
    "\n",
    "parameters = {'feature_selection__threshold': [0, '0.25*mean', '0.5*mean', 'mean', '1.25*mean'] }\n",
    "\n",
    "grid = GridSearchCV(pipe, parameters, cv=5).fit(X_train_smote_to_select, y_train_smote)\n",
    "\n",
    "best_threshold = grid.best_estimator_.named_steps['feature_selection'].threshold\n",
    "gb_sel = X_train_smote_to_select.columns[grid.best_estimator_.named_steps['feature_selection'].get_support()].tolist()\n",
    "print(\"Best threshold for Gradient Boosting:\", best_threshold)\n",
    "print('\\n')\n",
    "print(\"Selected features from Gradient Boosting:\", gb_sel)\n",
    "\n",
    "computation_time = (time.time()-start)\n",
    "print('\\n')\n",
    "print('\\n')\n",
    "print(\"Computation time (seconds): %5.3f\"%computation_time)"
   ]
  },
  {
   "cell_type": "markdown",
   "id": "871e0cb5",
   "metadata": {},
   "source": [
    "The final features selected are too many, there is still very high dimensionality."
   ]
  },
  {
   "cell_type": "code",
   "execution_count": 29,
   "id": "c72c84cf",
   "metadata": {},
   "outputs": [
    {
     "name": "stdout",
     "output_type": "stream",
     "text": [
      "Index(['S1SUREHSGRAD_1', 'X1STU30OCC_STEM1_-8', 'S2FOCUS2013_4', 'X2LOCALE_4',\n",
      "       'S2CLUB_-8', 'S2FOCUS2013_-7', 'S1SUREHSGRAD_2', 'S2GRD1112_1',\n",
      "       'X2STU30OCC_STEM1_-8', 'X1LOCALE_3', 'S2SPORTS_-8', 'S2MUSIC_-8',\n",
      "       'X2DROPSTAT_3', 'S2SPORTS_1', 'X1STU30OCC_STEM1_1', 'X1REGION_4',\n",
      "       'X1STU30OCC_STEM1_0', 'S2FOCUS2013_1', 'S2CANTAFFORD_3', 'X2LOCALE_1',\n",
      "       'X2REGION_2', 'X2ENROLSTAT_3', 'S1S8_9', 'S2MUSIC_1', 'S1S8_4',\n",
      "       'S2AFF4YPRV_-8', 'S2DRAMA_0', 'S2AFF4YSEL_2', 'X2REGION_4',\n",
      "       'S2EDUEXP_5', 'S1M8_-8', 'X2ENROLSTAT_1', 'S2FOCUS2013_3', 'X2REGION_1',\n",
      "       'S1FAVSUBJ_5', 'S1S8_13', 'X1REGION_2', 'X2EVERDROP_0', 'S2GRD1112_-8',\n",
      "       'S2AFFOCCTRN_1', 'S2SUREDIPL_4', 'X2REGION_3', 'X1STU30OCC_STEM1_4',\n",
      "       'S2CANTAFFORD_1', 'S1S8_-6', 'S2ART_-8', 'S2AFF4YOUT_1', 'S1S8_3',\n",
      "       'S1S8_5', 'X2ENROLSTAT_2', 'X2ENROLSTAT_4', 'S2EDUEXP_10', 'S1S8_2',\n",
      "       'X2NUMHS', 'X2LOCALE_2', 'X2STU30OCC_STEM1_5', 'S2CANTAFFORD_4',\n",
      "       'S1SUREHSGRAD_-8', 'S2CANTAFFORD_2', 'X2DROPSTAT_0', 'S2AFF2YPUB_3',\n",
      "       'S2AFF2YPUB_-8', 'S2CLUB_1', 'S2AFF4YIN_2', 'S2ACADEMIC_-8',\n",
      "       'S2SUREDIPL_1', 'S2SPORTS_0', 'S1S8_-8', 'S2AFF4YIN_3', 'S1FAVSUBJ_9',\n",
      "       'S1M8_-6', 'S2AFF4YOUT_-8', 'S1FAVSUBJ_4', 'X1REGION_3', 'S1FAVSUBJ_11',\n",
      "       'S2SUREDIPL_-6', 'X2EVERDROP_1', 'X1REGION_1', 'X1LOCALE_4',\n",
      "       'S1FAVSUBJ_2', 'S2AFFOCCTRN_2', 'X1LOCALE_1', 'S1M8_4', 'S1M8_5',\n",
      "       'S1FAVSUBJ_13', 'X2STU30OCC_STEM1_1', 'S2AFF4YIN_1', 'X2LOCALE_3',\n",
      "       'S1M8_2', 'S2CLGFT2013_3', 'S2GRD1112_3', 'S2EDUEXP_12', 'S2MUSIC_0',\n",
      "       'S1M8_9', 'S1M8_3'],\n",
      "      dtype='object')\n",
      "Computation time (seconds): 2.873\n"
     ]
    }
   ],
   "source": [
    "start = time.time()\n",
    "#for logistic regression\n",
    "lr_selector = SelectFromModel(LogisticRegression(max_iter=10000, random_state=seed))\n",
    "lr_selector.fit(X_train_smote_to_select, y_train_smote)\n",
    "lr_selected = lr_selector.get_support()\n",
    "print(X_train_smote_to_select.columns[lr_selected])\n",
    "lr_sel = X_train_smote_to_select.columns[lr_selected].tolist()\n",
    "\n",
    "computation_time = (time.time()-start)\n",
    "print(\"Computation time (seconds): %5.3f\"%computation_time)"
   ]
  },
  {
   "cell_type": "code",
   "execution_count": 30,
   "id": "38016afc",
   "metadata": {},
   "outputs": [
    {
     "name": "stdout",
     "output_type": "stream",
     "text": [
      "Threshold for LR: 0.5650386232547246\n"
     ]
    }
   ],
   "source": [
    "print(\"Threshold for LR:\", lr_selector.threshold_)"
   ]
  },
  {
   "cell_type": "code",
   "execution_count": 31,
   "id": "e2daa9bc",
   "metadata": {},
   "outputs": [
    {
     "name": "stdout",
     "output_type": "stream",
     "text": [
      "Index(['S1SUREHSGRAD_1', 'X2PROBLEM', 'S1S8GRADE',\n",
      "       'S2ARRESTED_1.1179883945841391', 'X2DROPSTAT_3', 'S2SPORTS_1',\n",
      "       'S1M8GRADE', 'S2FOCUS2013_1', 'S1GOODGRADES', 'S1HRACTIVITY',\n",
      "       'X2ENROLSTAT_1', 'S2INSCHSUSP', 'X2EVERDROP_0', 'S2PASSGRADE_-6',\n",
      "       'S2AFFOCCTRN_1', 'S2AFF4YOUT_1', 'X2NUMHS', 'X2DROPSTAT_0',\n",
      "       'S2CLG2013_1', 'X2STUEDEXPCT', 'S2SUREDIPL_1', 'S1SAFE', 'S2SCHWASTE',\n",
      "       'X2EVERDROP_1', 'S2AFF2YPUB_1', 'S1M8_4', 'S2CLGFT2013_1',\n",
      "       'S2AFF4YIN_1', 'S2GRD1112_3'],\n",
      "      dtype='object')\n",
      "Computation time (seconds): 1.960\n"
     ]
    }
   ],
   "source": [
    "#Random Forest\n",
    "start = time.time()\n",
    "\n",
    "rf_selector = SelectFromModel(RandomForestClassifier(random_state=seed))\n",
    "rf_selector.fit(X_train_smote_to_select, y_train_smote)\n",
    "rf_selected = rf_selector.get_support()\n",
    "print(X_train_smote_to_select.columns[rf_selected])\n",
    "rf_sel = X_train_smote_to_select.columns[rf_selected].tolist()\n",
    "\n",
    "computation_time = (time.time()-start)\n",
    "print(\"Computation time (seconds): %5.3f\"%computation_time)"
   ]
  },
  {
   "cell_type": "code",
   "execution_count": 32,
   "id": "bb57643b",
   "metadata": {},
   "outputs": [
    {
     "name": "stdout",
     "output_type": "stream",
     "text": [
      "Threshold for RF: 0.004739336492890996\n"
     ]
    }
   ],
   "source": [
    "print(\"Threshold for RF:\", rf_selector.threshold_)"
   ]
  },
  {
   "cell_type": "code",
   "execution_count": 33,
   "id": "4e6035c0",
   "metadata": {},
   "outputs": [
    {
     "name": "stdout",
     "output_type": "stream",
     "text": [
      "Index(['X2ENROLSTAT_1', 'S2INSCHSUSP', 'X2EVERDROP_0', 'X2ENROLSTAT_2',\n",
      "       'X2NUMHS', 'X2DROPSTAT_0', 'S2SUREDIPL_1', 'S2SUREDIPL_2'],\n",
      "      dtype='object')\n",
      "Computation time (seconds): 11.250\n"
     ]
    }
   ],
   "source": [
    "#GB\n",
    "start = time.time()\n",
    "\n",
    "gb_selector = SelectFromModel(GradientBoostingClassifier(random_state=seed))\n",
    "gb_selector.fit(X_train_smote_to_select, y_train_smote)\n",
    "gb_selected = gb_selector.get_support()\n",
    "print(X_train_smote_to_select.columns[gb_selected])\n",
    "gb_sel = X_train_smote_to_select.columns[gb_selected].tolist()\n",
    "\n",
    "computation_time = (time.time()-start)\n",
    "print(\"Computation time (seconds): %5.3f\"%computation_time)"
   ]
  },
  {
   "cell_type": "code",
   "execution_count": 34,
   "id": "c2e8019c",
   "metadata": {},
   "outputs": [
    {
     "name": "stdout",
     "output_type": "stream",
     "text": [
      "Threshold for RF: 0.004739336492890996\n"
     ]
    }
   ],
   "source": [
    "print(\"Threshold for RF:\", gb_selector.threshold_)"
   ]
  },
  {
   "cell_type": "code",
   "execution_count": 35,
   "id": "74416f6b",
   "metadata": {},
   "outputs": [
    {
     "name": "stdout",
     "output_type": "stream",
     "text": [
      "['X2ENROLSTAT_1', 'X2NUMHS', 'X2DROPSTAT_0', 'X2EVERDROP_0', 'S2SUREDIPL_1']\n"
     ]
    }
   ],
   "source": [
    "#intersection of features from all these selector supports\n",
    "rf_lr_selected = set(rf_sel).intersection(set(lr_sel))\n",
    "selected = list(rf_lr_selected.intersection(set(gb_sel)))\n",
    "print(selected)\n",
    "\n",
    "#adding to the list of important features\n",
    "X_train_smote_final = pd.concat([X_train_smote[impt_features], X_train_smote[selected]], axis=1)\n",
    "\n",
    "X_test_final = pd.concat([X_test[impt_features], X_test[selected]], axis=1)"
   ]
  },
  {
   "cell_type": "code",
   "execution_count": 36,
   "id": "caa84fee",
   "metadata": {},
   "outputs": [
    {
     "data": {
      "text/html": [
       "<div>\n",
       "<style scoped>\n",
       "    .dataframe tbody tr th:only-of-type {\n",
       "        vertical-align: middle;\n",
       "    }\n",
       "\n",
       "    .dataframe tbody tr th {\n",
       "        vertical-align: top;\n",
       "    }\n",
       "\n",
       "    .dataframe thead th {\n",
       "        text-align: right;\n",
       "    }\n",
       "</style>\n",
       "<table border=\"1\" class=\"dataframe\">\n",
       "  <thead>\n",
       "    <tr style=\"text-align: right;\">\n",
       "      <th></th>\n",
       "      <th>X1RACE_1</th>\n",
       "      <th>X1RACE_2</th>\n",
       "      <th>X1RACE_3</th>\n",
       "      <th>X1RACE_4</th>\n",
       "      <th>X1RACE_6</th>\n",
       "      <th>X1RACE_7</th>\n",
       "      <th>X1RACE_8</th>\n",
       "      <th>X1SEX_1</th>\n",
       "      <th>X1SEX_2</th>\n",
       "      <th>X1SES_U</th>\n",
       "      <th>X2SES_U</th>\n",
       "      <th>X1AGE</th>\n",
       "      <th>X1TXMTSCOR</th>\n",
       "      <th>X2TXMTSCOR</th>\n",
       "      <th>X2ENROLSTAT_1</th>\n",
       "      <th>X2NUMHS</th>\n",
       "      <th>X2DROPSTAT_0</th>\n",
       "      <th>X2EVERDROP_0</th>\n",
       "      <th>S2SUREDIPL_1</th>\n",
       "    </tr>\n",
       "  </thead>\n",
       "  <tbody>\n",
       "    <tr>\n",
       "      <th>0</th>\n",
       "      <td>0</td>\n",
       "      <td>0</td>\n",
       "      <td>0</td>\n",
       "      <td>0</td>\n",
       "      <td>0</td>\n",
       "      <td>0</td>\n",
       "      <td>1</td>\n",
       "      <td>0</td>\n",
       "      <td>1</td>\n",
       "      <td>-0.198529</td>\n",
       "      <td>-0.062639</td>\n",
       "      <td>15</td>\n",
       "      <td>-1.522456</td>\n",
       "      <td>-0.300409</td>\n",
       "      <td>1</td>\n",
       "      <td>0.000000</td>\n",
       "      <td>1</td>\n",
       "      <td>1</td>\n",
       "      <td>1</td>\n",
       "    </tr>\n",
       "    <tr>\n",
       "      <th>1</th>\n",
       "      <td>0</td>\n",
       "      <td>0</td>\n",
       "      <td>0</td>\n",
       "      <td>0</td>\n",
       "      <td>0</td>\n",
       "      <td>0</td>\n",
       "      <td>1</td>\n",
       "      <td>1</td>\n",
       "      <td>0</td>\n",
       "      <td>0.320407</td>\n",
       "      <td>-0.524602</td>\n",
       "      <td>15</td>\n",
       "      <td>0.477339</td>\n",
       "      <td>0.815646</td>\n",
       "      <td>1</td>\n",
       "      <td>0.000000</td>\n",
       "      <td>1</td>\n",
       "      <td>1</td>\n",
       "      <td>1</td>\n",
       "    </tr>\n",
       "    <tr>\n",
       "      <th>2</th>\n",
       "      <td>0</td>\n",
       "      <td>0</td>\n",
       "      <td>0</td>\n",
       "      <td>1</td>\n",
       "      <td>0</td>\n",
       "      <td>0</td>\n",
       "      <td>0</td>\n",
       "      <td>1</td>\n",
       "      <td>0</td>\n",
       "      <td>-0.854600</td>\n",
       "      <td>-0.849008</td>\n",
       "      <td>15</td>\n",
       "      <td>-0.046882</td>\n",
       "      <td>-1.054762</td>\n",
       "      <td>0</td>\n",
       "      <td>2.000000</td>\n",
       "      <td>1</td>\n",
       "      <td>1</td>\n",
       "      <td>0</td>\n",
       "    </tr>\n",
       "    <tr>\n",
       "      <th>3</th>\n",
       "      <td>0</td>\n",
       "      <td>0</td>\n",
       "      <td>0</td>\n",
       "      <td>1</td>\n",
       "      <td>0</td>\n",
       "      <td>0</td>\n",
       "      <td>0</td>\n",
       "      <td>1</td>\n",
       "      <td>0</td>\n",
       "      <td>0.595314</td>\n",
       "      <td>0.368805</td>\n",
       "      <td>15</td>\n",
       "      <td>-0.180763</td>\n",
       "      <td>0.880210</td>\n",
       "      <td>1</td>\n",
       "      <td>0.000000</td>\n",
       "      <td>1</td>\n",
       "      <td>1</td>\n",
       "      <td>1</td>\n",
       "    </tr>\n",
       "    <tr>\n",
       "      <th>4</th>\n",
       "      <td>0</td>\n",
       "      <td>0</td>\n",
       "      <td>0</td>\n",
       "      <td>0</td>\n",
       "      <td>0</td>\n",
       "      <td>0</td>\n",
       "      <td>1</td>\n",
       "      <td>1</td>\n",
       "      <td>0</td>\n",
       "      <td>0.458632</td>\n",
       "      <td>0.410357</td>\n",
       "      <td>14</td>\n",
       "      <td>1.045185</td>\n",
       "      <td>-0.012580</td>\n",
       "      <td>1</td>\n",
       "      <td>0.000000</td>\n",
       "      <td>1</td>\n",
       "      <td>1</td>\n",
       "      <td>1</td>\n",
       "    </tr>\n",
       "    <tr>\n",
       "      <th>...</th>\n",
       "      <td>...</td>\n",
       "      <td>...</td>\n",
       "      <td>...</td>\n",
       "      <td>...</td>\n",
       "      <td>...</td>\n",
       "      <td>...</td>\n",
       "      <td>...</td>\n",
       "      <td>...</td>\n",
       "      <td>...</td>\n",
       "      <td>...</td>\n",
       "      <td>...</td>\n",
       "      <td>...</td>\n",
       "      <td>...</td>\n",
       "      <td>...</td>\n",
       "      <td>...</td>\n",
       "      <td>...</td>\n",
       "      <td>...</td>\n",
       "      <td>...</td>\n",
       "      <td>...</td>\n",
       "    </tr>\n",
       "    <tr>\n",
       "      <th>23997</th>\n",
       "      <td>0</td>\n",
       "      <td>0</td>\n",
       "      <td>0</td>\n",
       "      <td>0</td>\n",
       "      <td>0</td>\n",
       "      <td>0</td>\n",
       "      <td>0</td>\n",
       "      <td>1</td>\n",
       "      <td>0</td>\n",
       "      <td>-0.365226</td>\n",
       "      <td>-0.300074</td>\n",
       "      <td>15</td>\n",
       "      <td>-0.501992</td>\n",
       "      <td>-0.456687</td>\n",
       "      <td>0</td>\n",
       "      <td>1.767142</td>\n",
       "      <td>0</td>\n",
       "      <td>0</td>\n",
       "      <td>0</td>\n",
       "    </tr>\n",
       "    <tr>\n",
       "      <th>23998</th>\n",
       "      <td>0</td>\n",
       "      <td>0</td>\n",
       "      <td>0</td>\n",
       "      <td>0</td>\n",
       "      <td>0</td>\n",
       "      <td>0</td>\n",
       "      <td>0</td>\n",
       "      <td>0</td>\n",
       "      <td>1</td>\n",
       "      <td>-0.271517</td>\n",
       "      <td>-0.245193</td>\n",
       "      <td>15</td>\n",
       "      <td>-0.319207</td>\n",
       "      <td>-0.326451</td>\n",
       "      <td>0</td>\n",
       "      <td>1.311393</td>\n",
       "      <td>0</td>\n",
       "      <td>0</td>\n",
       "      <td>1</td>\n",
       "    </tr>\n",
       "    <tr>\n",
       "      <th>23999</th>\n",
       "      <td>0</td>\n",
       "      <td>0</td>\n",
       "      <td>0</td>\n",
       "      <td>0</td>\n",
       "      <td>0</td>\n",
       "      <td>0</td>\n",
       "      <td>0</td>\n",
       "      <td>0</td>\n",
       "      <td>0</td>\n",
       "      <td>-0.546400</td>\n",
       "      <td>-0.841992</td>\n",
       "      <td>14</td>\n",
       "      <td>-0.238726</td>\n",
       "      <td>-0.264299</td>\n",
       "      <td>0</td>\n",
       "      <td>0.897904</td>\n",
       "      <td>0</td>\n",
       "      <td>0</td>\n",
       "      <td>0</td>\n",
       "    </tr>\n",
       "    <tr>\n",
       "      <th>24000</th>\n",
       "      <td>0</td>\n",
       "      <td>0</td>\n",
       "      <td>0</td>\n",
       "      <td>0</td>\n",
       "      <td>0</td>\n",
       "      <td>0</td>\n",
       "      <td>0</td>\n",
       "      <td>0</td>\n",
       "      <td>0</td>\n",
       "      <td>0.278832</td>\n",
       "      <td>0.251846</td>\n",
       "      <td>14</td>\n",
       "      <td>-0.373214</td>\n",
       "      <td>-0.331672</td>\n",
       "      <td>0</td>\n",
       "      <td>1.673106</td>\n",
       "      <td>0</td>\n",
       "      <td>0</td>\n",
       "      <td>0</td>\n",
       "    </tr>\n",
       "    <tr>\n",
       "      <th>24001</th>\n",
       "      <td>0</td>\n",
       "      <td>0</td>\n",
       "      <td>0</td>\n",
       "      <td>0</td>\n",
       "      <td>0</td>\n",
       "      <td>0</td>\n",
       "      <td>0</td>\n",
       "      <td>0</td>\n",
       "      <td>0</td>\n",
       "      <td>-0.088514</td>\n",
       "      <td>-0.457576</td>\n",
       "      <td>15</td>\n",
       "      <td>0.228778</td>\n",
       "      <td>0.040424</td>\n",
       "      <td>0</td>\n",
       "      <td>1.174861</td>\n",
       "      <td>1</td>\n",
       "      <td>1</td>\n",
       "      <td>0</td>\n",
       "    </tr>\n",
       "  </tbody>\n",
       "</table>\n",
       "<p>24002 rows × 19 columns</p>\n",
       "</div>"
      ],
      "text/plain": [
       "       X1RACE_1  X1RACE_2  X1RACE_3  X1RACE_4  X1RACE_6  X1RACE_7  X1RACE_8  \\\n",
       "0             0         0         0         0         0         0         1   \n",
       "1             0         0         0         0         0         0         1   \n",
       "2             0         0         0         1         0         0         0   \n",
       "3             0         0         0         1         0         0         0   \n",
       "4             0         0         0         0         0         0         1   \n",
       "...         ...       ...       ...       ...       ...       ...       ...   \n",
       "23997         0         0         0         0         0         0         0   \n",
       "23998         0         0         0         0         0         0         0   \n",
       "23999         0         0         0         0         0         0         0   \n",
       "24000         0         0         0         0         0         0         0   \n",
       "24001         0         0         0         0         0         0         0   \n",
       "\n",
       "       X1SEX_1  X1SEX_2   X1SES_U   X2SES_U  X1AGE  X1TXMTSCOR  X2TXMTSCOR  \\\n",
       "0            0        1 -0.198529 -0.062639     15   -1.522456   -0.300409   \n",
       "1            1        0  0.320407 -0.524602     15    0.477339    0.815646   \n",
       "2            1        0 -0.854600 -0.849008     15   -0.046882   -1.054762   \n",
       "3            1        0  0.595314  0.368805     15   -0.180763    0.880210   \n",
       "4            1        0  0.458632  0.410357     14    1.045185   -0.012580   \n",
       "...        ...      ...       ...       ...    ...         ...         ...   \n",
       "23997        1        0 -0.365226 -0.300074     15   -0.501992   -0.456687   \n",
       "23998        0        1 -0.271517 -0.245193     15   -0.319207   -0.326451   \n",
       "23999        0        0 -0.546400 -0.841992     14   -0.238726   -0.264299   \n",
       "24000        0        0  0.278832  0.251846     14   -0.373214   -0.331672   \n",
       "24001        0        0 -0.088514 -0.457576     15    0.228778    0.040424   \n",
       "\n",
       "       X2ENROLSTAT_1   X2NUMHS  X2DROPSTAT_0  X2EVERDROP_0  S2SUREDIPL_1  \n",
       "0                  1  0.000000             1             1             1  \n",
       "1                  1  0.000000             1             1             1  \n",
       "2                  0  2.000000             1             1             0  \n",
       "3                  1  0.000000             1             1             1  \n",
       "4                  1  0.000000             1             1             1  \n",
       "...              ...       ...           ...           ...           ...  \n",
       "23997              0  1.767142             0             0             0  \n",
       "23998              0  1.311393             0             0             1  \n",
       "23999              0  0.897904             0             0             0  \n",
       "24000              0  1.673106             0             0             0  \n",
       "24001              0  1.174861             1             1             0  \n",
       "\n",
       "[24002 rows x 19 columns]"
      ]
     },
     "execution_count": 36,
     "metadata": {},
     "output_type": "execute_result"
    }
   ],
   "source": [
    "X_train_smote_final"
   ]
  },
  {
   "cell_type": "markdown",
   "id": "6a6a4570",
   "metadata": {},
   "source": [
    "The feature selector worked better without tuning, in idenitfying more important features for the model."
   ]
  },
  {
   "cell_type": "markdown",
   "id": "ed458614",
   "metadata": {},
   "source": [
    "---\n",
    "## Model Tuning, Validation and Selection"
   ]
  },
  {
   "cell_type": "markdown",
   "id": "21c292de",
   "metadata": {},
   "source": [
    "#### Logistic Regression"
   ]
  },
  {
   "cell_type": "code",
   "execution_count": 37,
   "id": "41f92f4d",
   "metadata": {},
   "outputs": [
    {
     "name": "stdout",
     "output_type": "stream",
     "text": [
      "The tuned parameters are: {'solver': 'lbfgs'}\n",
      "Computation time (seconds): 30.778\n"
     ]
    }
   ],
   "source": [
    "#hyperparameter tuning logistic regression\n",
    "start = time.time()\n",
    "lr = LogisticRegression(max_iter=10000, random_state=seed)\n",
    "parameters = {'solver'  : ['lbfgs', 'liblinear','newton-cg','sag','saga']}\n",
    "tuning_lr = GridSearchCV(lr,                     # model\n",
    "                      param_grid = parameters,   # hyperparameters\n",
    "                      scoring='accuracy',        # metric for scoring\n",
    "                      cv=10)\n",
    "tuning_lr.fit(X_train_smote_final,y_train_smote)\n",
    "print(\"The tuned parameters are:\", tuning_lr.best_params_)\n",
    "\n",
    "computation_time = (time.time()-start)\n",
    "print(\"Computation time (seconds): %5.3f\"%computation_time)"
   ]
  },
  {
   "cell_type": "code",
   "execution_count": 38,
   "id": "0a2b19ab",
   "metadata": {},
   "outputs": [
    {
     "name": "stdout",
     "output_type": "stream",
     "text": [
      "                          precision    recall  f1-score   support\n",
      "\n",
      "       Never Dropped Out      0.905     1.000     0.950      4019\n",
      "Dropped Out Atleast Once      0.000     0.000     0.000       422\n",
      "\n",
      "                accuracy                          0.905      4441\n",
      "               macro avg      0.452     0.500     0.475      4441\n",
      "            weighted avg      0.819     0.905     0.860      4441\n",
      "\n"
     ]
    },
    {
     "name": "stderr",
     "output_type": "stream",
     "text": [
      "/Users/pranavakadiyala/opt/anaconda3/lib/python3.9/site-packages/sklearn/metrics/_classification.py:1344: UndefinedMetricWarning: Precision and F-score are ill-defined and being set to 0.0 in labels with no predicted samples. Use `zero_division` parameter to control this behavior.\n",
      "  _warn_prf(average, modifier, msg_start, len(result))\n",
      "/Users/pranavakadiyala/opt/anaconda3/lib/python3.9/site-packages/sklearn/metrics/_classification.py:1344: UndefinedMetricWarning: Precision and F-score are ill-defined and being set to 0.0 in labels with no predicted samples. Use `zero_division` parameter to control this behavior.\n",
      "  _warn_prf(average, modifier, msg_start, len(result))\n",
      "/Users/pranavakadiyala/opt/anaconda3/lib/python3.9/site-packages/sklearn/metrics/_classification.py:1344: UndefinedMetricWarning: Precision and F-score are ill-defined and being set to 0.0 in labels with no predicted samples. Use `zero_division` parameter to control this behavior.\n",
      "  _warn_prf(average, modifier, msg_start, len(result))\n"
     ]
    },
    {
     "data": {
      "image/png": "[encoded data removed]",
      "text/plain": [
       "<Figure size 432x288 with 2 Axes>"
      ]
     },
     "metadata": {
      "needs_background": "light"
     },
     "output_type": "display_data"
    }
   ],
   "source": [
    "#running logistic regression with the best performing parameters\n",
    "lr = LogisticRegression(max_iter=10000, solver='lbfgs', random_state=seed)\n",
    "lr.fit(X_train_smote_final,y_train_smote)\n",
    "\n",
    "lr_pred = lr.predict(X_test_final)\n",
    "\n",
    "cm_lr = confusion_matrix(y_test, lr_pred)\n",
    "display_cm_lr = ConfusionMatrixDisplay(confusion_matrix=cm_lr,display_labels=['Never Dropped Out','Dropped Out Atleast Once'])\n",
    "display_cm_lr.plot()\n",
    "\n",
    "\n",
    "print(classification_report(y_test, lr_pred, digits=3, target_names=['Never Dropped Out','Dropped Out Atleast Once']))"
   ]
  },
  {
   "cell_type": "markdown",
   "id": "237ba4f0",
   "metadata": {},
   "source": [
    "#### Random Classifier"
   ]
  },
  {
   "cell_type": "code",
   "execution_count": 39,
   "id": "8e2bfdbc",
   "metadata": {},
   "outputs": [
    {
     "name": "stdout",
     "output_type": "stream",
     "text": [
      "{'max_depth': 30, 'min_samples_split': 2, 'n_estimators': 100}\n",
      "Computation time (seconds): 1143.781\n"
     ]
    }
   ],
   "source": [
    "start = time.time()\n",
    "rf = RandomForestClassifier(random_state=seed)\n",
    "parameters = {'n_estimators'  : [50, 100, 150, 200],\n",
    "              'max_depth': [5, 10, 20, 30, None],\n",
    "             'min_samples_split': [2, 5, 7, 10]}\n",
    "tuning_rf = GridSearchCV(rf,                     # model\n",
    "                      param_grid = parameters,   # hyperparameters\n",
    "                      scoring='accuracy',        # metric for scoring\n",
    "                      cv=10)\n",
    "tuning_rf.fit(X_train_smote_final,y_train_smote)\n",
    "print(tuning_rf.best_params_)\n",
    "\n",
    "computation_time = (time.time()-start)\n",
    "print(\"Computation time (seconds): %5.3f\"%computation_time)"
   ]
  },
  {
   "cell_type": "code",
   "execution_count": 40,
   "id": "7033247f",
   "metadata": {},
   "outputs": [
    {
     "name": "stdout",
     "output_type": "stream",
     "text": [
      "                          precision    recall  f1-score   support\n",
      "\n",
      "       Never Dropped Out      0.980     1.000     0.990      4019\n",
      "Dropped Out Atleast Once      1.000     0.803     0.891       422\n",
      "\n",
      "                accuracy                          0.981      4441\n",
      "               macro avg      0.990     0.902     0.940      4441\n",
      "            weighted avg      0.982     0.981     0.980      4441\n",
      "\n"
     ]
    },
    {
     "data": {
      "image/png": "[encoded data removed]",
      "text/plain": [
       "<Figure size 432x288 with 2 Axes>"
      ]
     },
     "metadata": {
      "needs_background": "light"
     },
     "output_type": "display_data"
    }
   ],
   "source": [
    "rf = RandomForestClassifier(max_depth= None, min_samples_split = 2, n_estimators = 150, random_state=seed)\n",
    "rf.fit(X_train_smote_final,y_train_smote)\n",
    "\n",
    "rf_pred = rf.predict(X_test_final)\n",
    "\n",
    "cm_rf = confusion_matrix(y_test, rf_pred)\n",
    "display_cm_rf = ConfusionMatrixDisplay(confusion_matrix=cm_rf,display_labels=['Never Dropped Out','Dropped Out Atleast Once'])\n",
    "display_cm_rf.plot()\n",
    "\n",
    "\n",
    "print(classification_report(y_test, rf_pred, digits=3, target_names=['Never Dropped Out','Dropped Out Atleast Once']))"
   ]
  },
  {
   "cell_type": "markdown",
   "id": "372173c5",
   "metadata": {},
   "source": [
    "#### Gradient Boosting"
   ]
  },
  {
   "cell_type": "code",
   "execution_count": 41,
   "id": "3f4d95ca",
   "metadata": {},
   "outputs": [
    {
     "name": "stdout",
     "output_type": "stream",
     "text": [
      "{'learning_rate': 0.1, 'max_depth': 10, 'n_estimators': 150}\n",
      "Computation time (seconds): 2315.980\n"
     ]
    }
   ],
   "source": [
    "start = time.time()\n",
    "gb = GradientBoostingClassifier(random_state=seed)\n",
    "parameters = {'n_estimators'  : [50, 100, 150],\n",
    "              'max_depth': [10, 20, 30],\n",
    "             'learning_rate': [0.001, 0.01, 0.1]}\n",
    "tuning_gb = GridSearchCV(gb,                     # model\n",
    "                      param_grid = parameters,   # hyperparameters\n",
    "                      scoring='accuracy',        # metric for scoring\n",
    "                      cv=10)\n",
    "tuning_gb.fit(X_train_smote_final,y_train_smote)\n",
    "print(tuning_gb.best_params_)\n",
    "\n",
    "computation_time = (time.time()-start)\n",
    "print(\"Computation time (seconds): %5.3f\"%computation_time)"
   ]
  },
  {
   "cell_type": "code",
   "execution_count": 42,
   "id": "2506d46a",
   "metadata": {},
   "outputs": [
    {
     "name": "stdout",
     "output_type": "stream",
     "text": [
      "                          precision    recall  f1-score   support\n",
      "\n",
      "       Never Dropped Out      0.980     0.998     0.989      4019\n",
      "Dropped Out Atleast Once      0.974     0.806     0.882       422\n",
      "\n",
      "                accuracy                          0.980      4441\n",
      "               macro avg      0.977     0.902     0.935      4441\n",
      "            weighted avg      0.979     0.980     0.979      4441\n",
      "\n"
     ]
    },
    {
     "data": {
      "image/png": "[encoded data removed]",
      "text/plain": [
       "<Figure size 432x288 with 2 Axes>"
      ]
     },
     "metadata": {
      "needs_background": "light"
     },
     "output_type": "display_data"
    }
   ],
   "source": [
    "gb = GradientBoostingClassifier(max_depth= 10, learning_rate = 0.1, n_estimators = 150, random_state=seed)\n",
    "gb.fit(X_train_smote_final,y_train_smote)\n",
    "\n",
    "gb_pred = gb.predict(X_test_final)\n",
    "\n",
    "cm_gb = confusion_matrix(y_test, gb_pred)\n",
    "display_cm_gb = ConfusionMatrixDisplay(confusion_matrix=cm_gb, display_labels=['Never Dropped Out','Dropped Out Atleast Once'])\n",
    "display_cm_gb.plot()\n",
    "\n",
    "print(classification_report(y_test, gb_pred, digits=3, target_names=['Never Dropped Out','Dropped Out Atleast Once']))"
   ]
  },
  {
   "cell_type": "markdown",
   "id": "85cde398",
   "metadata": {},
   "source": [
    "#### ROC and AUC"
   ]
  },
  {
   "cell_type": "code",
   "execution_count": 43,
   "id": "909da212",
   "metadata": {},
   "outputs": [],
   "source": [
    "# Generating ROC and AUC\n",
    "rf_auc = roc_auc_score(y_test, rf.predict_proba(X_test_final)[:, 1])\n",
    "lr_auc= roc_auc_score(y_test, lr.predict_proba(X_test_final)[:, 1])\n",
    "gb_auc= roc_auc_score(y_test, gb.predict_proba(X_test_final)[:, 1])\n",
    "\n",
    "rf_fpr, rf_tpr, rf_threshold = roc_curve(y_test, rf.predict_proba(X_test_final)[:, 1])\n",
    "lr_fpr, lr_tpr, lr_threshold = roc_curve(y_test, lr.predict_proba(X_test_final)[:, 1])\n",
    "gb_fpr, gb_tpr, gb_threshold = roc_curve(y_test, gb.predict_proba(X_test_final)[:, 1])\n"
   ]
  },
  {
   "cell_type": "code",
   "execution_count": 44,
   "id": "28a38b37",
   "metadata": {},
   "outputs": [
    {
     "data": {
      "image/png": "[encoded data removed]",
      "text/plain": [
       "<Figure size 720x720 with 1 Axes>"
      ]
     },
     "metadata": {
      "needs_background": "light"
     },
     "output_type": "display_data"
    }
   ],
   "source": [
    "plt.figure(figsize=(10, 10))\n",
    "plt.plot(lr_fpr, lr_tpr, marker='.', label='Logistic Regression - AUC:%.3f' % lr_auc)\n",
    "plt.plot(rf_fpr, rf_tpr, marker='.', label='Random Forest - AUC: %.3f' % rf_auc)\n",
    "plt.plot(gb_fpr, gb_tpr, marker='.', label='Gradient Boosting - AUC: %.3f' % gb_auc)\n",
    "\n",
    "plt.plot([0, 1], [0, 1], \"--\", label=\"Chance level (AUC = 0.5)\")\n",
    "plt.xlabel('FPR - False Positive Rate', fontsize=18)\n",
    "plt.ylabel('TPR - True Positive Rate', fontsize=18)\n",
    "plt.title('Work Location Preference',  fontsize=24)\n",
    "plt.legend(loc='lower right', fontsize=14)\n",
    "plt.show()"
   ]
  },
  {
   "cell_type": "markdown",
   "id": "2e8c72b4",
   "metadata": {},
   "source": [
    "We check to see if the high accuracy is a result of very high correlation between the features and the target variable. Essentially, we want to avoid a situation where one of the features' relationship with the target is one-on-one such that looking at the feature is as good as using the target variable."
   ]
  },
  {
   "cell_type": "code",
   "execution_count": 45,
   "id": "7955c3b7",
   "metadata": {},
   "outputs": [
    {
     "name": "stdout",
     "output_type": "stream",
     "text": [
      "X2DROPSTAT_0    -0.010022\n",
      "X2EVERDROP_0    -0.010022\n",
      "X1AGE           -0.009884\n",
      "X1RACE_3        -0.009256\n",
      "X1RACE_6        -0.009097\n",
      "X2TXMTSCOR      -0.007009\n",
      "X1SEX_1         -0.006083\n",
      "S2SUREDIPL_1    -0.004290\n",
      "X1RACE_7        -0.004287\n",
      "X2SES_U         -0.003070\n",
      "X2ENROLSTAT_1   -0.002548\n",
      "X1SES_U         -0.002377\n",
      "X1RACE_8         0.000424\n",
      "X1TXMTSCOR       0.000450\n",
      "X1SEX_2          0.000533\n",
      "X1RACE_2         0.004324\n",
      "X1RACE_1         0.004448\n",
      "X1RACE_4         0.007609\n",
      "X2NUMHS          0.008795\n",
      "Name: X3EVERDROP, dtype: float64\n"
     ]
    }
   ],
   "source": [
    "#seeing correlation of the features finally selected with the target variable\n",
    "corr_df = pd.concat([X_train_smote_final, y_train], axis=1)\n",
    "corr_matrix = corr_df.corr()\n",
    "print(corr_matrix.iloc[-1, :-1].sort_values())"
   ]
  },
  {
   "cell_type": "markdown",
   "id": "45b45d8f",
   "metadata": {},
   "source": [
    "### Conclusion - best model: Random Forest\n",
    "Both Random Forest and Gradient Boost Models work equally well when it comes to performance as per the confusion matrix. Even with resampling, the majority class ('Never Dropped Out') has much higher f1-score than the minority class ('Dropped out atleast once').\n",
    "\n",
    "However looking at the ROC and AUC curves, random forest outperforms grdient boost model marginally. \n",
    "\n",
    "Looking at AUC, even though logistic regression has the highest AUC of all three models, it performs terribly to classify the minority class, hence this is not the ideal model"
   ]
  },
  {
   "cell_type": "markdown",
   "id": "3f67c8d1",
   "metadata": {},
   "source": [
    "---\n",
    "## Answering Question"
   ]
  },
  {
   "cell_type": "markdown",
   "id": "2762f51c",
   "metadata": {},
   "source": [
    "### Feature Importance"
   ]
  },
  {
   "cell_type": "code",
   "execution_count": 46,
   "id": "988a54ba",
   "metadata": {},
   "outputs": [],
   "source": [
    "#Logistic Rergession\n",
    "fimp_lr = pd.DataFrame({'Features':X_train_smote_final.columns, 'Importance': np.array(lr.coef_[0])})"
   ]
  },
  {
   "cell_type": "code",
   "execution_count": 47,
   "id": "416fd794",
   "metadata": {
    "scrolled": true
   },
   "outputs": [
    {
     "data": {
      "text/plain": [
       "Text(0, 0.5, 'Feature Names')"
      ]
     },
     "execution_count": 47,
     "metadata": {},
     "output_type": "execute_result"
    },
    {
     "data": {
      "image/png": "[encoded data removed]",
      "text/plain": [
       "<Figure size 576x360 with 1 Axes>"
      ]
     },
     "metadata": {
      "needs_background": "light"
     },
     "output_type": "display_data"
    }
   ],
   "source": [
    "plt.figure(figsize=(8,5))\n",
    "sns.barplot(x='Importance', y='Features',data=fimp_lr)\n",
    "\n",
    "plt.title('Feature Importance')\n",
    "plt.xlabel('Feature Importance')\n",
    "plt.ylabel('Feature Names')"
   ]
  },
  {
   "cell_type": "markdown",
   "id": "f79c6654",
   "metadata": {},
   "source": [
    "Feature Importance for Random Forest and Gradient Boosting"
   ]
  },
  {
   "cell_type": "code",
   "execution_count": 48,
   "id": "0003b950",
   "metadata": {},
   "outputs": [],
   "source": [
    "#Random Forest\n",
    "#getting feature importances\n",
    "fimp_rf = rf.feature_importances_\n",
    "\n",
    "#putting them into dataframe\n",
    "fimp_rf = pd.DataFrame({'Features':X_train_smote_final.columns,'Importance':np.array(rf.feature_importances_)})\n",
    "#fimp_rf.sort_values(by=['Importance'], ascending=False, inplace=True)\n"
   ]
  },
  {
   "cell_type": "code",
   "execution_count": 49,
   "id": "32b050e8",
   "metadata": {},
   "outputs": [],
   "source": [
    "#Gradient Boosting\n",
    "#getting feature importances\n",
    "fimp_gb = gb.feature_importances_\n",
    "\n",
    "#putting them into dataframe\n",
    "fimp_gb = pd.DataFrame({'Features':X_train_smote_final.columns,'Importance':np.array(gb.feature_importances_)})\n",
    "#fimp_gb.sort_values(by=['Importance'], ascending=False, inplace=True)"
   ]
  },
  {
   "cell_type": "code",
   "execution_count": 50,
   "id": "5912f3cd",
   "metadata": {},
   "outputs": [
    {
     "data": {
      "text/plain": [
       "Text(0, 0.5, 'Feature Names')"
      ]
     },
     "execution_count": 50,
     "metadata": {},
     "output_type": "execute_result"
    },
    {
     "data": {
      "image/png": "[encoded data removed]",
      "text/plain": [
       "<Figure size 720x720 with 2 Axes>"
      ]
     },
     "metadata": {
      "needs_background": "light"
     },
     "output_type": "display_data"
    }
   ],
   "source": [
    "#plotting feature importances \n",
    "fig, axes = plt.subplots(2, figsize=(10, 10))\n",
    "fig.suptitle('Feature Importance')\n",
    "\n",
    "fig1 = sns.barplot(x='Importance', y='Features',data=fimp_rf, ax=axes[0])\n",
    "fig1.set_title('Random Forest')\n",
    "fig1.set_xlabel('Feature Importance')\n",
    "fig1.set_ylabel('Feature Names')\n",
    "\n",
    "\n",
    "fig2 = sns.barplot(x='Importance', y='Features',data=fimp_gb, ax=axes[1])\n",
    "fig2.set_title('Gradient Boosting')\n",
    "fig2.set_xlabel('Feature Importance')\n",
    "fig2.set_ylabel('Feature Names')"
   ]
  },
  {
   "cell_type": "markdown",
   "id": "f7e26123",
   "metadata": {},
   "source": [
    "### Race as potential Factor of Dropping out"
   ]
  },
  {
   "cell_type": "code",
   "execution_count": 52,
   "id": "0b77247f",
   "metadata": {},
   "outputs": [
    {
     "data": {
      "text/plain": [
       "Text(0, 0.5, 'Race')"
      ]
     },
     "execution_count": 52,
     "metadata": {},
     "output_type": "execute_result"
    },
    {
     "data": {
      "image/png": "[encoded data removed]",
      "text/plain": [
       "<Figure size 432x288 with 1 Axes>"
      ]
     },
     "metadata": {
      "needs_background": "light"
     },
     "output_type": "display_data"
    }
   ],
   "source": [
    "X_train_new = pd.concat([X_train[impt_features], X_train[selected]], axis=1)\n",
    "X_train_new['Predict_rf'] = gb.predict(X_train_new)\n",
    "\n",
    "drop_asian = X_train_new.loc[X_train_new['X1RACE_2'] > 0, 'Predict_rf'].mean()\n",
    "drop_black = X_train_new.loc[X_train_new['X1RACE_3'] > 0, 'Predict_rf'].mean()\n",
    "drop_hispanic = X_train_new.loc[X_train_new['X1RACE_4'] > 0, 'Predict_rf'].mean()\n",
    "drop_white = X_train_new.loc[X_train_new['X1RACE_8'] > 0, 'Predict_rf'].mean()\n",
    "\n",
    "\n",
    "x = [drop_asian, drop_black, drop_hispanic, drop_white]\n",
    "y = ['Asian', 'Black', 'Hispanic', 'White']\n",
    "\n",
    "df = pd.DataFrame({'Classification': x, 'Race': y})\n",
    "sns.barplot(x='Classification', y='Race',data=df)\n",
    "plt.xlabel('Drop-out Average')\n",
    "plt.ylabel('Race')"
   ]
  },
  {
   "cell_type": "markdown",
   "id": "9f170d39",
   "metadata": {},
   "source": [
    "---\n",
    "## References"
   ]
  },
  {
   "cell_type": "markdown",
   "id": "72c57319",
   "metadata": {},
   "source": [
    "1. https://towardsdatascience.com/feature-selection-using-regularisation-a3678b71e499\n",
    "2. https://medium.com/@onersarpnalcin/standardscaler-vs-minmaxscaler-vs-robustscaler-which-one-to-use-for-your-next-ml-project-ae5b44f571b9\n",
    "3. https://scikit-learn.org/stable/modules/generated/sklearn.feature_selection.SelectFromModel.html\n",
    "4. In class exercise 12\n",
    "5. HW3\n",
    "6. https://scikit-learn.org/stable/modules/generated/sklearn.preprocessing.OrdinalEncoder.html\n",
    "7. https://scikit-learn.org/stable/tutorial/statistical_inference/putting_together.html\n"
   ]
  },
  {
   "cell_type": "code",
   "execution_count": null,
   "id": "b777c381",
   "metadata": {},
   "outputs": [],
   "source": []
  }
 ],
 "metadata": {
  "kernelspec": {
   "display_name": "Python 3 (ipykernel)",
   "language": "python",
   "name": "python3"
  },
  "language_info": {
   "codemirror_mode": {
    "name": "ipython",
    "version": 3
   },
   "file_extension": ".py",
   "mimetype": "text/x-python",
   "name": "python",
   "nbconvert_exporter": "python",
   "pygments_lexer": "ipython3",
   "version": "3.9.12"
  }
 },
 "nbformat": 4,
 "nbformat_minor": 5
}
