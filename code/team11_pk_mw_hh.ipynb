{
 "cells": [
  {
   "cell_type": "markdown",
   "id": "3a743b8b",
   "metadata": {},
   "source": [
    "# Data Cleaning and Project Definition\n",
    "\n",
    "## Project Title: Understanding graduation rates to student success and professional development\n",
    "\n",
    "### Team Number: 11\n",
    "### Team Members: \n",
    "- Pranava Kadiyala (pskadiya@andrew.cmu.edu)\n",
    "- Matthew Wu (mrw2@andrew.cmu.edu)\n",
    "- Hiba Hassan (hibah@andrew.cmu.edu)"
   ]
  },
  {
   "cell_type": "markdown",
   "id": "1f3e17bc-53d2-4371-828e-f6955819d71a",
   "metadata": {},
   "source": [
    "### Outline\n",
    "1. Overview\n",
    "2. Data Setup and Data Cleaning\n",
    "    - Null/Negative Values\n",
    "    - Numerical Variables\n",
    "    - Categorical Variables\n",
    "3. Data Visualization\n",
    "4. Classification/Prediction Variables \n",
    "5. Question Definition\n",
    "6. Pre-liminary Test"
   ]
  },
  {
   "cell_type": "code",
   "execution_count": 1,
   "id": "bb50f766",
   "metadata": {},
   "outputs": [],
   "source": [
    "#Importing relevant libraries\n",
    "import numpy as np\n",
    "import pandas as pd\n",
    "import seaborn as sns\n",
    "from matplotlib import pyplot as plt\n",
    "from sklearn.metrics import mean_squared_error\n",
    "from sklearn.linear_model import LinearRegression\n",
    "from sklearn.preprocessing import PolynomialFeatures\n",
    "from sklearn.preprocessing import StandardScaler\n",
    "from sklearn.model_selection import train_test_split, LeaveOneOut, KFold, cross_val_score\n",
    "from sklearn.linear_model import Ridge, RidgeCV, Lasso, LassoCV\n",
    "from sklearn import metrics\n",
    "from sklearn.metrics import r2_score \n",
    "import time\n",
    "from sklearn.feature_selection import SequentialFeatureSelector\n",
    "\n",
    "from sklearn.preprocessing import LabelEncoder, OrdinalEncoder\n",
    "\n",
    "from sklearn.naive_bayes import GaussianNB\n",
    "from sklearn.naive_bayes import MultinomialNB\n",
    "from sklearn.naive_bayes import BernoulliNB\n",
    "from sklearn.linear_model import LogisticRegression\n",
    "from sklearn.neighbors import KNeighborsClassifier\n",
    "\n",
    "from sklearn.metrics import roc_auc_score, roc_curve\n",
    "from sklearn.metrics import mean_squared_error, confusion_matrix, ConfusionMatrixDisplay, classification_report\n",
    "from sklearn.utils import resample\n",
    "\n",
    "%matplotlib inline"
   ]
  },
  {
   "cell_type": "markdown",
   "id": "b3934680",
   "metadata": {
    "jp-MarkdownHeadingCollapsed": true,
    "tags": []
   },
   "source": [
    "## Overview\n",
    "Machine learning models and tools have transformed how the public policy realm is impacted by identifying the complex relationships that persist within such domains. The project seeks to utilize such models and techniques to tap into and impact the human development realm of policy making, specifically through education.\n",
    "\n",
    "Details:\n",
    "- Who: High School Students\n",
    "- Where: United States of America\n",
    "- When: Panel Data Collected: 2009 (When students were in 9th Grade) to 2016 (When students are potentially in final year of  university)\n",
    "\n",
    "- Data retrieved from National Center for Education Statistics: 'High School Longitudinal Study of 2009' (https://nces.ed.gov/datalab/onlinecodebook)"
   ]
  },
  {
   "cell_type": "markdown",
   "id": "d9f45f40",
   "metadata": {},
   "source": [
    "---\n",
    "## Data Setup and Data Cleaning"
   ]
  },
  {
   "cell_type": "markdown",
   "id": "d15fd155",
   "metadata": {},
   "source": [
    "### Data Summary"
   ]
  },
  {
   "cell_type": "code",
   "execution_count": 2,
   "id": "55a03965",
   "metadata": {},
   "outputs": [
    {
     "data": {
      "text/html": [
       "<div>\n",
       "<style scoped>\n",
       "    .dataframe tbody tr th:only-of-type {\n",
       "        vertical-align: middle;\n",
       "    }\n",
       "\n",
       "    .dataframe tbody tr th {\n",
       "        vertical-align: top;\n",
       "    }\n",
       "\n",
       "    .dataframe thead th {\n",
       "        text-align: right;\n",
       "    }\n",
       "</style>\n",
       "<table border=\"1\" class=\"dataframe\">\n",
       "  <thead>\n",
       "    <tr style=\"text-align: right;\">\n",
       "      <th></th>\n",
       "      <th>STU_ID</th>\n",
       "      <th>X2UNIV1</th>\n",
       "      <th>X2UNIV2A</th>\n",
       "      <th>X2UNIV2B</th>\n",
       "      <th>X3UNIV1</th>\n",
       "      <th>X4UNIV1</th>\n",
       "      <th>W1STUDENT</th>\n",
       "      <th>W2STUDENT</th>\n",
       "      <th>W3STUDENT</th>\n",
       "      <th>W4STUDENT</th>\n",
       "      <th>...</th>\n",
       "      <th>S2MUSIC</th>\n",
       "      <th>S2ART</th>\n",
       "      <th>S2DRAMA</th>\n",
       "      <th>S2SPORTS</th>\n",
       "      <th>S2CLUB</th>\n",
       "      <th>S2ACADEMIC</th>\n",
       "      <th>S3HSCRED</th>\n",
       "      <th>S3FOCUS</th>\n",
       "      <th>S3CLGFT</th>\n",
       "      <th>S3WORKFT</th>\n",
       "    </tr>\n",
       "  </thead>\n",
       "  <tbody>\n",
       "    <tr>\n",
       "      <th>0</th>\n",
       "      <td>10001</td>\n",
       "      <td>11</td>\n",
       "      <td>1</td>\n",
       "      <td>1</td>\n",
       "      <td>1111</td>\n",
       "      <td>11111</td>\n",
       "      <td>375.667105</td>\n",
       "      <td>365.607062</td>\n",
       "      <td>392.215779</td>\n",
       "      <td>466.860846</td>\n",
       "      <td>...</td>\n",
       "      <td>0</td>\n",
       "      <td>1</td>\n",
       "      <td>0</td>\n",
       "      <td>1</td>\n",
       "      <td>1</td>\n",
       "      <td>0</td>\n",
       "      <td>1</td>\n",
       "      <td>1</td>\n",
       "      <td>1</td>\n",
       "      <td>-7</td>\n",
       "    </tr>\n",
       "    <tr>\n",
       "      <th>1</th>\n",
       "      <td>10002</td>\n",
       "      <td>11</td>\n",
       "      <td>1</td>\n",
       "      <td>1</td>\n",
       "      <td>1111</td>\n",
       "      <td>11111</td>\n",
       "      <td>189.309446</td>\n",
       "      <td>196.338045</td>\n",
       "      <td>236.571468</td>\n",
       "      <td>254.811585</td>\n",
       "      <td>...</td>\n",
       "      <td>1</td>\n",
       "      <td>0</td>\n",
       "      <td>0</td>\n",
       "      <td>0</td>\n",
       "      <td>0</td>\n",
       "      <td>0</td>\n",
       "      <td>1</td>\n",
       "      <td>1</td>\n",
       "      <td>1</td>\n",
       "      <td>2</td>\n",
       "    </tr>\n",
       "    <tr>\n",
       "      <th>2</th>\n",
       "      <td>10003</td>\n",
       "      <td>11</td>\n",
       "      <td>1</td>\n",
       "      <td>1</td>\n",
       "      <td>1111</td>\n",
       "      <td>11111</td>\n",
       "      <td>143.591863</td>\n",
       "      <td>137.678887</td>\n",
       "      <td>148.736833</td>\n",
       "      <td>156.626153</td>\n",
       "      <td>...</td>\n",
       "      <td>0</td>\n",
       "      <td>0</td>\n",
       "      <td>0</td>\n",
       "      <td>1</td>\n",
       "      <td>0</td>\n",
       "      <td>0</td>\n",
       "      <td>1</td>\n",
       "      <td>1</td>\n",
       "      <td>1</td>\n",
       "      <td>2</td>\n",
       "    </tr>\n",
       "    <tr>\n",
       "      <th>3</th>\n",
       "      <td>10004</td>\n",
       "      <td>10</td>\n",
       "      <td>1</td>\n",
       "      <td>7</td>\n",
       "      <td>1001</td>\n",
       "      <td>10011</td>\n",
       "      <td>227.937019</td>\n",
       "      <td>0.000000</td>\n",
       "      <td>0.000000</td>\n",
       "      <td>329.138365</td>\n",
       "      <td>...</td>\n",
       "      <td>-8</td>\n",
       "      <td>-8</td>\n",
       "      <td>-8</td>\n",
       "      <td>-8</td>\n",
       "      <td>-8</td>\n",
       "      <td>-8</td>\n",
       "      <td>-8</td>\n",
       "      <td>-8</td>\n",
       "      <td>-8</td>\n",
       "      <td>-8</td>\n",
       "    </tr>\n",
       "    <tr>\n",
       "      <th>4</th>\n",
       "      <td>10005</td>\n",
       "      <td>11</td>\n",
       "      <td>1</td>\n",
       "      <td>1</td>\n",
       "      <td>1111</td>\n",
       "      <td>11111</td>\n",
       "      <td>145.019401</td>\n",
       "      <td>134.566242</td>\n",
       "      <td>152.708389</td>\n",
       "      <td>148.440875</td>\n",
       "      <td>...</td>\n",
       "      <td>1</td>\n",
       "      <td>1</td>\n",
       "      <td>0</td>\n",
       "      <td>0</td>\n",
       "      <td>0</td>\n",
       "      <td>0</td>\n",
       "      <td>1</td>\n",
       "      <td>-9</td>\n",
       "      <td>3</td>\n",
       "      <td>3</td>\n",
       "    </tr>\n",
       "  </tbody>\n",
       "</table>\n",
       "<p>5 rows × 272 columns</p>\n",
       "</div>"
      ],
      "text/plain": [
       "   STU_ID  X2UNIV1  X2UNIV2A  X2UNIV2B  X3UNIV1  X4UNIV1   W1STUDENT  \\\n",
       "0   10001       11         1         1     1111    11111  375.667105   \n",
       "1   10002       11         1         1     1111    11111  189.309446   \n",
       "2   10003       11         1         1     1111    11111  143.591863   \n",
       "3   10004       10         1         7     1001    10011  227.937019   \n",
       "4   10005       11         1         1     1111    11111  145.019401   \n",
       "\n",
       "    W2STUDENT   W3STUDENT   W4STUDENT  ...  S2MUSIC  S2ART  S2DRAMA  S2SPORTS  \\\n",
       "0  365.607062  392.215779  466.860846  ...        0      1        0         1   \n",
       "1  196.338045  236.571468  254.811585  ...        1      0        0         0   \n",
       "2  137.678887  148.736833  156.626153  ...        0      0        0         1   \n",
       "3    0.000000    0.000000  329.138365  ...       -8     -8       -8        -8   \n",
       "4  134.566242  152.708389  148.440875  ...        1      1        0         0   \n",
       "\n",
       "   S2CLUB  S2ACADEMIC  S3HSCRED  S3FOCUS  S3CLGFT  S3WORKFT  \n",
       "0       1           0         1        1        1        -7  \n",
       "1       0           0         1        1        1         2  \n",
       "2       0           0         1        1        1         2  \n",
       "3      -8          -8        -8       -8       -8        -8  \n",
       "4       0           0         1       -9        3         3  \n",
       "\n",
       "[5 rows x 272 columns]"
      ]
     },
     "execution_count": 2,
     "metadata": {},
     "output_type": "execute_result"
    }
   ],
   "source": [
    "#Importing the relevant csv data file\n",
    "df = pd.read_csv(\"data/hsls_17_students_trim2.csv\")\n",
    "df.head()"
   ]
  },
  {
   "cell_type": "code",
   "execution_count": 3,
   "id": "03839c1f",
   "metadata": {},
   "outputs": [
    {
     "data": {
      "text/plain": [
       "(23503, 272)"
      ]
     },
     "execution_count": 3,
     "metadata": {},
     "output_type": "execute_result"
    }
   ],
   "source": [
    "#Initial data structure\n",
    "df.shape"
   ]
  },
  {
   "cell_type": "code",
   "execution_count": 4,
   "id": "371fc6f5",
   "metadata": {},
   "outputs": [
    {
     "data": {
      "text/plain": [
       "STU_ID              0\n",
       "X2UNIV1             0\n",
       "X2UNIV2A            0\n",
       "X2UNIV2B            0\n",
       "X3UNIV1             0\n",
       "X4UNIV1             0\n",
       "W1STUDENT           0\n",
       "W2STUDENT           0\n",
       "W3STUDENT           0\n",
       "W4STUDENT           0\n",
       "X1SEX               0\n",
       "X1RACE              0\n",
       "X1HISPANIC          0\n",
       "X1WHITE             0\n",
       "X1BLACK             0\n",
       "X1STDOB             0\n",
       "X1TXMTH             0\n",
       "X1TXMTSCOR          0\n",
       "X1P1RELATION        0\n",
       "X1PAR1EDU           0\n",
       "X1PAR1EMP           0\n",
       "X1PAR1OCC2          0\n",
       "X1PAR1OCC_STEM1     0\n",
       "X1PAR1RACE          0\n",
       "X1P2RELATION        0\n",
       "X1PAR2EDU           0\n",
       "X1PAR2EMP           0\n",
       "X1PAR2OCC2          0\n",
       "X1PAR2OCC_STEM1     0\n",
       "X1PAR2RACE          0\n",
       "X1PAREDU            0\n",
       "X1PARPATTERN        0\n",
       "X1HHNUMBER          0\n",
       "X1FAMINCOME         0\n",
       "X1POVERTY           0\n",
       "X1SES               0\n",
       "X1SES_U             0\n",
       "X1MTHID             0\n",
       "X1SCIID             0\n",
       "X1SCHOOLBEL         0\n",
       "X1SCHOOLENG         0\n",
       "X1STU30OCC2         0\n",
       "X1STU30OCC_STEM1    0\n",
       "X1STUEDEXPCT        0\n",
       "X1PAREDEXPCT        0\n",
       "X1TESTSTAT          0\n",
       "X1SQSTAT            0\n",
       "X1CONTROL           0\n",
       "X1LOCALE            0\n",
       "X1REGION            0\n",
       "X2ENROLSTAT         0\n",
       "X2ENRSTATSCH        0\n",
       "X2EVERDROP          0\n",
       "X2DROPSTAT          0\n",
       "X2SAMEPAR1          0\n",
       "X2SAMEPAR2          0\n",
       "X2NUMHS             0\n",
       "X2TXMTH             0\n",
       "X2TXMTSCOR          0\n",
       "X2P1RELATION        0\n",
       "X2PAR1EMP           0\n",
       "X2P2RELATION        0\n",
       "X2PAR2EMP           0\n",
       "X2HHNUMBER          0\n",
       "X2FAMINCOME         0\n",
       "X2POVERTY           0\n",
       "X2SES               0\n",
       "X2SES_U             0\n",
       "X2BEHAVEIN          0\n",
       "X2PROBLEM           0\n",
       "X2MTHID             0\n",
       "X2SCIID             0\n",
       "X2STU30OCC2         0\n",
       "X2STU30OCC_STEM1    0\n",
       "X2STUEDEXPCT        0\n",
       "X2PAREDEXPCT        0\n",
       "X2TESTSTAT          0\n",
       "X2SQSTAT            0\n",
       "X2CONTROL           0\n",
       "X2LOCALE            0\n",
       "X2REGION            0\n",
       "X3SQSTAT            0\n",
       "X3DROPOUTTIME       0\n",
       "X3DROPSTAT          0\n",
       "X3EVERDROP          0\n",
       "X3PROGLEVEL         0\n",
       "X3CLGANDWORK        0\n",
       "X3EARNPERHR1        0\n",
       "X3EARNPERHR2        0\n",
       "X3CONTROL           0\n",
       "X3LOCALE            0\n",
       "X3REGION            0\n",
       "X3EVERGED           0\n",
       "X3GEDPASSED         0\n",
       "X3HSCOMPSTAT        0\n",
       "X3NUMHSATTND        0\n",
       "X3ELLSTATUS         0\n",
       "X3TOUTCOME          0\n",
       "X3TCREDENG          0\n",
       "X3TGPAENG           0\n",
       "X3TCREDMAT          0\n",
       "X3THIMATH           0\n",
       "X3TGPAMAT           0\n",
       "X3TCREDSCI          0\n",
       "X3THISCI            0\n",
       "X3THISCI9           0\n",
       "X3TGPASCI           0\n",
       "X3TGPAHISCI         0\n",
       "X3TCREDSOCST        0\n",
       "X3TGPASOCST         0\n",
       "X3TGPAART           0\n",
       "X3TCREDLANG         0\n",
       "X3TGPALANG          0\n",
       "X3TCREDCOMPSCI      0\n",
       "X3TGPACOMPSCI       0\n",
       "X3TCREDCOM          0\n",
       "X3TGPACOM           0\n",
       "X3TCREDBUS          0\n",
       "X3TGPABUS           0\n",
       "X3TCREDENGIN        0\n",
       "X3TGPAENGIN         0\n",
       "X3TCREDTOT          0\n",
       "X3TCREDACAD         0\n",
       "X3TCREDCTE          0\n",
       "X3TCREDNONA         0\n",
       "X3TCREDSTEM         0\n",
       "X3TCREDAPIB         0\n",
       "X3TCRED9TH          0\n",
       "X3TCRED10TH         0\n",
       "X3TCRED11TH         0\n",
       "X3TCRED12TH         0\n",
       "X3TCREDHON          0\n",
       "X3TCREDCLG          0\n",
       "X3TCREDMTSC         0\n",
       "X3TGPAACAD          0\n",
       "X3TGPACTE           0\n",
       "X3TGPANONA          0\n",
       "X3TGPASTEM          0\n",
       "X3TGPAAPIB          0\n",
       "X3TGPATOT           0\n",
       "X3TGPAWGT           0\n",
       "X3TAGPA10           0\n",
       "X3TAGPA11           0\n",
       "X3TAGPA12           0\n",
       "X3TAGPA09           0\n",
       "X3TAGPAWGT          0\n",
       "X4X2SES             0\n",
       "X4X2SES_U           0\n",
       "X4SQSTAT            0\n",
       "X4HSCOMPSTAT        0\n",
       "X4CONTROL           0\n",
       "X4LOCALE            0\n",
       "X4REGION            0\n",
       "X4EVERDROP          0\n",
       "X4EVRTRANSHS_R      0\n",
       "X4HSCLGCRED         0\n",
       "X4EVERGED           0\n",
       "X4GEDPASSED         0\n",
       "X4EVRAPPCLG         0\n",
       "X4CLGAPPNUM         0\n",
       "X4EVR2YPUB          0\n",
       "X4ATNDCLG16FB       0\n",
       "X4HS2PSMOS          0\n",
       "X4PSEND             0\n",
       "X4PS1START          0\n",
       "X4PS1SECTOR         0\n",
       "X4PS1LEVEL          0\n",
       "X4PS1SELECT         0\n",
       "X4REFSECTOR         0\n",
       "X4REFLEVEL          0\n",
       "X4REFSELECT         0\n",
       "X4REFDEGTYPE        0\n",
       "X4PS1DEGTYPE1       0\n",
       "X4FB16ENRSTAT       0\n",
       "X4ATPRLVLA          0\n",
       "X4PSENRSTLV         0\n",
       "X4PSLFSTFB16        0\n",
       "X4RFDGMJSTEM        0\n",
       "X4RFDGMJ123         0\n",
       "X4RFDGCOMP          0\n",
       "X4OCCFB2            0\n",
       "X4OCCFBSTEM1        0\n",
       "X4OCC30RELATE       0\n",
       "X4INCOMECAT         0\n",
       "X5LASTENR16         0\n",
       "X5SCHTOTAL          0\n",
       "X5PS1SLC            0\n",
       "X5PS1SEC            0\n",
       "X5HIGHDEG           0\n",
       "X5STEMCRED          0\n",
       "X5CTECRED           0\n",
       "X5CERTCRED          0\n",
       "X5BACCRED           0\n",
       "X5POSTERN           0\n",
       "X5GPAALL            0\n",
       "X5PSEERNAT          0\n",
       "X5TOTEDERN          0\n",
       "X5TOTEDGPA          0\n",
       "X5YR1ERN            0\n",
       "X5YR1GPA            0\n",
       "X5AY1314ERN         0\n",
       "X5AY1314GPA         0\n",
       "X5AY1415ERN         0\n",
       "X5AY1415GPA         0\n",
       "X5AY1516ERN         0\n",
       "X5AY1516GPA         0\n",
       "X5STEM1ERN          0\n",
       "X5STEM1GPA          0\n",
       "X5CMTHERN           0\n",
       "X5ASCIERN           0\n",
       "X5ENGRERN           0\n",
       "X5SSCERN            0\n",
       "X5HUMERN            0\n",
       "X5CTEERN            0\n",
       "X5CTEGPA            0\n",
       "X5BUSERN            0\n",
       "X5LGLERN            0\n",
       "X5CSCERN            0\n",
       "X5CTHERN            0\n",
       "X5STATERN           0\n",
       "X5ECOERN            0\n",
       "X5SRRESP            0\n",
       "X5PFYSLC            0\n",
       "X5PFYSEC            0\n",
       "X5PFYENRLSTAT       0\n",
       "X5PFYDEGREE         0\n",
       "S1LANG1ST           0\n",
       "S1WEBINFO           0\n",
       "S1M8                0\n",
       "S1M8GRADE           0\n",
       "S1S8                0\n",
       "S1S8GRADE           0\n",
       "S1SAFE              0\n",
       "S1SCHWASTE          0\n",
       "S1GOODGRADES        0\n",
       "S1FAVSUBJ           0\n",
       "S1HRACTIVITY        0\n",
       "S1HRWORK            0\n",
       "S1SUREHSGRAD        0\n",
       "S1SURECLG           0\n",
       "S2GRD1112           0\n",
       "S2PASSGRADE         0\n",
       "S2INSCHSUSP         0\n",
       "S2OUTSCHSUSP        0\n",
       "S2DISCIPLINE        0\n",
       "S2EXPELLED          0\n",
       "S2ARRESTED          0\n",
       "S2SATNUM            0\n",
       "S2EDUEXP            0\n",
       "S2SUREDIPL          0\n",
       "S2CLG2013           0\n",
       "S2FOCUS2013         0\n",
       "S2CLGFT2013         0\n",
       "S2AFFOCCTRN         0\n",
       "S2AFF2YPUB          0\n",
       "S2AFF4YIN           0\n",
       "S2AFF4YOUT          0\n",
       "S2AFF4YPRV          0\n",
       "S2AFF4YSEL          0\n",
       "S2NEVERCLG          0\n",
       "S2SCHWASTE          0\n",
       "S2CANTAFFORD        0\n",
       "S2MUSIC             0\n",
       "S2ART               0\n",
       "S2DRAMA             0\n",
       "S2SPORTS            0\n",
       "S2CLUB              0\n",
       "S2ACADEMIC          0\n",
       "S3HSCRED            0\n",
       "S3FOCUS             0\n",
       "S3CLGFT             0\n",
       "S3WORKFT            0\n",
       "dtype: int64"
      ]
     },
     "execution_count": 4,
     "metadata": {},
     "output_type": "execute_result"
    }
   ],
   "source": [
    "pd.options.display.max_rows = 1000\n",
    "df.isnull().sum()"
   ]
  },
  {
   "cell_type": "markdown",
   "id": "1860c2c2",
   "metadata": {},
   "source": [
    "#### Unique ID"
   ]
  },
  {
   "cell_type": "code",
   "execution_count": 5,
   "id": "ee29d3b0",
   "metadata": {},
   "outputs": [
    {
     "name": "stdout",
     "output_type": "stream",
     "text": [
      "<class 'pandas.core.series.Series'>\n",
      "RangeIndex: 23503 entries, 0 to 23502\n",
      "Series name: STU_ID\n",
      "Non-Null Count  Dtype \n",
      "--------------  ----- \n",
      "23503 non-null  string\n",
      "dtypes: string(1)\n",
      "memory usage: 183.7 KB\n"
     ]
    }
   ],
   "source": [
    "df['STU_ID'] = df['STU_ID'].astype('string')\n",
    "df['STU_ID'].info()"
   ]
  },
  {
   "cell_type": "markdown",
   "id": "f0e982a3-d971-4698-8042-98cdbe03c667",
   "metadata": {},
   "source": [
    "> We are keeping this variable to track students over time - will not include in our analysis. "
   ]
  },
  {
   "cell_type": "markdown",
   "id": "47f245fd",
   "metadata": {},
   "source": [
    "#### Availability of data across panels"
   ]
  },
  {
   "cell_type": "code",
   "execution_count": 6,
   "id": "28141b7b",
   "metadata": {},
   "outputs": [
    {
     "data": {
      "text/plain": [
       "11    18623\n",
       "10     2821\n",
       "1      1971\n",
       "0        88\n",
       "Name: X2UNIV1, dtype: int64"
      ]
     },
     "execution_count": 6,
     "metadata": {},
     "output_type": "execute_result"
    }
   ],
   "source": [
    "df['X2UNIV1'].value_counts()"
   ]
  },
  {
   "cell_type": "markdown",
   "id": "f7207b3a",
   "metadata": {},
   "source": [
    "> If X2UNIV1 == 11, then the student has completed both the first panels. Since, in this study we want to track the students over time, we belive that keeping only the observations that are present in atleast both samples would yeild best results.\n",
    "\n",
    "> This won't mean that we won't have access to student's information if they have dropped out of school, the survey ensures that the survey is completed even for students who are dropped out. Hence it won't affect the sample."
   ]
  },
  {
   "cell_type": "code",
   "execution_count": 7,
   "id": "e8e5547a",
   "metadata": {},
   "outputs": [],
   "source": [
    "df.drop(df[df['X2UNIV1']!=11].index, inplace=True)"
   ]
  },
  {
   "cell_type": "code",
   "execution_count": 8,
   "id": "d5b569eb",
   "metadata": {},
   "outputs": [
    {
     "data": {
      "text/plain": [
       "(18623, 272)"
      ]
     },
     "execution_count": 8,
     "metadata": {},
     "output_type": "execute_result"
    }
   ],
   "source": [
    "df.shape"
   ]
  },
  {
   "cell_type": "markdown",
   "id": "a2d3306a-e188-457f-add1-6d4470ec2113",
   "metadata": {},
   "source": [
    "#### Survey and assessment completion status"
   ]
  },
  {
   "cell_type": "code",
   "execution_count": 9,
   "id": "4c0f0863-1396-4eec-949a-1ed700ab2c95",
   "metadata": {},
   "outputs": [
    {
     "name": "stdout",
     "output_type": "stream",
     "text": [
      "1    18082\n",
      "2      541\n",
      "Name: X1TESTSTAT, dtype: int64\n",
      "\n",
      "\n",
      "1    16815\n",
      "2     1808\n",
      "Name: X2TESTSTAT, dtype: int64\n",
      "\n",
      "\n"
     ]
    }
   ],
   "source": [
    "l = ['X1TESTSTAT', 'X2TESTSTAT']\n",
    "for i in l:\n",
    "    print(df[i].value_counts())\n",
    "    print('\\n')"
   ]
  },
  {
   "cell_type": "code",
   "execution_count": 10,
   "id": "c6e7058e-6d32-43e4-80b7-b25abf15d67e",
   "metadata": {},
   "outputs": [
    {
     "name": "stdout",
     "output_type": "stream",
     "text": [
      "1    18249\n",
      "3      348\n",
      "2       26\n",
      "Name: X1SQSTAT, dtype: int64\n",
      "\n",
      "\n",
      "1    14150\n",
      "2     2004\n",
      "4     1280\n",
      "3     1189\n",
      "Name: X2SQSTAT, dtype: int64\n",
      "\n",
      "\n",
      "1    9031\n",
      "2    6055\n",
      "8    2766\n",
      "4     380\n",
      "3     244\n",
      "5     147\n",
      "Name: X3SQSTAT, dtype: int64\n",
      "\n",
      "\n",
      "1    11196\n",
      "8     3910\n",
      "2     2399\n",
      "3      743\n",
      "4      375\n",
      "Name: X4SQSTAT, dtype: int64\n",
      "\n",
      "\n"
     ]
    }
   ],
   "source": [
    "l = ['X1SQSTAT', 'X2SQSTAT', 'X3SQSTAT', 'X4SQSTAT']\n",
    "for i in l:\n",
    "    print(df[i].value_counts())\n",
    "    print('\\n')"
   ]
  },
  {
   "cell_type": "markdown",
   "id": "4f893f4f-6365-41b8-a85c-f3101cff7613",
   "metadata": {},
   "source": [
    "> These are survey and text completion status variables for various follow up years. We will not include them in the features but retain to track"
   ]
  },
  {
   "cell_type": "markdown",
   "id": "5cea9873",
   "metadata": {},
   "source": [
    "### Dealing with Null and Negative Values\n",
    "- The dataset consists of both categorical and numerical variables, these have been dealt with seperately in terms of cleaning. "
   ]
  },
  {
   "cell_type": "markdown",
   "id": "498fddd0",
   "metadata": {
    "tags": []
   },
   "source": [
    "##### Explaining Negative/Null Values: \n",
    "The data has a list of negative values that would be considered nulls in the case of this dataset.\n",
    "These negative values are defined as follows:\n",
    "##### -1: \n",
    "- Item missing\n",
    "##### -4: \n",
    "- Item-missing, abbreviated interview: Used for questions that were not administered because an abbreviated version of the questionnaire was administered.\n",
    "##### -5: \n",
    "- Data suppressed\n",
    "##### -6:  \n",
    "- Unit-missing, component not applicable\n",
    "##### -7: \n",
    "- Item-missing, item not applicable \n",
    "##### -8: \n",
    "- Unit-missing, sample member was not a respondant to the specific survey\n",
    "##### -9:  \n",
    "- Questions not answered by a respondent within a survey, when the respondent was eligible for the question"
   ]
  },
  {
   "cell_type": "markdown",
   "id": "5ad7cf78-fdd1-4686-9b21-3be3c15042ff",
   "metadata": {},
   "source": [
    "### Dealing with Numerical Variables"
   ]
  },
  {
   "cell_type": "code",
   "execution_count": 11,
   "id": "4f6503f5-f227-4594-b5e8-4f4f9bd75dcd",
   "metadata": {},
   "outputs": [],
   "source": [
    "# Handling Nulls\n",
    "\n",
    "# Replacing values <= -6 with median\n",
    "to_replace_med = ['X1STDOB','X1FAMINCOME']\n",
    "for c in to_replace_med:\n",
    "    df_med = df[df[c]>=0][c].median()\n",
    "    df.loc[df[c]<=-6, c] = df_med\n",
    "\n",
    "# Replacing negative and 6 values with mean\n",
    "to_replace_mean_6 = ['S1M8GRADE', 'S1S8GRADE']\n",
    "for c in to_replace_mean_6:\n",
    "    df_mean = df[(df[c]>=0) & (df[c])!=6][c].mean()\n",
    "    df.loc[(df[c]<0) | (df[c]==6), c] = df_mean\n",
    "\n",
    "# Replacing negative and 11 values with mean\n",
    "to_replace_mean_11 = ['X1STUEDEXPCT','X1PAREDEXPCT']\n",
    "for c in to_replace_mean_11:\n",
    "    df_mean = df[(df[c]>=0) & (df[c])!=11][c].mean()\n",
    "    df.loc[(df[c]<0) | (df[c]==11), c] = df_mean\n",
    "    \n",
    "# Replacing -7 values with 0 and -8, -9 with mean \n",
    "to_replace_mean_0 = ['X3EARNPERHR1','X3EARNPERHR2']\n",
    "for c in to_replace_mean_0:\n",
    "    df.loc[df[c]==-7, c] = 0\n",
    "    df_mean = df[df[c]>=0][c].mean()\n",
    "    df.loc[df[c]<0, c] = df_mean\n",
    "    \n",
    "# Replacing values <= -6 with mean\n",
    "to_replace_mean_neg6 = ['X1MTHID','X1SCIID','X1SCHOOLBEL','X1SCHOOLENG','X2BEHAVEIN','X2PROBLEM','X2MTHID','X2SCIID','X3NUMHSATTND',\n",
    "                        'X3TCREDENG','X3TGPAENG','X3TCREDMAT','X3THIMATH','X3TGPAMAT','X3TCREDSCI','X3THISCI','X3THISCI9','X3TGPASCI',\n",
    "                        'X3TGPAHISCI','X3TCREDSOCST','X3TGPASOCST','X3TCREDLANG','X3TCREDCOMPSCI','X3TCREDCOM','X3TCREDBUS',\n",
    "                        'X3TCREDENGIN','X3TCREDTOT','X3TCREDACAD','X3TCREDCTE','X3TCREDNONA','X3TCREDSTEM','X3TCREDAPIB','X3TCRED9TH',\n",
    "                        'X3TCRED10TH','X3TCRED11TH','X3TCRED12TH','X3TCREDHON','X3TCREDCLG','X3TCREDMTSC','X3TGPATOT','X3TGPAWGT',\n",
    "                        'X4CLGAPPNUM','S1WEBINFO','S1M8','S1SAFE','S1SCHWASTE','S1GOODGRADES','S1HRACTIVITY','S1HRWORK','S1SUREHSGRAD',\n",
    "                        'S2INSCHSUSP','S2ARRESTED','S2SATNUM','S2SUREDIPL','S2SCHWASTE']\n",
    "for c in to_replace_mean_neg6:\n",
    "    df_mean = df[df[c]>-6][c].mean()\n",
    "    df.loc[df[c]<=-6, c] = df_mean\n",
    "    \n",
    "# Replacing all negative values with mean\n",
    "to_replace_mean_neg = ['X3TGPAACAD','X3TGPACTE','X3TGPASTEM','X3TAGPA09','X3TAGPAWGT','X4CLGAPPNUM','X5SCHTOTAL','X5HIGHDEG',\n",
    "                       'X5CERTCRED','X5BACCRED','X5POSTERN','X5GPAALL','X5PSEERNAT','X5TOTEDERN','X5TOTEDGPA','X5YR1ERN',\n",
    "                       'X5YR1GPA','X5AY1314ERN','X5AY1314GPA','X5AY1415ERN','X5AY1415GPA','X5AY1516ERN','X5AY1516GPA',\n",
    "                       'X5STEM1ERN','X5STEM1GPA','X5CMTHERN','X5ASCIERN','X5ENGRERN','X5SSCERN','X5HUMERN','X5CTEERN',\n",
    "                       'X5CTEGPA','X5BUSERN','X5LGLERN','X5CSCERN','X5CTHERN','X5STATERN','X5ECOERN','X5PFYENRLSTAT']\n",
    "for c in to_replace_mean_neg:\n",
    "    df_mean = df[df[c]>=0][c].mean()\n",
    "    df.loc[df[c]<0, c] = df_mean\n",
    "    \n",
    "#Imputation of values\n",
    "##imputing HH number for the base panel based on values from first followup\n",
    "df.loc[df.X1HHNUMBER == -8, 'X1HHNUMBER'] = df['X2HHNUMBER'].loc[df.X1HHNUMBER == -8]\n",
    "    \n",
    "# Removing some columns'\n",
    "to_remove = ['X3TGPAART','X3TGPALANG','X3TGPACOMPSCI','X3TGPACOM','X3TGPABUS','X3TGPAENGIN','X3TGPANONA','X3TGPAAPIB','X3TAGPA10',\n",
    "             'X3TAGPA11','X3TAGPA12','X4HS2PSMOS','X4PSEND','X4PS1START','S1SURECLG','S2OUTSCHSUSP','S2DISCIPLINE','S2EXPELLED', 'X1TXMTH', \n",
    "             'X2TXMTH', 'X1SES', 'X2SES']\n",
    "df = df.drop(to_remove, axis=1)"
   ]
  },
  {
   "cell_type": "markdown",
   "id": "6dcd7ceb-7c4d-4e7c-ba9c-a7c077d47465",
   "metadata": {},
   "source": [
    "##### Process of cleaning numerical variables\n",
    "We replaced null values in Date of Birth and Family Income columns with the median values. Income and date of birth are better represented by median than mean values. If the date of birth is unknown, the value is set at -9. If the income is unknown, the value is set at -8. Thus we replaced all negative values with the median of the respective columns.\n",
    "\n",
    "We have identified a list of numerical columns with missing data signified by -6, -7, -8, or -9. Based on the nature of variables, we have determined it appropriate to replace these values with the mean for each respective column. We have identified another list where all negative values signify missing data and no negative values represent valid numerical data. Thus, for this second list, we replaced all negative values with the mean for each respective column.\n",
    "\n",
    "The S1M8GRADE and S1S8GRADE columns have negative values that signify unknown values. They also both have maximum values of 6, which means the class was not graded. We don’t want these variables to imply that students in ungraded classes got the highest grade, so we replaced them with negative values and values of 6 with the mean grade values for these columns. Similarly, the X1STUEDEXPCT and X1PAREDEXPCT columns have increasing numerical values for increasing expectations. However, the highest value is 11, which means “Don’t know”. Since we don’t want these variables to imply students and parents with unknown expectations have the highest expectations, we replaced both negative values and values of 11 with the mean of the respective columns.\n",
    "\n",
    "The X3EARNPERHR1 and X3EARNPERHR2 columns, which signify how the student’s income, have many cases of being not applicable (because many high school students make no income). We can treat these students as making an income of $0. Therefore, we replaced all instances of -7 values (meaning “Not Applicable”) with 0. Then we replaced all other negative values with the mean values."
   ]
  },
  {
   "cell_type": "markdown",
   "id": "6a8bb3a6-e755-4b9e-a86d-c51d3e65bd2a",
   "metadata": {},
   "source": [
    "### Dealing with Categorical Variables"
   ]
  },
  {
   "cell_type": "markdown",
   "id": "ca73fd30-5683-4fc5-b0fe-dcf187bc3d21",
   "metadata": {},
   "source": [
    "##### Following is the general rule as to how we have dealt with missing values in categorical variables for the dataset:\n",
    "\n",
    "##### -1,-4,-5:\n",
    "- Very limited number of columns contain this negative value, negligible data is effected by it. Therefore, we drop these rows.\n",
    "##### -6 and -7: \n",
    "- Both are considered not-applicable, therefore, a new category as 'Not Applicable' is defined for both for the relevant variable. \n",
    "##### -8 and -9:\n",
    "- Both are considered missing data, therefore, a new category as 'Unknown Data' is defined for both for the relevant variable.\n",
    "##### Other:\n",
    "- Certain categorical columns are imputed using information from another column"
   ]
  },
  {
   "cell_type": "code",
   "execution_count": 12,
   "id": "3a6990a8-184c-4a63-9365-0e6f72d0f2cd",
   "metadata": {},
   "outputs": [],
   "source": [
    "#droping rows\n",
    "df.drop(df[df['X4RFDGMJSTEM']==-1].index, inplace=True)\n",
    "df.drop(df[df['X4RFDGMJ123']==-1].index, inplace=True)\n",
    "df.drop(df[df['S3FOCUS']==-4].index, inplace=True)\n",
    "df.drop(df[df['X5PFYSEC']==-5].index, inplace=True)\n",
    "\n",
    "#drop the following variables\n",
    "to_remove = ['X1HISPANIC', 'X1WHITE', 'X1BLACK', 'X1PAR1RACE', 'X1PAR2RACE', 'X1PAREDU', 'X1P1RELATION', 'X1PAR1EDU', 'X1PAR1EMP', 'X1PAR1OCC2','X1PAR1OCC_STEM1', 'X2P1RELATION',\n",
    "             'X2PAR1EMP','X1P2RELATION', 'X1PAR2EDU', 'X1PAR2EMP', 'X1PAR2OCC2','X1PAR2OCC_STEM1','X2P2RELATION','X2PAR2EMP', 'X1FAMINCOME', \n",
    "             'X1POVERTY', 'X2FAMINCOME', 'X2POVERTY', 'X1STU30OCC2', 'X1STU30OCC2', 'X4CONTROL', 'X4LOCALE', 'X4REGION', 'X2ENRSTATSCH', 'X1PARPATTERN', \n",
    "             'X2SAMEPAR1','X2SAMEPAR2', 'X3GEDPASSED', 'X3TOUTCOME', 'X2STU30OCC2', 'S1LANG1ST' ]\n",
    "df = df.drop(to_remove, axis=1)\n",
    "\n",
    "#recategorising variables\n",
    "re_cat = ['X1STU30OCC_STEM1', 'X2STU30OCC_STEM1', 'X3DROPOUTTIME', 'X3DROPSTAT', 'X3PROGLEVEL', 'X3CLGANDWORK', 'S1S8','S2PASSGRADE','S2CLGFT2013',\n",
    "          'S3FOCUS','S3CLGFT', 'X4ATNDCLG16FB','X4PS1LEVEL','X4REFDEGTYPE','X4PSENRSTLV','X4RFDGCOMP','X4GEDPASSED','X4PS1SELECT','X4PS1DEGTYPE1',\n",
    "          'X4OCCFB2','X5STEMCRED','X4REFSECTOR','X4RFDGMJSTEM','X4OCCFBSTEM1','X5CTECRED','X4REFLEVEL','X4ATPRLVLA',\n",
    "          'X4RFDGMJ123','X4OCC30RELATE','X4PS1SECTOR','X4REFSELECT', 'X5PFYDEGREE','S1S8','S1FAVSUBJ','S2GRD1112','S2PASSGRADE','S2EDUEXP',\n",
    "          'S2CLG2013','S2CLGFT2013','S2AFFOCCTRN','S2AFF2YPUB','S2AFF4YIN','S2AFF4YOUT','S2AFF4YPRV','S2AFF4YSEL','S2NEVERCLG',\n",
    "          'S2CANTAFFORD','S2MUSIC','S2ART','S2DRAMA','S2SPORTS','S2CLUB','S2ACADEMIC','S3HSCRED','S3FOCUS','S3CLGFT','X4PS1LEVEL',\n",
    "          'X4REFDEGTYPE','X4PSENRSTLV','X4RFDGCOMP','X4PS1SELECT','X4PS1DEGTYPE1','X4OCCFB2','X5LASTENR16',\n",
    "          'X5STEMCRED','X4EVERDROP','X4EVRAPPCLG','X4REFSECTOR','X4FB16ENRSTAT','X4OCCFBSTEM1','X5CTECRED','X4EVRTRANSHS_R',\n",
    "          'X4REFLEVEL','X4ATPRLVLA','X4OCC30RELATE','X5PS1SLC','X4EVR2YPUB','X4PS1SECTOR','X4REFSELECT','X5PS1SEC', 'X5PFYDEGREE',\n",
    "         'X5PFYDEGREE', 'S1FAVSUBJ', 'S2GRD1112', 'S2PASSGRADE', 'S2EDUEXP', 'S2CLG2013', 'S2CLGFT2013', 'S2AFFOCCTRN',\n",
    "         'S2AFF4YIN', 'S2AFF4YOUT', 'S2AFF4YPRV', 'S2AFF4YSEL', 'S2NEVERCLG', 'S2CANTAFFORD', 'S2MUSIC', 'S2ART', 'S2DRAMA', 'S2SPORTS',\n",
    "          'S2CLUB', 'S2ACADEMIC', 'S3HSCRED', 'S3FOCUS', 'S3CLGFT', 'S3WORKFT']\n",
    "for c in re_cat:\n",
    "    df.loc[df[c] == -7, c] = -6\n",
    "    df.loc[df[c] == -9, c] = -8\n",
    "    \n",
    "df.loc[df['X3DROPSTAT'] == 4, 'X3DROPSTAT'] = -8 #see appendix\n",
    "df.loc[df['X1STU30OCC_STEM1'] == 9, 'X1STU30OCC_STEM1'] = -8 #see appendix\n",
    "df.loc[df['X2STU30OCC_STEM1'] == 9, 'X2STU30OCC_STEM1'] = -8 #see appendix\n",
    "df.loc[df['X3PROGLEVEL'] == 7, 'X3PROGLEVEL'] = -8 #see appendix\n",
    "df.loc[df['X3CLGANDWORK'] == 5, 'X3CLGANDWORK'] = -8 #see appendix\n",
    "df.loc[df['S3WORKFT'] == 3, 'S3WORKFT'] = -8\n",
    "#here we don't think it will help much in differentiating between values 4 and 5\n",
    "df.loc[df.X1RACE == 5, 'X1RACE'] = 4\n",
    "df['X1RACE'].value_counts()\n",
    "\n",
    "\n",
    "#imputing for school characteristics\n",
    "schl_ct = ['X2CONTROL', 'X3CONTROL']\n",
    "schl_l = ['X2LOCALE', 'X3LOCALE']\n",
    "schl_r = ['X2REGION', 'X3REGION']\n",
    "for c in schl_ct:\n",
    "    df.loc[df[c] == -6, c] = df['X1CONTROL'].loc[df[c] == -6]\n",
    "    df.loc[df[c] == -8, c] = df['X1CONTROL'].loc[df[c] == -8]\n",
    "    df.loc[df[c] == -9, c] = df['X1CONTROL'].loc[df[c] == -9]\n",
    "for c in schl_l:\n",
    "    df.loc[df[c] == -6, c] = df['X1LOCALE'].loc[df[c] == -6]\n",
    "    df.loc[df[c] == -8, c] = df['X1LOCALE'].loc[df[c] == -8]\n",
    "    df.loc[df[c] == -9, c] = df['X1LOCALE'].loc[df[c] == -9]\n",
    "for c in schl_r:\n",
    "    df.loc[df[c] == -6, c] = df['X1REGION'].loc[df[c] == -6]\n",
    "    df.loc[df[c] == -8, c] = df['X1REGION'].loc[df[c] == -8]\n",
    "    df.loc[df[c] == -9, c] = df['X1REGION'].loc[df[c] == -9]\n",
    "\n",
    "\n"
   ]
  },
  {
   "cell_type": "code",
   "execution_count": 13,
   "id": "b3cb0f12-8d7e-49bc-83e7-ec29e317c5b2",
   "metadata": {},
   "outputs": [],
   "source": [
    "#converting to astype=category\n",
    "cat_type = ['X1SEX', 'X1RACE', 'X1STU30OCC_STEM1', 'X2STU30OCC_STEM1', 'X1CONTROL', 'X2CONTROL', 'X3CONTROL', \n",
    "            'X1LOCALE', 'X2LOCALE', 'X3LOCALE', 'X1REGION', 'X2REGION', 'X3REGION', 'X2ENROLSTAT',  'X2DROPSTAT', 'X2EVERDROP', \n",
    "            'X3DROPOUTTIME', 'X3DROPSTAT', 'X3EVERDROP', 'X3PROGLEVEL', 'X3CLGANDWORK', 'X3EVERGED', 'X3HSCOMPSTAT', 'X4HSCOMPSTAT',\n",
    "           'X3ELLSTATUS','X4HSCOMPSTAT','X4EVRTRANSHS_R','X4EVRAPPCLG','X4PS1SELECT','X4REFDEGTYPE','X4PSENRSTLV',\n",
    "            'X4RFDGCOMP','X4INCOMECAT','X4HSCLGCRED','X4REFSECTOR',\n",
    "            'X4PS1DEGTYPE1','X4PSLFSTFB16','X4OCCFB2','X5LASTENR16','X5STEMCRED','X5PS1SEC',\n",
    "            'X4EVERGED','X4EVR2YPUB','X4REFLEVEL','X4FB16ENRSTAT','X4RFDGMJSTEM','X4OCCFBSTEM1',\n",
    "            'X5CTECRED','X4GEDPASSED','X4ATNDCLG16FB','X4PS1SECTOR','X4REFSELECT','X4ATPRLVLA','X4RFDGMJ123',\n",
    "            'X4OCC30RELATE','X5PS1SLC','X4SQSTAT','X4EVERDROP','X4PS1LEVEL','X4ATNDCLG16FB','X4PS1LEVEL','X4REFDEGTYPE','X4PSENRSTLV','X4RFDGCOMP','X4INCOMECAT',\n",
    "            'X4PS1SELECT','X4PS1DEGTYPE1','X4PSLFSTFB16','X4OCCFB2','X5LASTENR16','X5STEMCRED','X4EVERDROP','X4EVRAPPCLG','X4REFSECTOR',\n",
    "            'X4FB16ENRSTAT','X4OCCFBSTEM1','X5CTECRED','X4EVRTRANSHS_R','X4REFLEVEL','X4ATPRLVLA','X4OCC30RELATE',\n",
    "            'X5PS1SLC','X4HSCLGCRED','X4EVR2YPUB','X4PS1SECTOR','X4REFSELECT','X5PS1SEC','X5PFYSEC','X4ATNDCLG16FB',\n",
    "            'X4PS1LEVEL','X4REFDEGTYPE','X4PSENRSTLV','X4RFDGCOMP','X4GEDPASSED','X4PS1SELECT','X4PS1DEGTYPE1','X4OCCFB2','X5STEMCRED','X4REFSECTOR',\n",
    "            'X4OCCFBSTEM1','X5CTECRED','X4REFLEVEL','X4ATPRLVLA','X4OCC30RELATE','X4PS1SECTOR','X4REFSELECT',\n",
    "            'X5LASTENR16','X5STEMCRED','X5CTECRED','X5PS1SLC','X5PS1SEC', 'X5SRRESP', 'X5PFYSLC', 'X5PFYDEGREE', 'X5PFYDEGREE', 'S1FAVSUBJ', 'S2GRD1112',\n",
    "           'S2PASSGRADE', 'S2EDUEXP', 'S2CLG2013', 'S2FOCUS2013', 'S2CLGFT2013', 'S2AFFOCCTRN', 'S2AFF2YPUB', 'S2AFF4YIN', 'S2AFF4YOUT', 'S2AFF4YPRV', 'S2AFF4YSEL',\n",
    "           'S2NEVERCLG', 'S2CANTAFFORD', 'S2MUSIC', 'S2ART', 'S2DRAMA', 'S2SPORTS', 'S2CLUB', 'S2ACADEMIC', 'S3HSCRED', 'S3FOCUS', 'S3CLGFT', 'S3WORKFT']\n",
    "for c in cat_type:\n",
    "    df[c] = df[c].astype('category')"
   ]
  },
  {
   "cell_type": "code",
   "execution_count": 14,
   "id": "e975858b-95ed-41a0-bcb0-aa119e1e4f71",
   "metadata": {},
   "outputs": [
    {
     "data": {
      "text/plain": [
       "X1SEX               category\n",
       "X1RACE              category\n",
       "X1STU30OCC_STEM1    category\n",
       "X2STU30OCC_STEM1    category\n",
       "X1CONTROL           category\n",
       "X2CONTROL           category\n",
       "X3CONTROL           category\n",
       "X1LOCALE            category\n",
       "X2LOCALE            category\n",
       "X3LOCALE            category\n",
       "X1REGION            category\n",
       "X2REGION            category\n",
       "X3REGION            category\n",
       "X2ENROLSTAT         category\n",
       "X2DROPSTAT          category\n",
       "X2EVERDROP          category\n",
       "X3DROPOUTTIME       category\n",
       "X3DROPSTAT          category\n",
       "X3EVERDROP          category\n",
       "X3PROGLEVEL         category\n",
       "X3CLGANDWORK        category\n",
       "X3EVERGED           category\n",
       "X3HSCOMPSTAT        category\n",
       "X4HSCOMPSTAT        category\n",
       "X3ELLSTATUS         category\n",
       "X4HSCOMPSTAT        category\n",
       "X4EVRTRANSHS_R      category\n",
       "X4EVRAPPCLG         category\n",
       "X4PS1SELECT         category\n",
       "X4REFDEGTYPE        category\n",
       "X4PSENRSTLV         category\n",
       "X4RFDGCOMP          category\n",
       "X4INCOMECAT         category\n",
       "X4HSCLGCRED         category\n",
       "X4REFSECTOR         category\n",
       "X4PS1DEGTYPE1       category\n",
       "X4PSLFSTFB16        category\n",
       "X4OCCFB2            category\n",
       "X5LASTENR16         category\n",
       "X5STEMCRED          category\n",
       "X5PS1SEC            category\n",
       "X4EVERGED           category\n",
       "X4EVR2YPUB          category\n",
       "X4REFLEVEL          category\n",
       "X4FB16ENRSTAT       category\n",
       "X4RFDGMJSTEM        category\n",
       "X4OCCFBSTEM1        category\n",
       "X5CTECRED           category\n",
       "X4GEDPASSED         category\n",
       "X4ATNDCLG16FB       category\n",
       "X4PS1SECTOR         category\n",
       "X4REFSELECT         category\n",
       "X4ATPRLVLA          category\n",
       "X4RFDGMJ123         category\n",
       "X4OCC30RELATE       category\n",
       "X5PS1SLC            category\n",
       "X4SQSTAT            category\n",
       "X4EVERDROP          category\n",
       "X4PS1LEVEL          category\n",
       "X4ATNDCLG16FB       category\n",
       "X4PS1LEVEL          category\n",
       "X4REFDEGTYPE        category\n",
       "X4PSENRSTLV         category\n",
       "X4RFDGCOMP          category\n",
       "X4INCOMECAT         category\n",
       "X4PS1SELECT         category\n",
       "X4PS1DEGTYPE1       category\n",
       "X4PSLFSTFB16        category\n",
       "X4OCCFB2            category\n",
       "X5LASTENR16         category\n",
       "X5STEMCRED          category\n",
       "X4EVERDROP          category\n",
       "X4EVRAPPCLG         category\n",
       "X4REFSECTOR         category\n",
       "X4FB16ENRSTAT       category\n",
       "X4OCCFBSTEM1        category\n",
       "X5CTECRED           category\n",
       "X4EVRTRANSHS_R      category\n",
       "X4REFLEVEL          category\n",
       "X4ATPRLVLA          category\n",
       "X4OCC30RELATE       category\n",
       "X5PS1SLC            category\n",
       "X4HSCLGCRED         category\n",
       "X4EVR2YPUB          category\n",
       "X4PS1SECTOR         category\n",
       "X4REFSELECT         category\n",
       "X5PS1SEC            category\n",
       "X5PFYSEC            category\n",
       "X4ATNDCLG16FB       category\n",
       "X4PS1LEVEL          category\n",
       "X4REFDEGTYPE        category\n",
       "X4PSENRSTLV         category\n",
       "X4RFDGCOMP          category\n",
       "X4GEDPASSED         category\n",
       "X4PS1SELECT         category\n",
       "X4PS1DEGTYPE1       category\n",
       "X4OCCFB2            category\n",
       "X5STEMCRED          category\n",
       "X4REFSECTOR         category\n",
       "X4OCCFBSTEM1        category\n",
       "X5CTECRED           category\n",
       "X4REFLEVEL          category\n",
       "X4ATPRLVLA          category\n",
       "X4OCC30RELATE       category\n",
       "X4PS1SECTOR         category\n",
       "X4REFSELECT         category\n",
       "X5LASTENR16         category\n",
       "X5STEMCRED          category\n",
       "X5CTECRED           category\n",
       "X5PS1SLC            category\n",
       "X5PS1SEC            category\n",
       "X5SRRESP            category\n",
       "X5PFYSLC            category\n",
       "X5PFYDEGREE         category\n",
       "X5PFYDEGREE         category\n",
       "S1FAVSUBJ           category\n",
       "S2GRD1112           category\n",
       "S2PASSGRADE         category\n",
       "S2EDUEXP            category\n",
       "S2CLG2013           category\n",
       "S2FOCUS2013         category\n",
       "S2CLGFT2013         category\n",
       "S2AFFOCCTRN         category\n",
       "S2AFF2YPUB          category\n",
       "S2AFF4YIN           category\n",
       "S2AFF4YOUT          category\n",
       "S2AFF4YPRV          category\n",
       "S2AFF4YSEL          category\n",
       "S2NEVERCLG          category\n",
       "S2CANTAFFORD        category\n",
       "S2MUSIC             category\n",
       "S2ART               category\n",
       "S2DRAMA             category\n",
       "S2SPORTS            category\n",
       "S2CLUB              category\n",
       "S2ACADEMIC          category\n",
       "S3HSCRED            category\n",
       "S3FOCUS             category\n",
       "S3CLGFT             category\n",
       "S3WORKFT            category\n",
       "dtype: object"
      ]
     },
     "execution_count": 14,
     "metadata": {},
     "output_type": "execute_result"
    }
   ],
   "source": [
    "df_cat = df[cat_type]\n",
    "pd.options.display.max_rows = 1000\n",
    "df_cat.dtypes"
   ]
  },
  {
   "cell_type": "markdown",
   "id": "7e66ba80",
   "metadata": {},
   "source": [
    "## Data Visualization"
   ]
  },
  {
   "cell_type": "code",
   "execution_count": 15,
   "id": "fb8bd8fa-e75c-4d39-a5e4-44ae445d638e",
   "metadata": {},
   "outputs": [
    {
     "data": {
      "text/plain": [
       "<AxesSubplot:>"
      ]
     },
     "execution_count": 15,
     "metadata": {},
     "output_type": "execute_result"
    },
    {
     "data": {
      "image/png": "[encoded data removed]",
      "text/plain": [
       "<Figure size 864x576 with 2 Axes>"
      ]
     },
     "metadata": {
      "needs_background": "light"
     },
     "output_type": "display_data"
    }
   ],
   "source": [
    "# Heatmap for Correlation\n",
    "school_corr = df[['X1TXMTSCOR', 'X1SES_U', 'X2SES_U', 'X2STUEDEXPCT', 'X2TXMTSCOR', 'X2BEHAVEIN', 'X3TCREDTOT', \n",
    "                   'X3TGPAACAD', 'X3TAGPA09', 'S1HRACTIVITY', 'S1GOODGRADES', 'X3TGPATOT']].corr()\n",
    "plt.figure(figsize=(12,8))\n",
    "sns.heatmap(school_corr, cmap=\"Blues\", annot=True)"
   ]
  },
  {
   "cell_type": "markdown",
   "id": "455f1765-d395-42a6-b54a-df10b8992a31",
   "metadata": {},
   "source": [
    "The GPA target is highly correlated with other GPA variables as expected. "
   ]
  },
  {
   "cell_type": "code",
   "execution_count": 16,
   "id": "ccb60b2e-39c0-4151-8830-7f49a5868c6f",
   "metadata": {},
   "outputs": [
    {
     "data": {
      "image/png": "[encoded data removed]",
      "text/plain": [
       "<Figure size 432x288 with 1 Axes>"
      ]
     },
     "metadata": {
      "needs_background": "light"
     },
     "output_type": "display_data"
    }
   ],
   "source": [
    "# Violin Plot for Sex and Race on GPA\n",
    "\n",
    "v_plot = sns.violinplot(data=df, x='X1RACE', y='X3TGPATOT', hue='X1SEX')\n",
    "leg = v_plot.legend()\n",
    "leg.get_texts()[0].set_text('Male')\n",
    "leg.get_texts()[1].set_text('Female')\n",
    "v_plot.set_xticklabels([\"Amer. Indian\", \"Asian\", \"Black\", \"Hispanic\", \"Multi-racial\", \"N. Hawaiian/P. Isl\", \"White\"])\n",
    "plt.xticks(rotation=90)\n",
    "plt.show()"
   ]
  },
  {
   "cell_type": "markdown",
   "id": "5c46aadf-9d44-48b8-ae7d-942b178a9eb7",
   "metadata": {},
   "source": [
    "## Classification/Prediction Variables - Explaining Target Variables "
   ]
  },
  {
   "cell_type": "markdown",
   "id": "81d1986a-ce9b-48c3-a0a3-679bebe97600",
   "metadata": {},
   "source": [
    "For the purposes of our initial analysis we look at:    \n",
    "- X3EVERDROP - Binary variable indicating if the student ever dropped off or not.\n",
    "- We will use this for classification purposed\n",
    "- 0 = No known dropout episode; 1 = At least one known dropout episode\n",
    "- X3TGPATOT - overall GPA of the student as of 2013 when a typical student would have graduated from High School"
   ]
  },
  {
   "cell_type": "code",
   "execution_count": 17,
   "id": "b3bdbcd5-5828-47fe-a20e-cb32334a16bf",
   "metadata": {},
   "outputs": [
    {
     "data": {
      "text/plain": [
       "<AxesSubplot:xlabel='X3EVERDROP', ylabel='count'>"
      ]
     },
     "execution_count": 17,
     "metadata": {},
     "output_type": "execute_result"
    },
    {
     "data": {
      "image/png": "[encoded data removed]",
      "text/plain": [
       "<Figure size 432x288 with 1 Axes>"
      ]
     },
     "metadata": {
      "needs_background": "light"
     },
     "output_type": "display_data"
    }
   ],
   "source": [
    "# we are generating count plot to see if the classe sizes are similar\n",
    "sns.countplot(data=df, x='X3EVERDROP')"
   ]
  },
  {
   "cell_type": "markdown",
   "id": "89f9fa80-eb8e-41b4-8213-b0b42ba86973",
   "metadata": {},
   "source": [
    ">We notice a huge class imbalance - hence we will perform resampling methods while doing the classification to generate efficient classifiers"
   ]
  },
  {
   "cell_type": "code",
   "execution_count": 18,
   "id": "831f55f5-1aa1-403e-b061-d56f677cecc0",
   "metadata": {},
   "outputs": [
    {
     "data": {
      "text/plain": [
       "<AxesSubplot:xlabel='X3TGPATOT', ylabel='X3EVERDROP'>"
      ]
     },
     "execution_count": 18,
     "metadata": {},
     "output_type": "execute_result"
    },
    {
     "data": {
      "image/png": "[encoded data removed]",
      "text/plain": [
       "<Figure size 432x288 with 1 Axes>"
      ]
     },
     "metadata": {
      "needs_background": "light"
     },
     "output_type": "display_data"
    }
   ],
   "source": [
    "# we are generating histogram for the overall GPA continuous variable\n",
    "sns.boxplot(data=df, x='X3TGPATOT', y='X3EVERDROP')"
   ]
  },
  {
   "cell_type": "code",
   "execution_count": 19,
   "id": "a344fbc6-d4bd-4b1c-9488-9aa9ed0c97a4",
   "metadata": {},
   "outputs": [
    {
     "data": {
      "text/plain": [
       "count    17762.00000\n",
       "mean         2.80503\n",
       "std          0.79517\n",
       "min          0.25000\n",
       "25%          2.50000\n",
       "50%          3.00000\n",
       "75%          3.50000\n",
       "max          4.00000\n",
       "Name: X3TGPATOT, dtype: float64"
      ]
     },
     "execution_count": 19,
     "metadata": {},
     "output_type": "execute_result"
    }
   ],
   "source": [
    "df['X3TGPATOT'].describe()"
   ]
  },
  {
   "cell_type": "markdown",
   "id": "66060a47-1926-4ca3-9f28-24fd1c08266b",
   "metadata": {},
   "source": [
    ">The mean GPA is around 2.8 - just above average scores. As expected - individuals who never droped out score higher than those who had a history of droping out of school"
   ]
  },
  {
   "cell_type": "markdown",
   "id": "95559301-3954-4e4f-83f5-bebb8acca4d1",
   "metadata": {},
   "source": [
    "## Project Questions"
   ]
  },
  {
   "cell_type": "markdown",
   "id": "a90c6f6e",
   "metadata": {},
   "source": [
    "1. How can we identify the key factors that influence graduation rates in a high school setting using predictive machine learning techniques?\n",
    "    - Target Variable: X3EVERDROP (Classification) and X3TGPATOT (Prediction)\n",
    "    - Features: Student Demographic Characteristics, SES, High School Scores \n",
    "2. In what ways do certain communities and regions experience barriers to achieving educational attainment, and what steps can we take to address these disparities?\n",
    "    - Target Variable: X3EVERDROP, X3TGPATOT\n",
    "    - We will report how students belonging to different race communitues and socio-economic status face barriers to education by analyzing results of our shortlisted classification model(ie accuracy) and prediction model (ie precision and fit), for the above target variables "
   ]
  },
  {
   "cell_type": "markdown",
   "id": "aacb9921",
   "metadata": {},
   "source": [
    "## Pre-Liminary Test"
   ]
  },
  {
   "cell_type": "code",
   "execution_count": 20,
   "id": "23054d90-3418-4358-8a3c-06ee6f977d7b",
   "metadata": {},
   "outputs": [],
   "source": [
    "seed = 4"
   ]
  },
  {
   "cell_type": "code",
   "execution_count": 21,
   "id": "271566bd-3ee6-4f5c-afa2-0b610f7a8f9d",
   "metadata": {
    "tags": []
   },
   "outputs": [],
   "source": [
    "# Removing X4 X5 Vars\n",
    "x4x5 = []\n",
    "for c in df.columns:\n",
    "    if c[:2] == 'X4' or c[:2] == 'X5':\n",
    "        x4x5.append(c)\n",
    "df = df.drop(x4x5, axis=1)"
   ]
  },
  {
   "cell_type": "markdown",
   "id": "274b0cd4-42b3-4ba8-b01a-8e07bf9efbe7",
   "metadata": {},
   "source": [
    "Since both target variables are in X3, any variables in X4 and X5, which are taken after the X3 period, are irrelvant to predicting or classifying the target X3 values."
   ]
  },
  {
   "cell_type": "code",
   "execution_count": 22,
   "id": "735ded2e-6278-4804-a5f3-f73893c78f61",
   "metadata": {},
   "outputs": [],
   "source": [
    "#Generating the list categorical variables in the new data frame\n",
    "cat_type_x4x5 = []\n",
    "for c in cat_type:\n",
    "    if c[:2] == 'X4' or c[:2] == 'X5':\n",
    "        cat_type_x4x5.append(c)\n",
    "cat_type_x1x2x3 = list(set(cat_type)-set(cat_type_x4x5))\n",
    "cat_type_x1x2x3 = list(set(cat_type_x1x2x3)-set(['X3EVERDROP']))\n",
    "target_type = []"
   ]
  },
  {
   "cell_type": "code",
   "execution_count": 23,
   "id": "1c73b92e-7e02-4166-9a0c-9e74ddfba13f",
   "metadata": {},
   "outputs": [],
   "source": [
    "#Generating the list of numerical variables in the new data frame\n",
    "cols = df.columns.tolist()\n",
    "num_type_x1x2x3 = list(set(cols)-set(cat_type_x1x2x3)-set(['X3EVERDROP', 'X3TGPATOT', 'STU_ID', 'X2UNIV1', 'X2UNIV2A', 'X2UNIV2B', \n",
    "                                                           'X3UNIV1', 'W1STUDENT', 'W2STUDENT', 'W3STUDENT','X1TESTSTAT', 'X1SQSTAT', \n",
    "                                                           'X2TESTSTAT', 'X2SQSTAT', 'X3SQSTAT', 'W4STUDENT']))"
   ]
  },
  {
   "cell_type": "code",
   "execution_count": 24,
   "id": "e56b29c6-b55b-49b6-b1d2-46c405fcfc53",
   "metadata": {},
   "outputs": [],
   "source": [
    "#Generating dummies for all categorical variables\n",
    "pd_dummy = pd.get_dummies(data=df[cat_type_x1x2x3])\n",
    "df_new = pd.concat([df,pd_dummy],axis=1).drop(columns=cat_type_x1x2x3)\n",
    "\n",
    "y = df_new['X3EVERDROP']\n",
    "X = df_new.copy()\n",
    "X = X.drop(['X3EVERDROP', 'X3TGPATOT', 'STU_ID', 'X2UNIV1', 'X2UNIV2A', 'X2UNIV2B', 'X3UNIV1', 'W1STUDENT', 'W2STUDENT', 'W3STUDENT',\n",
    "           'X1TESTSTAT', 'X1SQSTAT', 'X2TESTSTAT', 'X2SQSTAT', 'X3SQSTAT', 'W4STUDENT'], axis=1)\n",
    "\n",
    "\n",
    "#Train and test split\n",
    "X_train, X_test, y_train, y_test = train_test_split(X, y, test_size=0.25, random_state=seed)\n"
   ]
  },
  {
   "cell_type": "code",
   "execution_count": 25,
   "id": "ccdf740c-c209-488e-b583-4da21939e4f9",
   "metadata": {},
   "outputs": [
    {
     "data": {
      "text/plain": [
       "array([[-2.19095443,  0.04224816, -0.35739505, ...,  0.31176232,\n",
       "         0.53384032, -2.01677551],\n",
       "       [-1.54350548,  0.04224816,  2.46150665, ...,  0.31176232,\n",
       "         0.53384032,  0.60417956],\n",
       "       [ 1.04629034, -0.59451974, -1.06212047, ..., -2.31564009,\n",
       "         0.53384032, -0.0828705 ],\n",
       "       ...,\n",
       "       [-0.24860757,  2.58931975, -1.06212047, ..., -0.21371816,\n",
       "        -1.81566257, -0.75111448],\n",
       "       [-0.24860757, -0.59451974,  0.34733038, ...,  0.31176232,\n",
       "         0.53384032,  0.18121231],\n",
       "       [-0.24860757, -0.59451974, -1.06212047, ..., -0.21371816,\n",
       "        -0.64595297, -0.02111756]])"
      ]
     },
     "execution_count": 25,
     "metadata": {},
     "output_type": "execute_result"
    }
   ],
   "source": [
    "#standardising numerical variables in X_train \n",
    "scaler = StandardScaler()\n",
    "scaler.fit_transform(X_train[list(set(num_type_x1x2x3)-set(['X3TGPATOT']))])\n"
   ]
  },
  {
   "cell_type": "code",
   "execution_count": 26,
   "id": "de7c136b-3c1c-4550-9465-bfcfa2938c32",
   "metadata": {},
   "outputs": [
    {
     "name": "stdout",
     "output_type": "stream",
     "text": [
      "                          precision    recall  f1-score   support\n",
      "\n",
      "       Never Dropped Out      0.932     0.984     0.957      4019\n",
      "Dropped Out Atleast Once      0.675     0.320     0.434       422\n",
      "\n",
      "                accuracy                          0.921      4441\n",
      "               macro avg      0.804     0.652     0.696      4441\n",
      "            weighted avg      0.908     0.921     0.908      4441\n",
      "\n"
     ]
    },
    {
     "data": {
      "image/png": "[encoded data removed]",
      "text/plain": [
       "<Figure size 432x288 with 2 Axes>"
      ]
     },
     "metadata": {
      "needs_background": "light"
     },
     "output_type": "display_data"
    }
   ],
   "source": [
    "#logsitic regression\n",
    "lr = LogisticRegression(max_iter=1000)\n",
    "lr.fit(X_train, y_train)\n",
    "lr_pred = lr.predict(X_test)\n",
    "\n",
    "cm_lr = confusion_matrix(y_test, lr_pred)\n",
    "display_cm_lr = ConfusionMatrixDisplay(confusion_matrix=cm_lr,display_labels=['Never Dropped Out','Dropped Out Atleast Once'])\n",
    "display_cm_lr.plot()\n",
    "\n",
    "\n",
    "print(classification_report(y_test, lr_pred, digits=3, target_names=['Never Dropped Out','Dropped Out Atleast Once']))"
   ]
  },
  {
   "cell_type": "markdown",
   "id": "85795fa3-04bf-4657-86f4-68afeb46bbc9",
   "metadata": {},
   "source": [
    "As can be seen from classification report and confusion matrix display - the classifier is decent from 'Never Dropped Out' class, bu works terribly for 'Dropped out Atleast Once' class. Hence in later models we perform resampling and tuning to make our classifyer to have higher accuracy."
   ]
  },
  {
   "cell_type": "markdown",
   "id": "a3315044-b21a-43b9-947f-55830af9e7b9",
   "metadata": {},
   "source": [
    "---\n",
    "## Appendix"
   ]
  },
  {
   "cell_type": "markdown",
   "id": "82d8ff3e",
   "metadata": {
    "tags": []
   },
   "source": [
    "#### Student demographic charactersitics"
   ]
  },
  {
   "cell_type": "code",
   "execution_count": 27,
   "id": "3196f635",
   "metadata": {
    "scrolled": true,
    "tags": []
   },
   "outputs": [
    {
     "data": {
      "text/plain": [
       "1    8908\n",
       "2    8854\n",
       "Name: X1SEX, dtype: int64"
      ]
     },
     "execution_count": 27,
     "metadata": {},
     "output_type": "execute_result"
    }
   ],
   "source": [
    "df['X1SEX'].value_counts()"
   ]
  },
  {
   "cell_type": "markdown",
   "id": "05528e7a-b083-4ae2-8a18-db0bbeae21f0",
   "metadata": {},
   "source": [
    " 1= Male\n",
    " 2 = Female"
   ]
  },
  {
   "cell_type": "code",
   "execution_count": 28,
   "id": "012017ce",
   "metadata": {
    "scrolled": true
   },
   "outputs": [
    {
     "data": {
      "text/plain": [
       "8    10006\n",
       "4     2792\n",
       "3     1802\n",
       "6     1547\n",
       "2     1414\n",
       "1      117\n",
       "7       84\n",
       "Name: X1RACE, dtype: int64"
      ]
     },
     "execution_count": 28,
     "metadata": {},
     "output_type": "execute_result"
    }
   ],
   "source": [
    "df['X1RACE'].value_counts()"
   ]
  },
  {
   "cell_type": "markdown",
   "id": "aa38c349",
   "metadata": {},
   "source": [
    "\n",
    "\n",
    "1                   Amer. Indian/Alaska Native, non-Hispanic                  \n",
    "2                   Asian, non-Hispanic                                     \n",
    "3                   Black/African-American, non-Hispanic                    \n",
    "4                   Hispanic, no race specified  and Hispanic, race specified                                                                   \n",
    "6                   More than one race, non-Hispanic                        \n",
    "7                   Native Hawaiian/Pacific Islander, non-Hispanic        \n",
    "8                   White, non-Hispanic "
   ]
  },
  {
   "cell_type": "markdown",
   "id": "ee46a77c",
   "metadata": {},
   "source": [
    "We only keep X1RACE as it provides us with all the information"
   ]
  },
  {
   "cell_type": "markdown",
   "id": "2c2b2f31",
   "metadata": {},
   "source": [
    "#### Student Math scores"
   ]
  },
  {
   "cell_type": "code",
   "execution_count": 29,
   "id": "132d350f",
   "metadata": {},
   "outputs": [
    {
     "data": {
      "text/plain": [
       "<AxesSubplot:xlabel='X1TXMTSCOR', ylabel='Count'>"
      ]
     },
     "execution_count": 29,
     "metadata": {},
     "output_type": "execute_result"
    },
    {
     "data": {
      "image/png": "[encoded data removed]",
      "text/plain": [
       "<Figure size 432x288 with 1 Axes>"
      ]
     },
     "metadata": {
      "needs_background": "light"
     },
     "output_type": "display_data"
    }
   ],
   "source": [
    "sns.histplot(data=df, x='X1TXMTSCOR')"
   ]
  },
  {
   "cell_type": "code",
   "execution_count": 30,
   "id": "204070fe",
   "metadata": {},
   "outputs": [
    {
     "data": {
      "text/plain": [
       "<AxesSubplot:xlabel='X2TXMTSCOR', ylabel='Count'>"
      ]
     },
     "execution_count": 30,
     "metadata": {},
     "output_type": "execute_result"
    },
    {
     "data": {
      "image/png": "[encoded data removed]",
      "text/plain": [
       "<Figure size 432x288 with 1 Axes>"
      ]
     },
     "metadata": {
      "needs_background": "light"
     },
     "output_type": "display_data"
    }
   ],
   "source": [
    "sns.histplot(data=df, x='X2TXMTSCOR')"
   ]
  },
  {
   "cell_type": "markdown",
   "id": "9bd27afe",
   "metadata": {},
   "source": [
    "We drop X1TXMTH and X2TXMTH because the standardised form of the score is a more readable column"
   ]
  },
  {
   "cell_type": "markdown",
   "id": "d3c8a9c1",
   "metadata": {},
   "source": [
    "#### Parent demographic characteristics"
   ]
  },
  {
   "cell_type": "markdown",
   "id": "93308f98",
   "metadata": {},
   "source": [
    "We notice that columns related to parents have many missing - as high as 40% are missing, hence we drop these columns"
   ]
  },
  {
   "cell_type": "code",
   "execution_count": 31,
   "id": "1a0971c8",
   "metadata": {},
   "outputs": [
    {
     "data": {
      "text/plain": [
       "4     6188\n",
       "5     3998\n",
       "3     3661\n",
       "6     1753\n",
       "2      964\n",
       "7      674\n",
       "8      306\n",
       "9      119\n",
       "10      55\n",
       "11      44\n",
       "Name: X1HHNUMBER, dtype: int64"
      ]
     },
     "execution_count": 31,
     "metadata": {},
     "output_type": "execute_result"
    }
   ],
   "source": [
    "df['X1HHNUMBER'].value_counts()"
   ]
  },
  {
   "cell_type": "code",
   "execution_count": 32,
   "id": "9ad9a54a",
   "metadata": {},
   "outputs": [
    {
     "data": {
      "text/plain": [
       "4     5458\n",
       "3     4516\n",
       "5     3533\n",
       "6     1724\n",
       "2     1343\n",
       "7      686\n",
       "8      283\n",
       "9      118\n",
       "10      53\n",
       "11      48\n",
       "Name: X2HHNUMBER, dtype: int64"
      ]
     },
     "execution_count": 32,
     "metadata": {},
     "output_type": "execute_result"
    }
   ],
   "source": [
    "df['X2HHNUMBER'].value_counts()"
   ]
  },
  {
   "cell_type": "markdown",
   "id": "4fd9334e",
   "metadata": {},
   "source": [
    "We had quite a few number of missing in X1HHNUMBER - we impute these values from the later panel variable X2HHNUMBER. Since the time between the two panels is 3 years only 2009-2012, we don't expect much changes in the HH numbers"
   ]
  },
  {
   "cell_type": "markdown",
   "id": "2d0aa358",
   "metadata": {},
   "source": [
    "#### Family economic and socio economic characteristics"
   ]
  },
  {
   "cell_type": "code",
   "execution_count": 33,
   "id": "9ae46201",
   "metadata": {},
   "outputs": [
    {
     "data": {
      "text/plain": [
       "<AxesSubplot:xlabel='X1SES_U', ylabel='Count'>"
      ]
     },
     "execution_count": 33,
     "metadata": {},
     "output_type": "execute_result"
    },
    {
     "data": {
      "image/png": "[encoded data removed]",
      "text/plain": [
       "<Figure size 432x288 with 1 Axes>"
      ]
     },
     "metadata": {
      "needs_background": "light"
     },
     "output_type": "display_data"
    }
   ],
   "source": [
    "sns.histplot(data=df, x='X1SES_U')"
   ]
  },
  {
   "cell_type": "code",
   "execution_count": 34,
   "id": "63eb6fec",
   "metadata": {
    "scrolled": true
   },
   "outputs": [
    {
     "data": {
      "text/plain": [
       "<AxesSubplot:xlabel='X2SES_U', ylabel='Count'>"
      ]
     },
     "execution_count": 34,
     "metadata": {},
     "output_type": "execute_result"
    },
    {
     "data": {
      "image/png": "[encoded data removed]",
      "text/plain": [
       "<Figure size 432x288 with 1 Axes>"
      ]
     },
     "metadata": {
      "needs_background": "light"
     },
     "output_type": "display_data"
    }
   ],
   "source": [
    "sns.histplot(data=df, x='X2SES_U')"
   ]
  },
  {
   "cell_type": "markdown",
   "id": "63348370",
   "metadata": {},
   "source": [
    "The SES [SES_U] provide a single value taking the average calculated using parent/guardians' education (X1PAR1EDU and X1PAR2EDU), occupation (X1PAR1OCC2 and X1PAR2OCC2), family income (X1FAMINCOME) and [school urbanicity (X1LOCALE)]\n",
    "\n",
    "Since parent characteristics info and economic measures are included in SES_U we drop other variables including poverty variable as it is correlated to family income"
   ]
  },
  {
   "cell_type": "markdown",
   "id": "e11426d5",
   "metadata": {},
   "source": [
    "#### Perception of student occupation at age 30"
   ]
  },
  {
   "cell_type": "code",
   "execution_count": 35,
   "id": "ad1288fa",
   "metadata": {
    "scrolled": true
   },
   "outputs": [
    {
     "name": "stdout",
     "output_type": "stream",
     "text": [
      "0     11456\n",
      "4      3690\n",
      "1      1472\n",
      "-8      539\n",
      "5       357\n",
      "6       248\n",
      "Name: X1STU30OCC_STEM1, dtype: int64\n",
      "\n",
      "\n"
     ]
    }
   ],
   "source": [
    "l = ['X1STU30OCC_STEM1']\n",
    "for i in l:    \n",
    "    print(df[i].value_counts())\n",
    "    print('\\n')"
   ]
  },
  {
   "cell_type": "code",
   "execution_count": 36,
   "id": "0936d022",
   "metadata": {},
   "outputs": [
    {
     "name": "stdout",
     "output_type": "stream",
     "text": [
      "0     11120\n",
      "4      4050\n",
      "1      1654\n",
      "5       528\n",
      "-8      361\n",
      "6        49\n",
      "Name: X2STU30OCC_STEM1, dtype: int64\n",
      "\n",
      "\n"
     ]
    }
   ],
   "source": [
    "l = [ 'X2STU30OCC_STEM1']\n",
    "for i in l:    \n",
    "    print(df[i].value_counts())\n",
    "    print('\\n')"
   ]
  },
  {
   "cell_type": "markdown",
   "id": "ab0d522b",
   "metadata": {},
   "source": [
    "We are dropping the X1STU30OCC2 (X2STU30OCC2 for later panel) variable and instead keeping the X1STU30OCC_STEM1 (X2STU30OCC_STEM1 for later panel) variable. The former gives a list of all the various groups of industries that the child sees themselves in at age 30 - however, to make the analysis more specific, for the study we are interested in how their perception of being in a STEM industry affects graduation rate."
   ]
  },
  {
   "cell_type": "markdown",
   "id": "9b407bd4",
   "metadata": {},
   "source": [
    "#### School charcteristics"
   ]
  },
  {
   "cell_type": "code",
   "execution_count": 37,
   "id": "4330b3f1",
   "metadata": {
    "scrolled": true
   },
   "outputs": [
    {
     "name": "stdout",
     "output_type": "stream",
     "text": [
      "1    14418\n",
      "2     3344\n",
      "Name: X1CONTROL, dtype: int64\n",
      "\n",
      "\n",
      "2    6279\n",
      "1    5027\n",
      "4    4306\n",
      "3    2150\n",
      "Name: X1LOCALE, dtype: int64\n",
      "\n",
      "\n",
      "3    7238\n",
      "2    4789\n",
      "4    2965\n",
      "1    2770\n",
      "Name: X1REGION, dtype: int64\n",
      "\n",
      "\n"
     ]
    }
   ],
   "source": [
    "l = ['X1CONTROL', 'X1LOCALE', 'X1REGION']\n",
    "for i in l:\n",
    "    print(df[i].value_counts())\n",
    "    print('\\n')"
   ]
  },
  {
   "cell_type": "code",
   "execution_count": 38,
   "id": "3f227a00",
   "metadata": {},
   "outputs": [
    {
     "name": "stdout",
     "output_type": "stream",
     "text": [
      "1    14703\n",
      "2     3059\n",
      "Name: X2CONTROL, dtype: int64\n",
      "\n",
      "\n",
      "2    5304\n",
      "4    5193\n",
      "1    4971\n",
      "3    2294\n",
      "Name: X2LOCALE, dtype: int64\n",
      "\n",
      "\n",
      "3    7262\n",
      "2    4774\n",
      "4    2958\n",
      "1    2768\n",
      "Name: X2REGION, dtype: int64\n",
      "\n",
      "\n"
     ]
    }
   ],
   "source": [
    "l = ['X2CONTROL', 'X2LOCALE', 'X2REGION']\n",
    "for i in l:\n",
    "    print(df[i].value_counts())\n",
    "    print('\\n')"
   ]
  },
  {
   "cell_type": "code",
   "execution_count": 39,
   "id": "cbfcbd89",
   "metadata": {},
   "outputs": [
    {
     "name": "stdout",
     "output_type": "stream",
     "text": [
      "1    14728\n",
      "2     3034\n",
      "Name: X3CONTROL, dtype: int64\n",
      "\n",
      "\n",
      "2    5338\n",
      "4    5157\n",
      "1    4971\n",
      "3    2296\n",
      "Name: X3LOCALE, dtype: int64\n",
      "\n",
      "\n",
      "3    7260\n",
      "2    4780\n",
      "4    2958\n",
      "1    2764\n",
      "Name: X3REGION, dtype: int64\n",
      "\n",
      "\n"
     ]
    }
   ],
   "source": [
    "l = ['X3CONTROL', 'X3LOCALE', 'X3REGION']\n",
    "for i in l:\n",
    "    print(df[i].value_counts())\n",
    "    print('\\n')"
   ]
  },
  {
   "cell_type": "markdown",
   "id": "2c4e1f7e-a5bc-44a2-9f09-01c779029b0a",
   "metadata": {},
   "source": [
    "CONTROL, LOCALE and REGION are variables giving information about the school location attended by the students. For the missing in later panel variables we impute from the base year data."
   ]
  },
  {
   "cell_type": "markdown",
   "id": "270fd066",
   "metadata": {},
   "source": [
    "#### Student enrollment status"
   ]
  },
  {
   "cell_type": "code",
   "execution_count": 40,
   "id": "3149cf75",
   "metadata": {},
   "outputs": [
    {
     "name": "stdout",
     "output_type": "stream",
     "text": [
      "1    14958\n",
      "2     2103\n",
      "5      353\n",
      "3      194\n",
      "4      154\n",
      "Name: X2ENROLSTAT, dtype: int64\n",
      "\n",
      "\n",
      "0    16351\n",
      "1     1411\n",
      "Name: X2EVERDROP, dtype: int64\n",
      "\n",
      "\n",
      "0    16351\n",
      "3      942\n",
      "1      353\n",
      "2      116\n",
      "Name: X2DROPSTAT, dtype: int64\n",
      "\n",
      "\n"
     ]
    }
   ],
   "source": [
    "l = ['X2ENROLSTAT', 'X2EVERDROP', 'X2DROPSTAT']\n",
    "for i in l:\n",
    "    print(df[i].value_counts())\n",
    "    print('\\n')"
   ]
  },
  {
   "cell_type": "markdown",
   "id": "8b639014",
   "metadata": {},
   "source": [
    "'X2ENROLSTAT', 'X2ENRSTATSCH' are enrollment status at 2012 when most sample will be in the spring semester of their 11th grade. Of these two, X2ENROLSTAT is most comprehensive so retaining that.\n",
    "\n",
    "'X2EVERDROP', 'X2DROPSTAT' provide status of dropout in spring 2012. Of these two X2DROPSTAT is most comprehensive. However, we will still retain X2EVERDROP as it is a binary binary variable indicating if the student has ever dropped out which is useful in classification"
   ]
  },
  {
   "cell_type": "code",
   "execution_count": 41,
   "id": "03b8fe5f",
   "metadata": {},
   "outputs": [
    {
     "name": "stdout",
     "output_type": "stream",
     "text": [
      "0     14202\n",
      "-8     2770\n",
      "7       273\n",
      "8       196\n",
      "4       186\n",
      "1       135\n",
      "Name: X3DROPOUTTIME, dtype: int64\n",
      "\n",
      "\n",
      "0     12933\n",
      "-8     3271\n",
      "3       737\n",
      "1       451\n",
      "2       370\n",
      "Name: X3DROPSTAT, dtype: int64\n",
      "\n",
      "\n",
      "0    16020\n",
      "1     1742\n",
      "Name: X3EVERDROP, dtype: int64\n",
      "\n",
      "\n"
     ]
    }
   ],
   "source": [
    "l = ['X3DROPOUTTIME', 'X3DROPSTAT', 'X3EVERDROP']\n",
    "for i in l:\n",
    "    print(df[i].value_counts())\n",
    "    print('\\n')"
   ]
  },
  {
   "cell_type": "markdown",
   "id": "2e8f9db0",
   "metadata": {},
   "source": [
    "X3DROPOUTTIME tells the years when the student dropped out as of 2013, with missing as -8 and -9. Relabelling -8 and -9 for 'unknown'.\n",
    "X3DROPSTAT tells more details about the dropout status as of 2013 (with 4 being unknown and -8 as missing). Convert 4 to -8 to relabel as 'unknown'. \n",
    "EVERDROP is binary - dropping out or not as of 2013. This is retained as it is"
   ]
  },
  {
   "cell_type": "markdown",
   "id": "6e787d3f",
   "metadata": {},
   "source": [
    "#### Parent relation information"
   ]
  },
  {
   "cell_type": "markdown",
   "id": "de79c0ac",
   "metadata": {},
   "source": [
    "As we have done before - we are dropping this variable about parents which tells if the parent is the same across different panels. Since there are a lot of missing and we can't impute from other colums. Additionally the SES_U variables anyway capture information about parents education, occupation etc."
   ]
  },
  {
   "cell_type": "markdown",
   "id": "c5e67575",
   "metadata": {},
   "source": [
    "#### Number of High Schools"
   ]
  },
  {
   "cell_type": "markdown",
   "id": "343715b4",
   "metadata": {},
   "source": [
    "This variable gives us the number of highschools attended by student by spring of 2012"
   ]
  },
  {
   "cell_type": "code",
   "execution_count": 42,
   "id": "aca228a6",
   "metadata": {
    "scrolled": true
   },
   "outputs": [
    {
     "data": {
      "text/plain": [
       "1    15007\n",
       "2     2308\n",
       "3      404\n",
       "4       43\n",
       "Name: X2NUMHS, dtype: int64"
      ]
     },
     "execution_count": 42,
     "metadata": {},
     "output_type": "execute_result"
    }
   ],
   "source": [
    "df['X2NUMHS'].value_counts()"
   ]
  },
  {
   "cell_type": "markdown",
   "id": "7e88340a",
   "metadata": {},
   "source": [
    "#### University information"
   ]
  },
  {
   "cell_type": "code",
   "execution_count": 43,
   "id": "40233e88",
   "metadata": {},
   "outputs": [
    {
     "name": "stdout",
     "output_type": "stream",
     "text": [
      "1     5708\n",
      "-6    3809\n",
      "-8    3769\n",
      "2     2940\n",
      "5      573\n",
      "4      422\n",
      "3      340\n",
      "6      201\n",
      "Name: X3PROGLEVEL, dtype: int64\n",
      "\n",
      "\n",
      "-8    5934\n",
      "1     5348\n",
      "2     4065\n",
      "3     1821\n",
      "4      594\n",
      "Name: X3CLGANDWORK, dtype: int64\n",
      "\n",
      "\n"
     ]
    }
   ],
   "source": [
    "l =['X3PROGLEVEL', 'X3CLGANDWORK']\n",
    "for i in l:\n",
    "    print(df[i].value_counts())\n",
    "    print('\\n')"
   ]
  },
  {
   "cell_type": "markdown",
   "id": "0feb9a19",
   "metadata": {},
   "source": [
    "X3PROGLEVEL - tells the program levels taken by somone in in college as of 2013. 7, -8 and -9 means information is not available - recategorising these into unknown (replacing 7 and -9 with -8). -7 means N/A - retaining as it is.\n",
    "\n",
    "X3CLGANDWORK - gives information about whether the individual is at college or working or both. -8 means information not available, hence recategorising 5 - not known or undecided as -8 as well. "
   ]
  },
  {
   "cell_type": "markdown",
   "id": "744627cf",
   "metadata": {},
   "source": [
    "#### GED "
   ]
  },
  {
   "cell_type": "code",
   "execution_count": 44,
   "id": "2113ac17",
   "metadata": {},
   "outputs": [
    {
     "name": "stdout",
     "output_type": "stream",
     "text": [
      "0    17380\n",
      "1      382\n",
      "Name: X3EVERGED, dtype: int64\n",
      "\n",
      "\n"
     ]
    }
   ],
   "source": [
    "l = ['X3EVERGED']\n",
    "for i in l:\n",
    "    print(df[i].value_counts())\n",
    "    print('\\n')"
   ]
  },
  {
   "cell_type": "markdown",
   "id": "356796ad",
   "metadata": {},
   "source": [
    "X3EVERGED - tells if the if the student received a GED or its equivalent. \n",
    "X3GEDPASSED - is aboout GED alone and there are many missing or NA - hence dropping"
   ]
  },
  {
   "cell_type": "markdown",
   "id": "f3976ea6",
   "metadata": {},
   "source": [
    "#### High school completion"
   ]
  },
  {
   "cell_type": "code",
   "execution_count": 45,
   "id": "8c25317e",
   "metadata": {},
   "outputs": [
    {
     "name": "stdout",
     "output_type": "stream",
     "text": [
      "1    15661\n",
      "5      738\n",
      "4      502\n",
      "3      465\n",
      "2      396\n",
      "Name: X3HSCOMPSTAT, dtype: int64\n",
      "\n",
      "\n"
     ]
    }
   ],
   "source": [
    "l = ['X3HSCOMPSTAT']\n",
    "for i in l:\n",
    "    print(df[i].value_counts())\n",
    "    print('\\n')"
   ]
  },
  {
   "cell_type": "markdown",
   "id": "6e14d154",
   "metadata": {},
   "source": [
    "X3HSCOMPSTAT provides information HS completion status as of 2013 using transcript, GED, etc data. Similarly X3TOUTCOME also provides HS completion which more comprehensive categries. However, since there are missing in these we keep H3HSCOMPSTAT"
   ]
  },
  {
   "cell_type": "markdown",
   "id": "5a5a15d8",
   "metadata": {},
   "source": [
    "#### English language"
   ]
  },
  {
   "cell_type": "code",
   "execution_count": 46,
   "id": "01850e5c",
   "metadata": {},
   "outputs": [
    {
     "name": "stdout",
     "output_type": "stream",
     "text": [
      "0     16624\n",
      "-8      837\n",
      "1       301\n",
      "Name: X3ELLSTATUS, dtype: int64\n",
      "\n",
      "\n"
     ]
    }
   ],
   "source": [
    "l = ['X3ELLSTATUS']\n",
    "for i in l:\n",
    "    print(df[i].value_counts())\n",
    "    print('\\n')"
   ]
  },
  {
   "cell_type": "markdown",
   "id": "22909037",
   "metadata": {},
   "source": [
    "---\n",
    "\n",
    "## REFERENCES "
   ]
  },
  {
   "cell_type": "markdown",
   "id": "e1d98a4c-545c-4fb3-9f9b-29bacf3c027d",
   "metadata": {},
   "source": [
    "1. EDA Lecture 3 - Data Wrangling\n",
    "2. https://www.geeksforgeeks.org/filter-pandas-dataframe-with-multiple-conditions/#\n",
    "3. https://seaborn.pydata.org/generated/seaborn.heatmap.html\n",
    "4. https://seaborn.pydata.org/generated/seaborn.violinplot.html\n",
    "5. https://seaborn.pydata.org/generated/seaborn.catplot.html\n",
    "6. https://www.geeksforgeeks.org/how-to-replace-values-in-column-based-on-condition-in-pandas/\n",
    "7. https://pandas.pydata.org/docs/reference/api/pandas.core.groupby.DataFrameGroupBy.transform.html \n",
    "8. Exploratory Data Analysis Coursework Notes\n",
    "9. Machine Learning Lecture Slides \n",
    "10. Machine Learning Lab 3,4\n",
    "11. Split-apply-combine cheetsheet"
   ]
  },
  {
   "cell_type": "code",
   "execution_count": null,
   "id": "e8f737e4-8b00-408d-a7ee-287da7c58f5e",
   "metadata": {},
   "outputs": [],
   "source": []
  }
 ],
 "metadata": {
  "kernelspec": {
   "display_name": "Python 3 (ipykernel)",
   "language": "python",
   "name": "python3"
  },
  "language_info": {
   "codemirror_mode": {
    "name": "ipython",
    "version": 3
   },
   "file_extension": ".py",
   "mimetype": "text/x-python",
   "name": "python",
   "nbconvert_exporter": "python",
   "pygments_lexer": "ipython3",
   "version": "3.9.12"
  }
 },
 "nbformat": 4,
 "nbformat_minor": 5
}
